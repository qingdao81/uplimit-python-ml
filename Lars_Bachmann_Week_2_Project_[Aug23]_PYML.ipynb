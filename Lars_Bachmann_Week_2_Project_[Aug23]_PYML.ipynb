{
  "cells": [
    {
      "cell_type": "markdown",
      "metadata": {
        "id": "view-in-github",
        "colab_type": "text"
      },
      "source": [
        "<a href=\"https://colab.research.google.com/github/qingdao81/uplimit-python-ml/blob/main/Lars_Bachmann_Week_2_Project_%5BAug23%5D_PYML.ipynb\" target=\"_parent\"><img src=\"https://colab.research.google.com/assets/colab-badge.svg\" alt=\"Open In Colab\"/></a>"
      ]
    },
    {
      "cell_type": "markdown",
      "id": "a2040e3d-bfb8-40b8-8861-4485db413cf7",
      "metadata": {
        "id": "a2040e3d-bfb8-40b8-8861-4485db413cf7"
      },
      "source": [
        "> 1. DUPLICATE THIS COLAB TO START WORKING ON IT: Use **File** > **Save a copy in Drive**\n",
        "> 2. SHARE SETTINGS: In the new notebook, set the sharing settings to **Anyone with the link** by clicking **Share** on the top-right corner.\n",
        "\n",
        "<center>\n",
        "  <img src=https://teamleader.fra1.cdn.digitaloceanspaces.com/corporate/production/header/_1200x630_crop_center-center_75_none/HQ_Blog_TheUltimateProjectmanager_Header.png width=\"500\" align=\"center\" />\n",
        "</center>\n",
        "<br/>\n",
        "\n",
        "# Week 2: Pricing your new Airbnb listings!\n",
        "\n",
        "👋 Hello 👋 Our second week project for *Python for Machine Learning* is all about seeing if you can use the dataset to make predictions for new Airbnb listings.\n",
        "\n",
        "This week's lecture and material on Uplimit demonstrated a simple flow for how to structure small machine learning projects so that you can create your own models. Now we'll test your skills a bit with this project. At the end, you'll be able to use the model that you created as an app! Let's get started 💪💪!"
      ]
    },
    {
      "cell_type": "markdown",
      "source": [
        "## Downloading the dataset\n",
        "\n",
        "You'll need to download some prerequisite Python packages in order to run all of the code below. Let's install them!"
      ],
      "metadata": {
        "id": "rISRrL2X93Yx"
      },
      "id": "rISRrL2X93Yx"
    },
    {
      "cell_type": "code",
      "source": [
        "%%capture\n",
        "!pip install numpy streamlit gdown pandas==1.5.2 scikit-learn==1.2.0"
      ],
      "metadata": {
        "id": "JspZZKEj9ytH"
      },
      "id": "JspZZKEj9ytH",
      "execution_count": 1,
      "outputs": []
    },
    {
      "cell_type": "markdown",
      "id": "0c21b1ad-25c8-4a99-a4e0-764d568f711b",
      "metadata": {
        "id": "0c21b1ad-25c8-4a99-a4e0-764d568f711b"
      },
      "source": [
        "We will download the datasets from Google Drive just like we did last week, but this time the dataset is in [Pickle](https://pythonnumericalmethods.berkeley.edu/notebooks/chapter11.03-Pickle-Files.html)."
      ]
    },
    {
      "cell_type": "code",
      "source": [
        "import os\n",
        "import shutil\n",
        "\n",
        "import gdown\n",
        "import pandas as pd\n",
        "\n",
        "# Download file from Google Drive\n",
        "# This file is based on data from: http://insideairbnb.com/get-the-data/\n",
        "file_id = \"1KTF77Sj0kWyft9gNT3_6k84gauPA95rG\"\n",
        "downloaded_file = \"listings.pkl\"\n",
        "# Download the files from Google Drive\n",
        "gdown.download(id=file_id, output=downloaded_file)\n",
        "\n",
        "# Show all columns (instead of cascading columns in the middle)\n",
        "pd.set_option(\"display.max_columns\", None)\n",
        "# Don't show numbers in scientific notation\n",
        "pd.set_option(\"display.float_format\", \"{:.2f}\".format)"
      ],
      "metadata": {
        "id": "IC0UndnWK9M1",
        "colab": {
          "base_uri": "https://localhost:8080/",
          "height": 0
        },
        "outputId": "2463f1cf-4b82-4967-aacc-80c59d5cd499"
      },
      "id": "IC0UndnWK9M1",
      "execution_count": 2,
      "outputs": [
        {
          "output_type": "stream",
          "name": "stderr",
          "text": [
            "Downloading...\n",
            "From: https://drive.google.com/uc?id=1KTF77Sj0kWyft9gNT3_6k84gauPA95rG\n",
            "To: /content/listings.pkl\n",
            "100%|██████████| 494k/494k [00:00<00:00, 68.1MB/s]\n"
          ]
        }
      ]
    },
    {
      "cell_type": "markdown",
      "source": [
        "## Preprocessing the dataset\n",
        "Please load the downloaded file as a DataFrame (df). The method for loading these datasets is the same as what we did on the CoRise platform."
      ],
      "metadata": {
        "id": "RNofYa-GU8D2"
      },
      "id": "RNofYa-GU8D2"
    },
    {
      "cell_type": "markdown",
      "id": "4511c023-4bc6-4399-b5bf-c4977fdf1ea0",
      "metadata": {
        "id": "4511c023-4bc6-4399-b5bf-c4977fdf1ea0"
      },
      "source": [
        "#### Part 1: Read Pickle\n",
        "\n",
        "[*\\[Related section on Uplimit\\]*](https://corise.com/course/intermediate-python-for-data-science/v2/module/load-inspect-split#corise_cladmotdl002n3b6prslqdc79)\n",
        "\n",
        "Read the Python Pickle file that we've just downloaded as `df_list`."
      ]
    },
    {
      "cell_type": "code",
      "source": [
        "# Read a Python Pickle file\n",
        "df_list = pd.read_pickle(downloaded_file)"
      ],
      "metadata": {
        "id": "-nEH0subOtug"
      },
      "id": "-nEH0subOtug",
      "execution_count": 4,
      "outputs": []
    },
    {
      "cell_type": "markdown",
      "source": [
        "<details>\n",
        "<summary>Show Solution</summary>\n",
        "\n",
        "```python\n",
        "df_list = pd.read_pickle(\"listings.pkl\")\n",
        "```\n",
        "</details>"
      ],
      "metadata": {
        "id": "hTpxbTxkX1Mt"
      },
      "id": "hTpxbTxkX1Mt"
    },
    {
      "cell_type": "markdown",
      "id": "3f375704-9648-49cc-a6fc-a7f7208b476f",
      "metadata": {
        "tags": [],
        "id": "3f375704-9648-49cc-a6fc-a7f7208b476f"
      },
      "source": [
        "Now let's have a look at the **Listings DataFrame** to get a feel for how the data looks. Show the first two rows."
      ]
    },
    {
      "cell_type": "code",
      "source": [
        "# Show first two rows of the dataset\n",
        "df_list.head(2)"
      ],
      "metadata": {
        "id": "JaHn5P0_O3qT",
        "colab": {
          "base_uri": "https://localhost:8080/",
          "height": 112
        },
        "outputId": "89568e33-897a-40a0-b065-fda095155a8b"
      },
      "id": "JaHn5P0_O3qT",
      "execution_count": 5,
      "outputs": [
        {
          "output_type": "execute_result",
          "data": {
            "text/plain": [
              "         id  host_acceptance_rate            neighbourhood     room_type  \\\n",
              "0  23726716                  0.95  De Pijp - Rivierenbuurt  Private room   \n",
              "1  35815046                  1.00   De Baarsjes - Oud-West   Shared room   \n",
              "\n",
              "   price_in_dollar  amenities  accommodates  host_is_superhost  \\\n",
              "0           127.00         15             7              False   \n",
              "1            62.00         13             2              False   \n",
              "\n",
              "   has_availability  review_scores_rating  instant_bookable  \\\n",
              "0              True                  4.61             False   \n",
              "1              True                  4.38             False   \n",
              "\n",
              "   number_of_reviews_l30d  discount_per_5_days_booked  \\\n",
              "0                       3                        8.00   \n",
              "1                       6                        4.00   \n",
              "\n",
              "   discount_per_10_days_booked  discount_per_30_and_more_days_booked  \\\n",
              "0                        15.00                                 16.00   \n",
              "1                        10.00                                 16.00   \n",
              "\n",
              "   host_reported_average_tip service_cost  \n",
              "0                       1.03        $4.99  \n",
              "1                       1.26        $2.99  "
            ],
            "text/html": [
              "\n",
              "  <div id=\"df-49e314f0-5f1b-4ae2-b837-9e032b679dd0\" class=\"colab-df-container\">\n",
              "    <div>\n",
              "<style scoped>\n",
              "    .dataframe tbody tr th:only-of-type {\n",
              "        vertical-align: middle;\n",
              "    }\n",
              "\n",
              "    .dataframe tbody tr th {\n",
              "        vertical-align: top;\n",
              "    }\n",
              "\n",
              "    .dataframe thead th {\n",
              "        text-align: right;\n",
              "    }\n",
              "</style>\n",
              "<table border=\"1\" class=\"dataframe\">\n",
              "  <thead>\n",
              "    <tr style=\"text-align: right;\">\n",
              "      <th></th>\n",
              "      <th>id</th>\n",
              "      <th>host_acceptance_rate</th>\n",
              "      <th>neighbourhood</th>\n",
              "      <th>room_type</th>\n",
              "      <th>price_in_dollar</th>\n",
              "      <th>amenities</th>\n",
              "      <th>accommodates</th>\n",
              "      <th>host_is_superhost</th>\n",
              "      <th>has_availability</th>\n",
              "      <th>review_scores_rating</th>\n",
              "      <th>instant_bookable</th>\n",
              "      <th>number_of_reviews_l30d</th>\n",
              "      <th>discount_per_5_days_booked</th>\n",
              "      <th>discount_per_10_days_booked</th>\n",
              "      <th>discount_per_30_and_more_days_booked</th>\n",
              "      <th>host_reported_average_tip</th>\n",
              "      <th>service_cost</th>\n",
              "    </tr>\n",
              "  </thead>\n",
              "  <tbody>\n",
              "    <tr>\n",
              "      <th>0</th>\n",
              "      <td>23726716</td>\n",
              "      <td>0.95</td>\n",
              "      <td>De Pijp - Rivierenbuurt</td>\n",
              "      <td>Private room</td>\n",
              "      <td>127.00</td>\n",
              "      <td>15</td>\n",
              "      <td>7</td>\n",
              "      <td>False</td>\n",
              "      <td>True</td>\n",
              "      <td>4.61</td>\n",
              "      <td>False</td>\n",
              "      <td>3</td>\n",
              "      <td>8.00</td>\n",
              "      <td>15.00</td>\n",
              "      <td>16.00</td>\n",
              "      <td>1.03</td>\n",
              "      <td>$4.99</td>\n",
              "    </tr>\n",
              "    <tr>\n",
              "      <th>1</th>\n",
              "      <td>35815046</td>\n",
              "      <td>1.00</td>\n",
              "      <td>De Baarsjes - Oud-West</td>\n",
              "      <td>Shared room</td>\n",
              "      <td>62.00</td>\n",
              "      <td>13</td>\n",
              "      <td>2</td>\n",
              "      <td>False</td>\n",
              "      <td>True</td>\n",
              "      <td>4.38</td>\n",
              "      <td>False</td>\n",
              "      <td>6</td>\n",
              "      <td>4.00</td>\n",
              "      <td>10.00</td>\n",
              "      <td>16.00</td>\n",
              "      <td>1.26</td>\n",
              "      <td>$2.99</td>\n",
              "    </tr>\n",
              "  </tbody>\n",
              "</table>\n",
              "</div>\n",
              "    <div class=\"colab-df-buttons\">\n",
              "\n",
              "  <div class=\"colab-df-container\">\n",
              "    <button class=\"colab-df-convert\" onclick=\"convertToInteractive('df-49e314f0-5f1b-4ae2-b837-9e032b679dd0')\"\n",
              "            title=\"Convert this dataframe to an interactive table.\"\n",
              "            style=\"display:none;\">\n",
              "\n",
              "  <svg xmlns=\"http://www.w3.org/2000/svg\" height=\"24px\" viewBox=\"0 -960 960 960\">\n",
              "    <path d=\"M120-120v-720h720v720H120Zm60-500h600v-160H180v160Zm220 220h160v-160H400v160Zm0 220h160v-160H400v160ZM180-400h160v-160H180v160Zm440 0h160v-160H620v160ZM180-180h160v-160H180v160Zm440 0h160v-160H620v160Z\"/>\n",
              "  </svg>\n",
              "    </button>\n",
              "\n",
              "  <style>\n",
              "    .colab-df-container {\n",
              "      display:flex;\n",
              "      gap: 12px;\n",
              "    }\n",
              "\n",
              "    .colab-df-convert {\n",
              "      background-color: #E8F0FE;\n",
              "      border: none;\n",
              "      border-radius: 50%;\n",
              "      cursor: pointer;\n",
              "      display: none;\n",
              "      fill: #1967D2;\n",
              "      height: 32px;\n",
              "      padding: 0 0 0 0;\n",
              "      width: 32px;\n",
              "    }\n",
              "\n",
              "    .colab-df-convert:hover {\n",
              "      background-color: #E2EBFA;\n",
              "      box-shadow: 0px 1px 2px rgba(60, 64, 67, 0.3), 0px 1px 3px 1px rgba(60, 64, 67, 0.15);\n",
              "      fill: #174EA6;\n",
              "    }\n",
              "\n",
              "    .colab-df-buttons div {\n",
              "      margin-bottom: 4px;\n",
              "    }\n",
              "\n",
              "    [theme=dark] .colab-df-convert {\n",
              "      background-color: #3B4455;\n",
              "      fill: #D2E3FC;\n",
              "    }\n",
              "\n",
              "    [theme=dark] .colab-df-convert:hover {\n",
              "      background-color: #434B5C;\n",
              "      box-shadow: 0px 1px 3px 1px rgba(0, 0, 0, 0.15);\n",
              "      filter: drop-shadow(0px 1px 2px rgba(0, 0, 0, 0.3));\n",
              "      fill: #FFFFFF;\n",
              "    }\n",
              "  </style>\n",
              "\n",
              "    <script>\n",
              "      const buttonEl =\n",
              "        document.querySelector('#df-49e314f0-5f1b-4ae2-b837-9e032b679dd0 button.colab-df-convert');\n",
              "      buttonEl.style.display =\n",
              "        google.colab.kernel.accessAllowed ? 'block' : 'none';\n",
              "\n",
              "      async function convertToInteractive(key) {\n",
              "        const element = document.querySelector('#df-49e314f0-5f1b-4ae2-b837-9e032b679dd0');\n",
              "        const dataTable =\n",
              "          await google.colab.kernel.invokeFunction('convertToInteractive',\n",
              "                                                    [key], {});\n",
              "        if (!dataTable) return;\n",
              "\n",
              "        const docLinkHtml = 'Like what you see? Visit the ' +\n",
              "          '<a target=\"_blank\" href=https://colab.research.google.com/notebooks/data_table.ipynb>data table notebook</a>'\n",
              "          + ' to learn more about interactive tables.';\n",
              "        element.innerHTML = '';\n",
              "        dataTable['output_type'] = 'display_data';\n",
              "        await google.colab.output.renderOutput(dataTable, element);\n",
              "        const docLink = document.createElement('div');\n",
              "        docLink.innerHTML = docLinkHtml;\n",
              "        element.appendChild(docLink);\n",
              "      }\n",
              "    </script>\n",
              "  </div>\n",
              "\n",
              "\n",
              "<div id=\"df-94aeb9d0-5da9-4d42-8f81-3d6d91453bd0\">\n",
              "  <button class=\"colab-df-quickchart\" onclick=\"quickchart('df-94aeb9d0-5da9-4d42-8f81-3d6d91453bd0')\"\n",
              "            title=\"Suggest charts.\"\n",
              "            style=\"display:none;\">\n",
              "\n",
              "<svg xmlns=\"http://www.w3.org/2000/svg\" height=\"24px\"viewBox=\"0 0 24 24\"\n",
              "     width=\"24px\">\n",
              "    <g>\n",
              "        <path d=\"M19 3H5c-1.1 0-2 .9-2 2v14c0 1.1.9 2 2 2h14c1.1 0 2-.9 2-2V5c0-1.1-.9-2-2-2zM9 17H7v-7h2v7zm4 0h-2V7h2v10zm4 0h-2v-4h2v4z\"/>\n",
              "    </g>\n",
              "</svg>\n",
              "  </button>\n",
              "\n",
              "<style>\n",
              "  .colab-df-quickchart {\n",
              "    background-color: #E8F0FE;\n",
              "    border: none;\n",
              "    border-radius: 50%;\n",
              "    cursor: pointer;\n",
              "    display: none;\n",
              "    fill: #1967D2;\n",
              "    height: 32px;\n",
              "    padding: 0 0 0 0;\n",
              "    width: 32px;\n",
              "  }\n",
              "\n",
              "  .colab-df-quickchart:hover {\n",
              "    background-color: #E2EBFA;\n",
              "    box-shadow: 0px 1px 2px rgba(60, 64, 67, 0.3), 0px 1px 3px 1px rgba(60, 64, 67, 0.15);\n",
              "    fill: #174EA6;\n",
              "  }\n",
              "\n",
              "  [theme=dark] .colab-df-quickchart {\n",
              "    background-color: #3B4455;\n",
              "    fill: #D2E3FC;\n",
              "  }\n",
              "\n",
              "  [theme=dark] .colab-df-quickchart:hover {\n",
              "    background-color: #434B5C;\n",
              "    box-shadow: 0px 1px 3px 1px rgba(0, 0, 0, 0.15);\n",
              "    filter: drop-shadow(0px 1px 2px rgba(0, 0, 0, 0.3));\n",
              "    fill: #FFFFFF;\n",
              "  }\n",
              "</style>\n",
              "\n",
              "  <script>\n",
              "    async function quickchart(key) {\n",
              "      const charts = await google.colab.kernel.invokeFunction(\n",
              "          'suggestCharts', [key], {});\n",
              "    }\n",
              "    (() => {\n",
              "      let quickchartButtonEl =\n",
              "        document.querySelector('#df-94aeb9d0-5da9-4d42-8f81-3d6d91453bd0 button');\n",
              "      quickchartButtonEl.style.display =\n",
              "        google.colab.kernel.accessAllowed ? 'block' : 'none';\n",
              "    })();\n",
              "  </script>\n",
              "</div>\n",
              "    </div>\n",
              "  </div>\n"
            ]
          },
          "metadata": {},
          "execution_count": 5
        }
      ]
    },
    {
      "cell_type": "markdown",
      "source": [
        "<details>\n",
        "<summary>Show Solution</summary>\n",
        "\n",
        "```python\n",
        "df_list.head(2)\n",
        "```\n",
        "</details>"
      ],
      "metadata": {
        "id": "KL80d9COYEr2"
      },
      "id": "KL80d9COYEr2"
    },
    {
      "cell_type": "markdown",
      "source": [
        "Awesome! Our next step is to get an overview of the columns that are in this particular DataFrame 🧐."
      ],
      "metadata": {
        "id": "cP2eVhs0L0Gq"
      },
      "id": "cP2eVhs0L0Gq"
    },
    {
      "cell_type": "markdown",
      "id": "38b21f27-24ea-4622-8c2a-c4bb065b5d4e",
      "metadata": {
        "id": "38b21f27-24ea-4622-8c2a-c4bb065b5d4e"
      },
      "source": [
        "#### Part 2: Print column names, types, and non-null values\n",
        "\n",
        "[*\\[Related section on Uplimit\\]*](https://corise.com/course/intermediate-python-for-data-science/v2/module/load-inspect-split#corise_clb3u2c68004t3b6p9rsnvsfm)\n",
        "\n",
        "Let's try and get an overview of the **Listings DataFrame**, called `df_list`, with the [`info()`](https://pandas.pydata.org/pandas-docs/stable/reference/api/pandas.DataFrame.info.html) command. This should show us some details about the columns in the DataFrame, like the column names, their data types, and the number of non-null values."
      ]
    },
    {
      "cell_type": "code",
      "source": [
        "df_list.info()"
      ],
      "metadata": {
        "id": "fy0TfpzJO9NE",
        "colab": {
          "base_uri": "https://localhost:8080/"
        },
        "outputId": "b91e8d90-afda-4241-cd6d-7bdbced02ad3"
      },
      "id": "fy0TfpzJO9NE",
      "execution_count": 6,
      "outputs": [
        {
          "output_type": "stream",
          "name": "stdout",
          "text": [
            "<class 'pandas.core.frame.DataFrame'>\n",
            "Int64Index: 4817 entries, 0 to 6172\n",
            "Data columns (total 17 columns):\n",
            " #   Column                                Non-Null Count  Dtype   \n",
            "---  ------                                --------------  -----   \n",
            " 0   id                                    4817 non-null   int64   \n",
            " 1   host_acceptance_rate                  4817 non-null   float64 \n",
            " 2   neighbourhood                         4817 non-null   category\n",
            " 3   room_type                             4817 non-null   category\n",
            " 4   price_in_dollar                       4817 non-null   float64 \n",
            " 5   amenities                             4817 non-null   int64   \n",
            " 6   accommodates                          4817 non-null   int64   \n",
            " 7   host_is_superhost                     4817 non-null   bool    \n",
            " 8   has_availability                      4817 non-null   bool    \n",
            " 9   review_scores_rating                  4817 non-null   float64 \n",
            " 10  instant_bookable                      4817 non-null   bool    \n",
            " 11  number_of_reviews_l30d                4817 non-null   int64   \n",
            " 12  discount_per_5_days_booked            4817 non-null   float64 \n",
            " 13  discount_per_10_days_booked           4817 non-null   float64 \n",
            " 14  discount_per_30_and_more_days_booked  4817 non-null   float64 \n",
            " 15  host_reported_average_tip             4817 non-null   float64 \n",
            " 16  service_cost                          4817 non-null   category\n",
            "dtypes: bool(3), category(3), float64(7), int64(4)\n",
            "memory usage: 480.1 KB\n"
          ]
        }
      ]
    },
    {
      "cell_type": "markdown",
      "source": [
        "<details>\n",
        "<summary>Show Solution</summary>\n",
        "\n",
        "```python\n",
        "df_list.info()\n",
        "```\n",
        "</details>"
      ],
      "metadata": {
        "id": "8s_YerokZM8s"
      },
      "id": "8s_YerokZM8s"
    },
    {
      "cell_type": "markdown",
      "source": [
        "This info printout provides a good overview of which columns we can use to make our predictions. Often you don't need to use all of data/columns to make great predictions.\n",
        "\n",
        "Also, we saw on Uplimit this week that columns with the dtype **category** and **boolean** require some processing in order for us to use them in Scikit-learn algorithms. The algorithms from Scikit-learn that we will use are not made to handle text, unless it is encoded properly. These algorithms work well with numerical values."
      ],
      "metadata": {
        "id": "4ml13_W2eKvm"
      },
      "id": "4ml13_W2eKvm"
    },
    {
      "cell_type": "markdown",
      "source": [
        "#### Part 3: Make a selection\n",
        "\n",
        "[*\\[Related section on Uplimit\\]*](https://corise.com/course/intermediate-python-for-data-science/v2/module/load-inspect-split#corise_cladmtr2b002v3b6phm6oz1f4)\n",
        "\n",
        "There are a total of 17 columns. For readability purposes, we are going to prematurely drop a lot of these columns. In practice, you often drop columns at a later stage once you've determined their value. This is something we'll look into next week. For now we want you to drop the columns:\n",
        "\n",
        "- **id** (it has no meaning for the ML algorithm)\n",
        "- **host_acceptance_rate**\n",
        "- **host_is_superhost**\n",
        "- **has_availability**\n",
        "- **number_of_reviews_l30d**\n",
        "- **discount_per_5_days_booked**\n",
        "- **discount_per_10_days_booked**\n",
        "- **discount_per_30_and_more_days_booked**\n",
        "- **service_cost**\n"
      ],
      "metadata": {
        "id": "fM5DSYBMP6ZV"
      },
      "id": "fM5DSYBMP6ZV"
    },
    {
      "cell_type": "code",
      "source": [
        "df_list = df_list.drop([\"id\", \"host_acceptance_rate\", \"host_is_superhost\", \"has_availability\", \"number_of_reviews_l30d\", \"discount_per_5_days_booked\", \"discount_per_10_days_booked\", \"discount_per_30_and_more_days_booked\", \"service_cost\"], axis=1)"
      ],
      "metadata": {
        "id": "RWjB_nvCO_Me"
      },
      "id": "RWjB_nvCO_Me",
      "execution_count": 8,
      "outputs": []
    },
    {
      "cell_type": "markdown",
      "source": [
        "<details>\n",
        "<summary>Show Solution</summary>\n",
        "\n",
        "```python\n",
        "df_list = df_list.drop(columns=[\"id\", \"host_acceptance_rate\", \"host_is_superhost\", \"has_availability\", \"number_of_reviews_l30d\",\n",
        "                                \"discount_per_5_days_booked\", \"discount_per_10_days_booked\", \"discount_per_30_and_more_days_booked\", \"service_cost\"],\n",
        "                       axis=1)\n",
        "\n",
        "```\n",
        "</details>"
      ],
      "metadata": {
        "id": "C0YpLCChaHX1"
      },
      "id": "C0YpLCChaHX1"
    },
    {
      "cell_type": "markdown",
      "source": [
        "Now take another look at the leftover information contained in the DataFrame."
      ],
      "metadata": {
        "id": "v_h9DU2PjkVe"
      },
      "id": "v_h9DU2PjkVe"
    },
    {
      "cell_type": "code",
      "source": [
        "df_list.info()"
      ],
      "metadata": {
        "id": "FPyNu16IPA-r",
        "colab": {
          "base_uri": "https://localhost:8080/"
        },
        "outputId": "f496d36d-986e-472c-d12a-af037462a5d5"
      },
      "id": "FPyNu16IPA-r",
      "execution_count": 9,
      "outputs": [
        {
          "output_type": "stream",
          "name": "stdout",
          "text": [
            "<class 'pandas.core.frame.DataFrame'>\n",
            "Int64Index: 4817 entries, 0 to 6172\n",
            "Data columns (total 8 columns):\n",
            " #   Column                     Non-Null Count  Dtype   \n",
            "---  ------                     --------------  -----   \n",
            " 0   neighbourhood              4817 non-null   category\n",
            " 1   room_type                  4817 non-null   category\n",
            " 2   price_in_dollar            4817 non-null   float64 \n",
            " 3   amenities                  4817 non-null   int64   \n",
            " 4   accommodates               4817 non-null   int64   \n",
            " 5   review_scores_rating       4817 non-null   float64 \n",
            " 6   instant_bookable           4817 non-null   bool    \n",
            " 7   host_reported_average_tip  4817 non-null   float64 \n",
            "dtypes: bool(1), category(2), float64(3), int64(2)\n",
            "memory usage: 369.2 KB\n"
          ]
        }
      ]
    },
    {
      "cell_type": "markdown",
      "source": [
        "<details>\n",
        "<summary>Show Solution</summary>\n",
        "\n",
        "```python\n",
        "df_list.info()\n",
        "\n",
        "```\n",
        "</details>"
      ],
      "metadata": {
        "id": "bejLsRPWclYs"
      },
      "id": "bejLsRPWclYs"
    },
    {
      "cell_type": "markdown",
      "source": [
        "Here we see that we are left with two categorical values and one boolean value. These need to be encoded in a format that a Scikit-learn algorithm can work with.\n",
        "\n",
        "Also, it is important that we determine what we actually want our algorithm to predict. We'd like to predict for each host an average tip estimate for any given listing. So our target variable is \"host_reported_average_tip\", while the other variables are our features. This means that our problem yet again is a regression problem, since our target variable is a continuous numerical value."
      ],
      "metadata": {
        "id": "0DYmBpKtkOVN"
      },
      "id": "0DYmBpKtkOVN"
    },
    {
      "cell_type": "markdown",
      "source": [
        "#### Part 4: Create the target and feature variables\n",
        "\n",
        "[*\\[Related section on Uplimit\\]*](https://corise.com/course/intermediate-python-for-data-science/v2/module/load-inspect-split#corise_clb3t7giv004d3b6pgp5ufa17)\n",
        "\n",
        "It's necessary that we split our dataset before we start training our algorithm. Remember the \"student taking a test\" metaphor?\n",
        "\n",
        "Let's split up our DataFrame into target (y) and feature variables (X), using the leftover columns from the previous task."
      ],
      "metadata": {
        "id": "w7WX_-PQmURy"
      },
      "id": "w7WX_-PQmURy"
    },
    {
      "cell_type": "code",
      "source": [
        "# features (X), label (y)\n",
        "X, y = (\n",
        "    df_list[[\"neighbourhood\", \"room_type\", \"price_in_dollar\", \"amenities\", \"accommodates\", \"review_scores_rating\", \"instant_bookable\"]] ,\n",
        "    df_list[\"host_reported_average_tip\"]\n",
        ")"
      ],
      "metadata": {
        "id": "JSDFjZ1pPCud"
      },
      "id": "JSDFjZ1pPCud",
      "execution_count": 11,
      "outputs": []
    },
    {
      "cell_type": "markdown",
      "source": [
        "<details>\n",
        "<summary>Show Solution</summary>\n",
        "\n",
        "```python\n",
        "# features (X), label (y)\n",
        "X, y = (\n",
        "    df_list[[\"neighbourhood\", \"room_type\", \"price_in_dollar\", \"amenities\",\n",
        "             \"accommodates\", \"review_scores_rating\", \"instant_bookable\"]],\n",
        "    df_list[[\"host_reported_average_tip\"]],\n",
        ")\n",
        "\n",
        "```\n",
        "</details>"
      ],
      "metadata": {
        "id": "Z-i8mQOQc7zv"
      },
      "id": "Z-i8mQOQc7zv"
    },
    {
      "cell_type": "markdown",
      "source": [
        "#### Part 5: Create the target and feature variables\n",
        "\n",
        "[*\\[Related section on Uplimit\\]*](https://corise.com/course/intermediate-python-for-data-science/v2/module/load-inspect-split#corise_clb3t7giv004d3b6pgp5ufa17)\n",
        "\n",
        "Let's make a function that we can use to split our dataset into three separate parts. We are going to need to first split our dataset into train, test, and validation splits. But before we can do this, we need to prepare some small stuff. An example is setting a seed so that our results are reproducible when we run our training from any computer at any time."
      ],
      "metadata": {
        "id": "YUx9Jv5bm9VW"
      },
      "id": "YUx9Jv5bm9VW"
    },
    {
      "cell_type": "code",
      "source": [
        "# Setting seed allows us to generate a random dataset split that\n",
        "# is the same on every computer. Otherwise, every time you run\n",
        "# the split, you'd get a different dataset split.\n",
        "SEED = 42"
      ],
      "metadata": {
        "id": "DO7vVxvvPMpS"
      },
      "id": "DO7vVxvvPMpS",
      "execution_count": 12,
      "outputs": []
    },
    {
      "cell_type": "markdown",
      "source": [
        "<details>\n",
        "<summary>Show Solution</summary>\n",
        "\n",
        "```python\n",
        "SEED = 42\n",
        "\n",
        "```\n",
        "</details>"
      ],
      "metadata": {
        "id": "coyfn6N_dZT1"
      },
      "id": "coyfn6N_dZT1"
    },
    {
      "cell_type": "markdown",
      "source": [
        "Then we should create a function that splits our dataset into three. Please have a peek over at CoRise to see how we made this function!"
      ],
      "metadata": {
        "id": "uuPcUl874xwH"
      },
      "id": "uuPcUl874xwH"
    },
    {
      "cell_type": "code",
      "source": [
        "import sklearn\n",
        "from sklearn.model_selection import train_test_split\n",
        "\n",
        "def train_validation_test_split(\n",
        "    X, y, train_ratio: float, validation_ratio: float, test_ratio: float\n",
        "):\n",
        "    # Split up dataset into train and test, of which we split up the test\n",
        "    X_train, X_test, y_train, y_test = train_test_split(\n",
        "        X, y, test_size=(1 - train_ratio), random_state=SEED\n",
        "    )\n",
        "\n",
        "    # Split up test into two (validation and test)\n",
        "    X_val, X_test, y_val, y_test = train_test_split(\n",
        "        X_test, y_test, test_size=(test_ratio / (test_ratio + validation_ratio)), random_state=SEED\n",
        "    )\n",
        "\n",
        "    # Return the splits\n",
        "    return X_train, X_val, X_test, y_train, y_val, y_test"
      ],
      "metadata": {
        "id": "z1TkwzfwPYCC"
      },
      "id": "z1TkwzfwPYCC",
      "execution_count": 14,
      "outputs": []
    },
    {
      "cell_type": "markdown",
      "source": [
        "<details>\n",
        "<summary>Show Solution</summary>\n",
        "\n",
        "```python\n",
        "\n",
        "def train_validation_test_split(\n",
        "    X, y, train_ratio: float, validation_ratio: float, test_ratio: float\n",
        "):\n",
        "    # Split up dataset into train and test, of which we split up the test.\n",
        "    X_train, X_test, y_train, y_test = train_test_split(\n",
        "        X, y, test_size=(1 - train_ratio), random_state=SEED\n",
        "    )\n",
        "\n",
        "    # Split up test into two (validation and test).\n",
        "    X_val, X_test, y_val, y_test = train_test_split(\n",
        "        X_test,\n",
        "        y_test,\n",
        "        test_size=(test_ratio / (test_ratio + validation_ratio)),\n",
        "        random_state=SEED,\n",
        "    )\n",
        "\n",
        "    # Return the splits\n",
        "    return X_train, X_val, X_test, y_train, y_val, y_test\n",
        "\n",
        "```\n",
        "</details>"
      ],
      "metadata": {
        "id": "_cAKzmdReHau"
      },
      "id": "_cAKzmdReHau"
    },
    {
      "cell_type": "markdown",
      "source": [
        "This time we want a different ratio. We want to split our dataset into a ratio of 75%/15%/10% for train, validation, and test, respectively. Please do so below."
      ],
      "metadata": {
        "id": "aoi88zSyn527"
      },
      "id": "aoi88zSyn527"
    },
    {
      "cell_type": "code",
      "source": [
        "# Splits according to ratio of 75/15/10\n",
        "X_train, X_val, X_test, y_train, y_val, y_test = train_validation_test_split(\n",
        "    X, y, 0.75, 0.15, 0.1\n",
        ")"
      ],
      "metadata": {
        "id": "GNKpvtYIPkar"
      },
      "id": "GNKpvtYIPkar",
      "execution_count": 15,
      "outputs": []
    },
    {
      "cell_type": "markdown",
      "source": [
        "<details>\n",
        "<summary>Show Solution</summary>\n",
        "\n",
        "```python\n",
        "# Splits according to ratio of 75/15/10\n",
        "X_train, X_val, X_test, y_train, y_val, y_test = train_validation_test_split(\n",
        "    X, y, 0.75, 0.15, 0.1\n",
        ")\n",
        "\n",
        "```\n",
        "</details>"
      ],
      "metadata": {
        "id": "5Dv1cIkFeboS"
      },
      "id": "5Dv1cIkFeboS"
    },
    {
      "cell_type": "markdown",
      "source": [
        "#### Part 6: Verify the dataset sizes\n",
        "\n",
        "[*\\[Related section on Uplimit\\]*](https://corise.com/course/intermediate-python-for-data-science/v2/module/load-inspect-split#corise_clb3l1b9p00453b6peqgkjwh7)\n",
        "\n",
        "Since you split the dataset into three parts, let's manually verify if their shape corresponds with what is expected, given the previous ratio. Use Pandas [`shape`](https://pandas.pydata.org/docs/reference/api/pandas.DataFrame.shape.html) to perform counts for each dataset."
      ],
      "metadata": {
        "id": "_ZUy8nib5CMn"
      },
      "id": "_ZUy8nib5CMn"
    },
    {
      "cell_type": "code",
      "source": [
        "X.shape, X_train.shape, X_val.shape, X_test.shape"
      ],
      "metadata": {
        "id": "miRTshoePpzb",
        "colab": {
          "base_uri": "https://localhost:8080/"
        },
        "outputId": "32dd08c4-ec62-47c7-896c-ca1c005e8018"
      },
      "id": "miRTshoePpzb",
      "execution_count": 18,
      "outputs": [
        {
          "output_type": "execute_result",
          "data": {
            "text/plain": [
              "((4817, 7), (3612, 7), (723, 7), (482, 7))"
            ]
          },
          "metadata": {},
          "execution_count": 18
        }
      ]
    },
    {
      "cell_type": "markdown",
      "source": [
        "<details>\n",
        "<summary>Show Solution</summary>\n",
        "\n",
        "```python\n",
        "X.shape, X_train.shape, X_val.shape, X_test.shape\n",
        "\n",
        "```\n",
        "</details>"
      ],
      "metadata": {
        "id": "RPTzLKsnfN-M"
      },
      "id": "RPTzLKsnfN-M"
    },
    {
      "cell_type": "markdown",
      "source": [
        "#### Part 7: Convert `bool` to `int`\n",
        "\n",
        "[*\\[Related section on Uplimit\\]*](https://corise.com/course/intermediate-python-for-data-science/v2/module/load-inspect-split#corise_clb3l19pe00443b6pwfa5re78)\n",
        "\n",
        "As you might remember from above, we have three variables that we need to encode properly: the boolean and the categorical values. Please see below."
      ],
      "metadata": {
        "id": "YcMp-QFB51OZ"
      },
      "id": "YcMp-QFB51OZ"
    },
    {
      "cell_type": "code",
      "source": [
        "X.info()"
      ],
      "metadata": {
        "id": "ip02rKbq6BsO",
        "colab": {
          "base_uri": "https://localhost:8080/"
        },
        "outputId": "b2e0f7b1-87b3-4cda-ca3f-924491873982"
      },
      "id": "ip02rKbq6BsO",
      "execution_count": 19,
      "outputs": [
        {
          "output_type": "stream",
          "name": "stdout",
          "text": [
            "<class 'pandas.core.frame.DataFrame'>\n",
            "Int64Index: 4817 entries, 0 to 6172\n",
            "Data columns (total 7 columns):\n",
            " #   Column                Non-Null Count  Dtype   \n",
            "---  ------                --------------  -----   \n",
            " 0   neighbourhood         4817 non-null   category\n",
            " 1   room_type             4817 non-null   category\n",
            " 2   price_in_dollar       4817 non-null   float64 \n",
            " 3   amenities             4817 non-null   int64   \n",
            " 4   accommodates          4817 non-null   int64   \n",
            " 5   review_scores_rating  4817 non-null   float64 \n",
            " 6   instant_bookable      4817 non-null   bool    \n",
            "dtypes: bool(1), category(2), float64(2), int64(2)\n",
            "memory usage: 331.5 KB\n"
          ]
        }
      ]
    },
    {
      "cell_type": "markdown",
      "source": [
        "We normally do encoding after splitting the dataset in order to prevent data leakage (as described on CoRise). This also means that encoding now takes three steps per converting encoding. Let's start with the boolean column \"instant_bookable\". For each split, please convert these from a boolean to an int."
      ],
      "metadata": {
        "id": "oTLxvjId6WET"
      },
      "id": "oTLxvjId6WET"
    },
    {
      "cell_type": "code",
      "source": [
        "# Boolean to Int\n",
        "X_train[\"instant_bookable\"] = X_train[\"instant_bookable\"].astype(int)\n",
        "X_val[\"instant_bookable\"] = X_val[\"instant_bookable\"].astype(int)\n",
        "X_test[\"instant_bookable\"] = X_test[\"instant_bookable\"].astype(int)"
      ],
      "metadata": {
        "id": "73EqmIFIPupi"
      },
      "id": "73EqmIFIPupi",
      "execution_count": 21,
      "outputs": []
    },
    {
      "cell_type": "markdown",
      "source": [
        "<details>\n",
        "<summary>Show Solution</summary>\n",
        "\n",
        "```python\n",
        "X_train[\"instant_bookable\"] = X_train[\"instant_bookable\"].astype(int)\n",
        "X_val[\"instant_bookable\"] = X_val[\"instant_bookable\"].astype(int)\n",
        "X_test[\"instant_bookable\"] = X_test[\"instant_bookable\"].astype(int)\n",
        "\n",
        "```\n",
        "</details>"
      ],
      "metadata": {
        "id": "b-6kr7vUfehZ"
      },
      "id": "b-6kr7vUfehZ"
    },
    {
      "cell_type": "markdown",
      "source": [
        "Then please inspect your data by using [`head(2)`](https://pandas.pydata.org/docs/reference/api/pandas.DataFrame.head.html) on one of the three splits to see if our encoding worked. It should display 0 or 1 now for \"instant_bookable\"."
      ],
      "metadata": {
        "id": "yXQ6q0MC682b"
      },
      "id": "yXQ6q0MC682b"
    },
    {
      "cell_type": "code",
      "source": [
        "# Show how the dataframe looks like\n",
        "X_train.info()"
      ],
      "metadata": {
        "id": "aFGveS0FP3Ez",
        "colab": {
          "base_uri": "https://localhost:8080/"
        },
        "outputId": "871793c7-a589-4b83-fbbd-9a6754d0992f"
      },
      "id": "aFGveS0FP3Ez",
      "execution_count": 23,
      "outputs": [
        {
          "output_type": "stream",
          "name": "stdout",
          "text": [
            "<class 'pandas.core.frame.DataFrame'>\n",
            "Int64Index: 3612 entries, 2791 to 1034\n",
            "Data columns (total 7 columns):\n",
            " #   Column                Non-Null Count  Dtype   \n",
            "---  ------                --------------  -----   \n",
            " 0   neighbourhood         3612 non-null   category\n",
            " 1   room_type             3612 non-null   category\n",
            " 2   price_in_dollar       3612 non-null   float64 \n",
            " 3   amenities             3612 non-null   int64   \n",
            " 4   accommodates          3612 non-null   int64   \n",
            " 5   review_scores_rating  3612 non-null   float64 \n",
            " 6   instant_bookable      3612 non-null   int64   \n",
            "dtypes: category(2), float64(2), int64(3)\n",
            "memory usage: 176.6 KB\n"
          ]
        }
      ]
    },
    {
      "cell_type": "markdown",
      "source": [
        "<details>\n",
        "<summary>Show Solution</summary>\n",
        "\n",
        "```python\n",
        "X_train.head(2)\n",
        "\n",
        "```\n",
        "</details>"
      ],
      "metadata": {
        "id": "NlkAL4mtf5Es"
      },
      "id": "NlkAL4mtf5Es"
    },
    {
      "cell_type": "code",
      "source": [
        "X_train.head(2)"
      ],
      "metadata": {
        "id": "XiMxUG80f8vW",
        "colab": {
          "base_uri": "https://localhost:8080/",
          "height": 112
        },
        "outputId": "98267501-09de-41bf-d139-505b776b7e84"
      },
      "id": "XiMxUG80f8vW",
      "execution_count": 24,
      "outputs": [
        {
          "output_type": "execute_result",
          "data": {
            "text/plain": [
              "     neighbourhood     room_type  price_in_dollar  amenities  accommodates  \\\n",
              "2791    Westerpark   Shared room            43.00         10             1   \n",
              "2897  Centrum-West  Private room           161.00         17             4   \n",
              "\n",
              "      review_scores_rating  instant_bookable  \n",
              "2791                  4.33                 1  \n",
              "2897                  4.95                 0  "
            ],
            "text/html": [
              "\n",
              "  <div id=\"df-7f31bd98-5535-4712-870f-f159f0574034\" class=\"colab-df-container\">\n",
              "    <div>\n",
              "<style scoped>\n",
              "    .dataframe tbody tr th:only-of-type {\n",
              "        vertical-align: middle;\n",
              "    }\n",
              "\n",
              "    .dataframe tbody tr th {\n",
              "        vertical-align: top;\n",
              "    }\n",
              "\n",
              "    .dataframe thead th {\n",
              "        text-align: right;\n",
              "    }\n",
              "</style>\n",
              "<table border=\"1\" class=\"dataframe\">\n",
              "  <thead>\n",
              "    <tr style=\"text-align: right;\">\n",
              "      <th></th>\n",
              "      <th>neighbourhood</th>\n",
              "      <th>room_type</th>\n",
              "      <th>price_in_dollar</th>\n",
              "      <th>amenities</th>\n",
              "      <th>accommodates</th>\n",
              "      <th>review_scores_rating</th>\n",
              "      <th>instant_bookable</th>\n",
              "    </tr>\n",
              "  </thead>\n",
              "  <tbody>\n",
              "    <tr>\n",
              "      <th>2791</th>\n",
              "      <td>Westerpark</td>\n",
              "      <td>Shared room</td>\n",
              "      <td>43.00</td>\n",
              "      <td>10</td>\n",
              "      <td>1</td>\n",
              "      <td>4.33</td>\n",
              "      <td>1</td>\n",
              "    </tr>\n",
              "    <tr>\n",
              "      <th>2897</th>\n",
              "      <td>Centrum-West</td>\n",
              "      <td>Private room</td>\n",
              "      <td>161.00</td>\n",
              "      <td>17</td>\n",
              "      <td>4</td>\n",
              "      <td>4.95</td>\n",
              "      <td>0</td>\n",
              "    </tr>\n",
              "  </tbody>\n",
              "</table>\n",
              "</div>\n",
              "    <div class=\"colab-df-buttons\">\n",
              "\n",
              "  <div class=\"colab-df-container\">\n",
              "    <button class=\"colab-df-convert\" onclick=\"convertToInteractive('df-7f31bd98-5535-4712-870f-f159f0574034')\"\n",
              "            title=\"Convert this dataframe to an interactive table.\"\n",
              "            style=\"display:none;\">\n",
              "\n",
              "  <svg xmlns=\"http://www.w3.org/2000/svg\" height=\"24px\" viewBox=\"0 -960 960 960\">\n",
              "    <path d=\"M120-120v-720h720v720H120Zm60-500h600v-160H180v160Zm220 220h160v-160H400v160Zm0 220h160v-160H400v160ZM180-400h160v-160H180v160Zm440 0h160v-160H620v160ZM180-180h160v-160H180v160Zm440 0h160v-160H620v160Z\"/>\n",
              "  </svg>\n",
              "    </button>\n",
              "\n",
              "  <style>\n",
              "    .colab-df-container {\n",
              "      display:flex;\n",
              "      gap: 12px;\n",
              "    }\n",
              "\n",
              "    .colab-df-convert {\n",
              "      background-color: #E8F0FE;\n",
              "      border: none;\n",
              "      border-radius: 50%;\n",
              "      cursor: pointer;\n",
              "      display: none;\n",
              "      fill: #1967D2;\n",
              "      height: 32px;\n",
              "      padding: 0 0 0 0;\n",
              "      width: 32px;\n",
              "    }\n",
              "\n",
              "    .colab-df-convert:hover {\n",
              "      background-color: #E2EBFA;\n",
              "      box-shadow: 0px 1px 2px rgba(60, 64, 67, 0.3), 0px 1px 3px 1px rgba(60, 64, 67, 0.15);\n",
              "      fill: #174EA6;\n",
              "    }\n",
              "\n",
              "    .colab-df-buttons div {\n",
              "      margin-bottom: 4px;\n",
              "    }\n",
              "\n",
              "    [theme=dark] .colab-df-convert {\n",
              "      background-color: #3B4455;\n",
              "      fill: #D2E3FC;\n",
              "    }\n",
              "\n",
              "    [theme=dark] .colab-df-convert:hover {\n",
              "      background-color: #434B5C;\n",
              "      box-shadow: 0px 1px 3px 1px rgba(0, 0, 0, 0.15);\n",
              "      filter: drop-shadow(0px 1px 2px rgba(0, 0, 0, 0.3));\n",
              "      fill: #FFFFFF;\n",
              "    }\n",
              "  </style>\n",
              "\n",
              "    <script>\n",
              "      const buttonEl =\n",
              "        document.querySelector('#df-7f31bd98-5535-4712-870f-f159f0574034 button.colab-df-convert');\n",
              "      buttonEl.style.display =\n",
              "        google.colab.kernel.accessAllowed ? 'block' : 'none';\n",
              "\n",
              "      async function convertToInteractive(key) {\n",
              "        const element = document.querySelector('#df-7f31bd98-5535-4712-870f-f159f0574034');\n",
              "        const dataTable =\n",
              "          await google.colab.kernel.invokeFunction('convertToInteractive',\n",
              "                                                    [key], {});\n",
              "        if (!dataTable) return;\n",
              "\n",
              "        const docLinkHtml = 'Like what you see? Visit the ' +\n",
              "          '<a target=\"_blank\" href=https://colab.research.google.com/notebooks/data_table.ipynb>data table notebook</a>'\n",
              "          + ' to learn more about interactive tables.';\n",
              "        element.innerHTML = '';\n",
              "        dataTable['output_type'] = 'display_data';\n",
              "        await google.colab.output.renderOutput(dataTable, element);\n",
              "        const docLink = document.createElement('div');\n",
              "        docLink.innerHTML = docLinkHtml;\n",
              "        element.appendChild(docLink);\n",
              "      }\n",
              "    </script>\n",
              "  </div>\n",
              "\n",
              "\n",
              "<div id=\"df-e21518d9-5f59-4e62-bd69-35c075a410c6\">\n",
              "  <button class=\"colab-df-quickchart\" onclick=\"quickchart('df-e21518d9-5f59-4e62-bd69-35c075a410c6')\"\n",
              "            title=\"Suggest charts.\"\n",
              "            style=\"display:none;\">\n",
              "\n",
              "<svg xmlns=\"http://www.w3.org/2000/svg\" height=\"24px\"viewBox=\"0 0 24 24\"\n",
              "     width=\"24px\">\n",
              "    <g>\n",
              "        <path d=\"M19 3H5c-1.1 0-2 .9-2 2v14c0 1.1.9 2 2 2h14c1.1 0 2-.9 2-2V5c0-1.1-.9-2-2-2zM9 17H7v-7h2v7zm4 0h-2V7h2v10zm4 0h-2v-4h2v4z\"/>\n",
              "    </g>\n",
              "</svg>\n",
              "  </button>\n",
              "\n",
              "<style>\n",
              "  .colab-df-quickchart {\n",
              "    background-color: #E8F0FE;\n",
              "    border: none;\n",
              "    border-radius: 50%;\n",
              "    cursor: pointer;\n",
              "    display: none;\n",
              "    fill: #1967D2;\n",
              "    height: 32px;\n",
              "    padding: 0 0 0 0;\n",
              "    width: 32px;\n",
              "  }\n",
              "\n",
              "  .colab-df-quickchart:hover {\n",
              "    background-color: #E2EBFA;\n",
              "    box-shadow: 0px 1px 2px rgba(60, 64, 67, 0.3), 0px 1px 3px 1px rgba(60, 64, 67, 0.15);\n",
              "    fill: #174EA6;\n",
              "  }\n",
              "\n",
              "  [theme=dark] .colab-df-quickchart {\n",
              "    background-color: #3B4455;\n",
              "    fill: #D2E3FC;\n",
              "  }\n",
              "\n",
              "  [theme=dark] .colab-df-quickchart:hover {\n",
              "    background-color: #434B5C;\n",
              "    box-shadow: 0px 1px 3px 1px rgba(0, 0, 0, 0.15);\n",
              "    filter: drop-shadow(0px 1px 2px rgba(0, 0, 0, 0.3));\n",
              "    fill: #FFFFFF;\n",
              "  }\n",
              "</style>\n",
              "\n",
              "  <script>\n",
              "    async function quickchart(key) {\n",
              "      const charts = await google.colab.kernel.invokeFunction(\n",
              "          'suggestCharts', [key], {});\n",
              "    }\n",
              "    (() => {\n",
              "      let quickchartButtonEl =\n",
              "        document.querySelector('#df-e21518d9-5f59-4e62-bd69-35c075a410c6 button');\n",
              "      quickchartButtonEl.style.display =\n",
              "        google.colab.kernel.accessAllowed ? 'block' : 'none';\n",
              "    })();\n",
              "  </script>\n",
              "</div>\n",
              "    </div>\n",
              "  </div>\n"
            ]
          },
          "metadata": {},
          "execution_count": 24
        }
      ]
    },
    {
      "cell_type": "markdown",
      "source": [
        "#### Part 8: Convert categorical to one-hot encoding\n",
        "\n",
        "[*\\[Related section on Uplimit\\]*](https://corise.com/course/intermediate-python-for-data-science/v2/module/load-inspect-split#corise_clb3y0rzr00703b6p2c9ror56)\n",
        "\n",
        "The most \"elaborate\" encoding step for us will be encoding our categorical columns to one-hot encoding. Please refer back to CoRise to see how it's done, because that's exactly what you are going to do below, only you need to change the columns accordingly."
      ],
      "metadata": {
        "id": "dg4YxV_C7PNN"
      },
      "id": "dg4YxV_C7PNN"
    },
    {
      "cell_type": "code",
      "source": [
        "# One-hot encoder\n",
        "from sklearn.compose import make_column_transformer\n",
        "from sklearn.preprocessing import OneHotEncoder\n",
        "\n",
        "# Define how the encoding should work\n",
        "oh_encoder = OneHotEncoder(  # Define one-hot encoding\n",
        "    sparse_output=False,  # Sparse matrix doesn't work well with Pandas DataFrame\n",
        "    dtype=\"int\",  # Set type to integer\n",
        ")\n",
        "\n",
        "# Define which columns to transform\n",
        "oh_enc_transformer = make_column_transformer(  # Define how to output columns\n",
        "    (oh_encoder, [\"neighbourhood\", \"room_type\"] ), # YOUR CODE HERE\n",
        "    verbose_feature_names_out=False,  # Column names are \"more concise\"\n",
        "    remainder=\"passthrough\",  # All other columns should be left untouched\n",
        ")\n",
        "\n",
        "# Train (fit) the transformation on the training set\n",
        "oh_encoded = oh_enc_transformer.fit(X_train)  # Change from category to number"
      ],
      "metadata": {
        "id": "KZiZ9v4ONmwu"
      },
      "id": "KZiZ9v4ONmwu",
      "execution_count": 25,
      "outputs": []
    },
    {
      "cell_type": "markdown",
      "source": [
        "<details>\n",
        "<summary>Show Solution</summary>\n",
        "\n",
        "```python\n",
        "# Define how the encoding should work.\n",
        "oh_encoder = OneHotEncoder(  # Define one-hot encoding\n",
        "    sparse_output=False,  # Sparse matrix doesn't work well with Pandas DataFrame.\n",
        "    dtype=\"int\",  # Set type to integer\n",
        ")\n",
        "\n",
        "# Define which columns to transform.\n",
        "oh_enc_transformer = make_column_transformer(  # Define how to output columns\n",
        "    (oh_encoder, [\"room_type\", \"neighbourhood\"]),\n",
        "    verbose_feature_names_out=False,  # Column names are \"more concise\"\n",
        "    remainder=\"passthrough\",  # All other columns should be left untouched\n",
        ")\n",
        "\n",
        "# Train (fit) the transformation on the training set\n",
        "oh_encoded = oh_enc_transformer.fit(X_train)  # Change from category to number\n",
        "\n",
        "```\n",
        "</details>"
      ],
      "metadata": {
        "id": "sHYsnyE6gamc"
      },
      "id": "sHYsnyE6gamc"
    },
    {
      "cell_type": "markdown",
      "source": [
        "Above you \"train\" (fit) an encoder on the training set, afterwhich we apply what it's \"learned\" (transform) to each of the dataset splits. We show you here how to do it for X_train. You'll have to do it yourself for X_val and X_test."
      ],
      "metadata": {
        "id": "KlLS279N70De"
      },
      "id": "KlLS279N70De"
    },
    {
      "cell_type": "code",
      "source": [
        "# Transform the train columns into one-hot encoding\n",
        "X_train_oh_enc = oh_encoded.transform(X_train)\n",
        "\n",
        "# Turn the encoded columns into a df\n",
        "X_train = pd.DataFrame(\n",
        "    X_train_oh_enc,  # Input the transformed dataset\n",
        "    columns=oh_encoded.get_feature_names_out(),  # Set column names\n",
        "    index=X_train.index,  # Keep index numbering of original df\n",
        ")"
      ],
      "metadata": {
        "id": "QtfvEk7vMi3m"
      },
      "id": "QtfvEk7vMi3m",
      "execution_count": 30,
      "outputs": []
    },
    {
      "cell_type": "code",
      "source": [
        "# Transform the validation columns into one-hot encoding\n",
        "X_val_oh_enc = oh_encoded.transform(X_val)\n",
        "\n",
        "X_val = pd.DataFrame(\n",
        "    X_val_oh_enc,\n",
        "    columns=oh_encoded.get_feature_names_out(),\n",
        "    index=X_val.index\n",
        ")"
      ],
      "metadata": {
        "id": "RTf6bNqgQKpK"
      },
      "id": "RTf6bNqgQKpK",
      "execution_count": 26,
      "outputs": []
    },
    {
      "cell_type": "markdown",
      "source": [
        "<details>\n",
        "<summary>Show Solution</summary>\n",
        "\n",
        "```python\n",
        "# Transform the columns into one-hot-encoding.\n",
        "X_val_oh_enc = oh_encoded.transform(X_val)\n",
        "\n",
        "# Turn the encoded columns into a dataframe.\n",
        "X_val = pd.DataFrame(\n",
        "    X_val_oh_enc,  # Input the transformed dataset\n",
        "    columns=oh_encoded.get_feature_names_out(),  # Set column names\n",
        "    index=X_val.index,\n",
        ")\n",
        "\n",
        "```\n",
        "</details>"
      ],
      "metadata": {
        "id": "qnKoLaYwhVQL"
      },
      "id": "qnKoLaYwhVQL"
    },
    {
      "cell_type": "code",
      "source": [
        "# Transform the test columns into one-hot encoding\n",
        "X_test_oh_enc = oh_encoded.transform(X_test)\n",
        "\n",
        "X_test = pd.DataFrame(\n",
        "    X_test_oh_enc,\n",
        "    columns=oh_encoded.get_feature_names_out(),\n",
        "    index=X_test.index\n",
        ")"
      ],
      "metadata": {
        "id": "DitSz2lTQLBK"
      },
      "id": "DitSz2lTQLBK",
      "execution_count": 27,
      "outputs": []
    },
    {
      "cell_type": "markdown",
      "source": [
        "<details>\n",
        "<summary>Show Solution</summary>\n",
        "\n",
        "```python\n",
        "# Transform the columns into one-hot-encoding.\n",
        "X_test_oh_enc = oh_encoded.transform(X_test)\n",
        "\n",
        "# Turn the encoded columns into a dataframe.\n",
        "X_test = pd.DataFrame(\n",
        "    X_test_oh_enc,  # Input the transformed dataset\n",
        "    columns=oh_encoded.get_feature_names_out(),  # Set column names\n",
        "    index=X_test.index,  # Keep index numbering of original df\n",
        ")\n",
        "\n",
        "```\n",
        "</details>"
      ],
      "metadata": {
        "id": "O_-JRsb3heZL"
      },
      "id": "O_-JRsb3heZL"
    },
    {
      "cell_type": "markdown",
      "source": [
        "Now when you print out the [`info()`](https://pandas.pydata.org/pandas-docs/stable/reference/api/pandas.DataFrame.info.html) of the data, you might see that the data types have all changed to \"object\". Don't worry, we have a quick fix for that."
      ],
      "metadata": {
        "id": "ttyNZCHw8ZH5"
      },
      "id": "ttyNZCHw8ZH5"
    },
    {
      "cell_type": "code",
      "source": [
        "X_train = X_train.convert_dtypes()\n",
        "X_val = X_val.convert_dtypes()\n",
        "X_test = X_test.convert_dtypes()"
      ],
      "metadata": {
        "id": "6s5EfdAlcwsS"
      },
      "id": "6s5EfdAlcwsS",
      "execution_count": 31,
      "outputs": []
    },
    {
      "cell_type": "markdown",
      "source": [
        "Now, let's inspect if the numbers look right."
      ],
      "metadata": {
        "id": "Mt5k6zTO8qpv"
      },
      "id": "Mt5k6zTO8qpv"
    },
    {
      "cell_type": "code",
      "source": [
        "# Show how the dataframe looks like\n",
        "X_train.head(2)"
      ],
      "metadata": {
        "id": "9i1wqdnU0shI",
        "colab": {
          "base_uri": "https://localhost:8080/",
          "height": 167
        },
        "outputId": "3af4194f-1d6f-4518-f807-010e622c8736"
      },
      "id": "9i1wqdnU0shI",
      "execution_count": 32,
      "outputs": [
        {
          "output_type": "execute_result",
          "data": {
            "text/plain": [
              "      neighbourhood_Bijlmer-Centrum  neighbourhood_Bijlmer-Oost  \\\n",
              "2791                              0                           0   \n",
              "2897                              0                           0   \n",
              "\n",
              "      neighbourhood_Bos en Lommer  neighbourhood_Buitenveldert - Zuidas  \\\n",
              "2791                            0                                     0   \n",
              "2897                            0                                     0   \n",
              "\n",
              "      neighbourhood_Centrum-Oost  neighbourhood_Centrum-West  \\\n",
              "2791                           0                           0   \n",
              "2897                           0                           1   \n",
              "\n",
              "      neighbourhood_De Aker - Nieuw Sloten  \\\n",
              "2791                                     0   \n",
              "2897                                     0   \n",
              "\n",
              "      neighbourhood_De Baarsjes - Oud-West  \\\n",
              "2791                                     0   \n",
              "2897                                     0   \n",
              "\n",
              "      neighbourhood_De Pijp - Rivierenbuurt  \\\n",
              "2791                                      0   \n",
              "2897                                      0   \n",
              "\n",
              "      neighbourhood_Gaasperdam - Driemond  \\\n",
              "2791                                    0   \n",
              "2897                                    0   \n",
              "\n",
              "      neighbourhood_Geuzenveld - Slotermeer  \\\n",
              "2791                                      0   \n",
              "2897                                      0   \n",
              "\n",
              "      neighbourhood_IJburg - Zeeburgereiland  neighbourhood_Noord-Oost  \\\n",
              "2791                                       0                         0   \n",
              "2897                                       0                         0   \n",
              "\n",
              "      neighbourhood_Noord-West  \\\n",
              "2791                         0   \n",
              "2897                         0   \n",
              "\n",
              "      neighbourhood_Oostelijk Havengebied - Indische Buurt  \\\n",
              "2791                                                  0      \n",
              "2897                                                  0      \n",
              "\n",
              "      neighbourhood_Osdorp  neighbourhood_Oud-Noord  neighbourhood_Oud-Oost  \\\n",
              "2791                     0                        0                       0   \n",
              "2897                     0                        0                       0   \n",
              "\n",
              "      neighbourhood_Slotervaart  neighbourhood_Watergraafsmeer  \\\n",
              "2791                          0                              0   \n",
              "2897                          0                              0   \n",
              "\n",
              "      neighbourhood_Westerpark  neighbourhood_Zuid  room_type_Entire home/apt  \\\n",
              "2791                         1                   0                          0   \n",
              "2897                         0                   0                          0   \n",
              "\n",
              "      room_type_Hotel room  room_type_Private room  room_type_Shared room  \\\n",
              "2791                     0                       0                      1   \n",
              "2897                     0                       1                      0   \n",
              "\n",
              "      price_in_dollar  amenities  accommodates  review_scores_rating  \\\n",
              "2791               43         10             1                  4.33   \n",
              "2897              161         17             4                  4.95   \n",
              "\n",
              "      instant_bookable  \n",
              "2791                 1  \n",
              "2897                 0  "
            ],
            "text/html": [
              "\n",
              "  <div id=\"df-4cbe3e56-998c-4cb4-a8c8-ff2947edf10a\" class=\"colab-df-container\">\n",
              "    <div>\n",
              "<style scoped>\n",
              "    .dataframe tbody tr th:only-of-type {\n",
              "        vertical-align: middle;\n",
              "    }\n",
              "\n",
              "    .dataframe tbody tr th {\n",
              "        vertical-align: top;\n",
              "    }\n",
              "\n",
              "    .dataframe thead th {\n",
              "        text-align: right;\n",
              "    }\n",
              "</style>\n",
              "<table border=\"1\" class=\"dataframe\">\n",
              "  <thead>\n",
              "    <tr style=\"text-align: right;\">\n",
              "      <th></th>\n",
              "      <th>neighbourhood_Bijlmer-Centrum</th>\n",
              "      <th>neighbourhood_Bijlmer-Oost</th>\n",
              "      <th>neighbourhood_Bos en Lommer</th>\n",
              "      <th>neighbourhood_Buitenveldert - Zuidas</th>\n",
              "      <th>neighbourhood_Centrum-Oost</th>\n",
              "      <th>neighbourhood_Centrum-West</th>\n",
              "      <th>neighbourhood_De Aker - Nieuw Sloten</th>\n",
              "      <th>neighbourhood_De Baarsjes - Oud-West</th>\n",
              "      <th>neighbourhood_De Pijp - Rivierenbuurt</th>\n",
              "      <th>neighbourhood_Gaasperdam - Driemond</th>\n",
              "      <th>neighbourhood_Geuzenveld - Slotermeer</th>\n",
              "      <th>neighbourhood_IJburg - Zeeburgereiland</th>\n",
              "      <th>neighbourhood_Noord-Oost</th>\n",
              "      <th>neighbourhood_Noord-West</th>\n",
              "      <th>neighbourhood_Oostelijk Havengebied - Indische Buurt</th>\n",
              "      <th>neighbourhood_Osdorp</th>\n",
              "      <th>neighbourhood_Oud-Noord</th>\n",
              "      <th>neighbourhood_Oud-Oost</th>\n",
              "      <th>neighbourhood_Slotervaart</th>\n",
              "      <th>neighbourhood_Watergraafsmeer</th>\n",
              "      <th>neighbourhood_Westerpark</th>\n",
              "      <th>neighbourhood_Zuid</th>\n",
              "      <th>room_type_Entire home/apt</th>\n",
              "      <th>room_type_Hotel room</th>\n",
              "      <th>room_type_Private room</th>\n",
              "      <th>room_type_Shared room</th>\n",
              "      <th>price_in_dollar</th>\n",
              "      <th>amenities</th>\n",
              "      <th>accommodates</th>\n",
              "      <th>review_scores_rating</th>\n",
              "      <th>instant_bookable</th>\n",
              "    </tr>\n",
              "  </thead>\n",
              "  <tbody>\n",
              "    <tr>\n",
              "      <th>2791</th>\n",
              "      <td>0</td>\n",
              "      <td>0</td>\n",
              "      <td>0</td>\n",
              "      <td>0</td>\n",
              "      <td>0</td>\n",
              "      <td>0</td>\n",
              "      <td>0</td>\n",
              "      <td>0</td>\n",
              "      <td>0</td>\n",
              "      <td>0</td>\n",
              "      <td>0</td>\n",
              "      <td>0</td>\n",
              "      <td>0</td>\n",
              "      <td>0</td>\n",
              "      <td>0</td>\n",
              "      <td>0</td>\n",
              "      <td>0</td>\n",
              "      <td>0</td>\n",
              "      <td>0</td>\n",
              "      <td>0</td>\n",
              "      <td>1</td>\n",
              "      <td>0</td>\n",
              "      <td>0</td>\n",
              "      <td>0</td>\n",
              "      <td>0</td>\n",
              "      <td>1</td>\n",
              "      <td>43</td>\n",
              "      <td>10</td>\n",
              "      <td>1</td>\n",
              "      <td>4.33</td>\n",
              "      <td>1</td>\n",
              "    </tr>\n",
              "    <tr>\n",
              "      <th>2897</th>\n",
              "      <td>0</td>\n",
              "      <td>0</td>\n",
              "      <td>0</td>\n",
              "      <td>0</td>\n",
              "      <td>0</td>\n",
              "      <td>1</td>\n",
              "      <td>0</td>\n",
              "      <td>0</td>\n",
              "      <td>0</td>\n",
              "      <td>0</td>\n",
              "      <td>0</td>\n",
              "      <td>0</td>\n",
              "      <td>0</td>\n",
              "      <td>0</td>\n",
              "      <td>0</td>\n",
              "      <td>0</td>\n",
              "      <td>0</td>\n",
              "      <td>0</td>\n",
              "      <td>0</td>\n",
              "      <td>0</td>\n",
              "      <td>0</td>\n",
              "      <td>0</td>\n",
              "      <td>0</td>\n",
              "      <td>0</td>\n",
              "      <td>1</td>\n",
              "      <td>0</td>\n",
              "      <td>161</td>\n",
              "      <td>17</td>\n",
              "      <td>4</td>\n",
              "      <td>4.95</td>\n",
              "      <td>0</td>\n",
              "    </tr>\n",
              "  </tbody>\n",
              "</table>\n",
              "</div>\n",
              "    <div class=\"colab-df-buttons\">\n",
              "\n",
              "  <div class=\"colab-df-container\">\n",
              "    <button class=\"colab-df-convert\" onclick=\"convertToInteractive('df-4cbe3e56-998c-4cb4-a8c8-ff2947edf10a')\"\n",
              "            title=\"Convert this dataframe to an interactive table.\"\n",
              "            style=\"display:none;\">\n",
              "\n",
              "  <svg xmlns=\"http://www.w3.org/2000/svg\" height=\"24px\" viewBox=\"0 -960 960 960\">\n",
              "    <path d=\"M120-120v-720h720v720H120Zm60-500h600v-160H180v160Zm220 220h160v-160H400v160Zm0 220h160v-160H400v160ZM180-400h160v-160H180v160Zm440 0h160v-160H620v160ZM180-180h160v-160H180v160Zm440 0h160v-160H620v160Z\"/>\n",
              "  </svg>\n",
              "    </button>\n",
              "\n",
              "  <style>\n",
              "    .colab-df-container {\n",
              "      display:flex;\n",
              "      gap: 12px;\n",
              "    }\n",
              "\n",
              "    .colab-df-convert {\n",
              "      background-color: #E8F0FE;\n",
              "      border: none;\n",
              "      border-radius: 50%;\n",
              "      cursor: pointer;\n",
              "      display: none;\n",
              "      fill: #1967D2;\n",
              "      height: 32px;\n",
              "      padding: 0 0 0 0;\n",
              "      width: 32px;\n",
              "    }\n",
              "\n",
              "    .colab-df-convert:hover {\n",
              "      background-color: #E2EBFA;\n",
              "      box-shadow: 0px 1px 2px rgba(60, 64, 67, 0.3), 0px 1px 3px 1px rgba(60, 64, 67, 0.15);\n",
              "      fill: #174EA6;\n",
              "    }\n",
              "\n",
              "    .colab-df-buttons div {\n",
              "      margin-bottom: 4px;\n",
              "    }\n",
              "\n",
              "    [theme=dark] .colab-df-convert {\n",
              "      background-color: #3B4455;\n",
              "      fill: #D2E3FC;\n",
              "    }\n",
              "\n",
              "    [theme=dark] .colab-df-convert:hover {\n",
              "      background-color: #434B5C;\n",
              "      box-shadow: 0px 1px 3px 1px rgba(0, 0, 0, 0.15);\n",
              "      filter: drop-shadow(0px 1px 2px rgba(0, 0, 0, 0.3));\n",
              "      fill: #FFFFFF;\n",
              "    }\n",
              "  </style>\n",
              "\n",
              "    <script>\n",
              "      const buttonEl =\n",
              "        document.querySelector('#df-4cbe3e56-998c-4cb4-a8c8-ff2947edf10a button.colab-df-convert');\n",
              "      buttonEl.style.display =\n",
              "        google.colab.kernel.accessAllowed ? 'block' : 'none';\n",
              "\n",
              "      async function convertToInteractive(key) {\n",
              "        const element = document.querySelector('#df-4cbe3e56-998c-4cb4-a8c8-ff2947edf10a');\n",
              "        const dataTable =\n",
              "          await google.colab.kernel.invokeFunction('convertToInteractive',\n",
              "                                                    [key], {});\n",
              "        if (!dataTable) return;\n",
              "\n",
              "        const docLinkHtml = 'Like what you see? Visit the ' +\n",
              "          '<a target=\"_blank\" href=https://colab.research.google.com/notebooks/data_table.ipynb>data table notebook</a>'\n",
              "          + ' to learn more about interactive tables.';\n",
              "        element.innerHTML = '';\n",
              "        dataTable['output_type'] = 'display_data';\n",
              "        await google.colab.output.renderOutput(dataTable, element);\n",
              "        const docLink = document.createElement('div');\n",
              "        docLink.innerHTML = docLinkHtml;\n",
              "        element.appendChild(docLink);\n",
              "      }\n",
              "    </script>\n",
              "  </div>\n",
              "\n",
              "\n",
              "<div id=\"df-f3049a26-87ba-42bb-9648-29f20d673ada\">\n",
              "  <button class=\"colab-df-quickchart\" onclick=\"quickchart('df-f3049a26-87ba-42bb-9648-29f20d673ada')\"\n",
              "            title=\"Suggest charts.\"\n",
              "            style=\"display:none;\">\n",
              "\n",
              "<svg xmlns=\"http://www.w3.org/2000/svg\" height=\"24px\"viewBox=\"0 0 24 24\"\n",
              "     width=\"24px\">\n",
              "    <g>\n",
              "        <path d=\"M19 3H5c-1.1 0-2 .9-2 2v14c0 1.1.9 2 2 2h14c1.1 0 2-.9 2-2V5c0-1.1-.9-2-2-2zM9 17H7v-7h2v7zm4 0h-2V7h2v10zm4 0h-2v-4h2v4z\"/>\n",
              "    </g>\n",
              "</svg>\n",
              "  </button>\n",
              "\n",
              "<style>\n",
              "  .colab-df-quickchart {\n",
              "    background-color: #E8F0FE;\n",
              "    border: none;\n",
              "    border-radius: 50%;\n",
              "    cursor: pointer;\n",
              "    display: none;\n",
              "    fill: #1967D2;\n",
              "    height: 32px;\n",
              "    padding: 0 0 0 0;\n",
              "    width: 32px;\n",
              "  }\n",
              "\n",
              "  .colab-df-quickchart:hover {\n",
              "    background-color: #E2EBFA;\n",
              "    box-shadow: 0px 1px 2px rgba(60, 64, 67, 0.3), 0px 1px 3px 1px rgba(60, 64, 67, 0.15);\n",
              "    fill: #174EA6;\n",
              "  }\n",
              "\n",
              "  [theme=dark] .colab-df-quickchart {\n",
              "    background-color: #3B4455;\n",
              "    fill: #D2E3FC;\n",
              "  }\n",
              "\n",
              "  [theme=dark] .colab-df-quickchart:hover {\n",
              "    background-color: #434B5C;\n",
              "    box-shadow: 0px 1px 3px 1px rgba(0, 0, 0, 0.15);\n",
              "    filter: drop-shadow(0px 1px 2px rgba(0, 0, 0, 0.3));\n",
              "    fill: #FFFFFF;\n",
              "  }\n",
              "</style>\n",
              "\n",
              "  <script>\n",
              "    async function quickchart(key) {\n",
              "      const charts = await google.colab.kernel.invokeFunction(\n",
              "          'suggestCharts', [key], {});\n",
              "    }\n",
              "    (() => {\n",
              "      let quickchartButtonEl =\n",
              "        document.querySelector('#df-f3049a26-87ba-42bb-9648-29f20d673ada button');\n",
              "      quickchartButtonEl.style.display =\n",
              "        google.colab.kernel.accessAllowed ? 'block' : 'none';\n",
              "    })();\n",
              "  </script>\n",
              "</div>\n",
              "    </div>\n",
              "  </div>\n"
            ]
          },
          "metadata": {},
          "execution_count": 32
        }
      ]
    },
    {
      "cell_type": "markdown",
      "source": [
        "... and verify if now our [`info()`](https://pandas.pydata.org/pandas-docs/stable/reference/api/pandas.DataFrame.info.html) prints out the dtypes we've expected it to display."
      ],
      "metadata": {
        "id": "l5ibUWe59lRb"
      },
      "id": "l5ibUWe59lRb"
    },
    {
      "cell_type": "code",
      "source": [
        "X_train.info()"
      ],
      "metadata": {
        "id": "q9-wlVKic3Wl",
        "colab": {
          "base_uri": "https://localhost:8080/"
        },
        "outputId": "9e479c89-ef0c-4c76-a889-23f3bdca53db"
      },
      "id": "q9-wlVKic3Wl",
      "execution_count": 33,
      "outputs": [
        {
          "output_type": "stream",
          "name": "stdout",
          "text": [
            "<class 'pandas.core.frame.DataFrame'>\n",
            "Int64Index: 3612 entries, 2791 to 1034\n",
            "Data columns (total 31 columns):\n",
            " #   Column                                                Non-Null Count  Dtype  \n",
            "---  ------                                                --------------  -----  \n",
            " 0   neighbourhood_Bijlmer-Centrum                         3612 non-null   Int64  \n",
            " 1   neighbourhood_Bijlmer-Oost                            3612 non-null   Int64  \n",
            " 2   neighbourhood_Bos en Lommer                           3612 non-null   Int64  \n",
            " 3   neighbourhood_Buitenveldert - Zuidas                  3612 non-null   Int64  \n",
            " 4   neighbourhood_Centrum-Oost                            3612 non-null   Int64  \n",
            " 5   neighbourhood_Centrum-West                            3612 non-null   Int64  \n",
            " 6   neighbourhood_De Aker - Nieuw Sloten                  3612 non-null   Int64  \n",
            " 7   neighbourhood_De Baarsjes - Oud-West                  3612 non-null   Int64  \n",
            " 8   neighbourhood_De Pijp - Rivierenbuurt                 3612 non-null   Int64  \n",
            " 9   neighbourhood_Gaasperdam - Driemond                   3612 non-null   Int64  \n",
            " 10  neighbourhood_Geuzenveld - Slotermeer                 3612 non-null   Int64  \n",
            " 11  neighbourhood_IJburg - Zeeburgereiland                3612 non-null   Int64  \n",
            " 12  neighbourhood_Noord-Oost                              3612 non-null   Int64  \n",
            " 13  neighbourhood_Noord-West                              3612 non-null   Int64  \n",
            " 14  neighbourhood_Oostelijk Havengebied - Indische Buurt  3612 non-null   Int64  \n",
            " 15  neighbourhood_Osdorp                                  3612 non-null   Int64  \n",
            " 16  neighbourhood_Oud-Noord                               3612 non-null   Int64  \n",
            " 17  neighbourhood_Oud-Oost                                3612 non-null   Int64  \n",
            " 18  neighbourhood_Slotervaart                             3612 non-null   Int64  \n",
            " 19  neighbourhood_Watergraafsmeer                         3612 non-null   Int64  \n",
            " 20  neighbourhood_Westerpark                              3612 non-null   Int64  \n",
            " 21  neighbourhood_Zuid                                    3612 non-null   Int64  \n",
            " 22  room_type_Entire home/apt                             3612 non-null   Int64  \n",
            " 23  room_type_Hotel room                                  3612 non-null   Int64  \n",
            " 24  room_type_Private room                                3612 non-null   Int64  \n",
            " 25  room_type_Shared room                                 3612 non-null   Int64  \n",
            " 26  price_in_dollar                                       3612 non-null   Int64  \n",
            " 27  amenities                                             3612 non-null   Int64  \n",
            " 28  accommodates                                          3612 non-null   Int64  \n",
            " 29  review_scores_rating                                  3612 non-null   Float64\n",
            " 30  instant_bookable                                      3612 non-null   Int64  \n",
            "dtypes: Float64(1), Int64(30)\n",
            "memory usage: 1012.3 KB\n"
          ]
        }
      ]
    },
    {
      "cell_type": "markdown",
      "source": [
        "Seems about right! On to the next part!"
      ],
      "metadata": {
        "id": "ZTVcqd1S9zJo"
      },
      "id": "ZTVcqd1S9zJo"
    },
    {
      "cell_type": "markdown",
      "source": [
        "---\n",
        "\n",
        "#### (Optional) Part 9: Correlation and SPLOM matrix\n",
        "\n",
        "[*\\[Related section on Uplimit\\]*](https://corise.com/course/intermediate-python-for-data-science/v2/module/load-inspect-split#corise_clb3ivgt400343b6p4bkquo9c)\n",
        "\n",
        "As discussed on CoRise, correlation is often a simple and intuitive measure to see which features can be useful to use for our model later on. There exists [many more extensive and better methods](https://neptune.ai/blog/feature-selection-methods) to see and select our features, however for now we'll only focus on this method.\n",
        "\n",
        "Let's recreate the correlation matrix from [the course first](https://corise.com/course/intermediate-python-for-data-science/v2/module/load-inspect-split#corise_clb3yc6w300c73b6pxly95sjh), but now with a few more features and a different target variable."
      ],
      "metadata": {
        "id": "Fx8s1tx999Ky"
      },
      "id": "Fx8s1tx999Ky"
    },
    {
      "cell_type": "code",
      "source": [
        "# Correlation - what are the best features?\n",
        "import numpy as np\n",
        "import plotly.express as px\n",
        "\n",
        "# Exclude \"neighbourhood\" colums for better visualization.\n",
        "X_train_filtered = X_train.filter(regex=\"^((?!neighbourhood).)*$\")\n",
        "\n",
        "# combine X_train with Y_train\n",
        "ndf_list = pd.concat([X_train_filtered, y_train], axis=1)\n",
        "\n",
        "# Create a dataframe that can be used as a heatmap\n",
        "fig = px.imshow(\n",
        "    ndf_list.corr().round(2),\n",
        "    text_auto=True,\n",
        "    aspect=\"auto\",\n",
        "    color_continuous_scale=\"rdylgn\",\n",
        ")\n",
        "fig.show()"
      ],
      "metadata": {
        "id": "E84rXcoGQxAI",
        "colab": {
          "base_uri": "https://localhost:8080/",
          "height": 542
        },
        "outputId": "dbf40e0b-6def-46f2-87af-d3831b6ed681"
      },
      "id": "E84rXcoGQxAI",
      "execution_count": 35,
      "outputs": [
        {
          "output_type": "display_data",
          "data": {
            "text/html": [
              "<html>\n",
              "<head><meta charset=\"utf-8\" /></head>\n",
              "<body>\n",
              "    <div>            <script src=\"https://cdnjs.cloudflare.com/ajax/libs/mathjax/2.7.5/MathJax.js?config=TeX-AMS-MML_SVG\"></script><script type=\"text/javascript\">if (window.MathJax && window.MathJax.Hub && window.MathJax.Hub.Config) {window.MathJax.Hub.Config({SVG: {font: \"STIX-Web\"}});}</script>                <script type=\"text/javascript\">window.PlotlyConfig = {MathJaxConfig: 'local'};</script>\n",
              "        <script charset=\"utf-8\" src=\"https://cdn.plot.ly/plotly-2.24.1.min.js\"></script>                <div id=\"f21a7f25-b068-4e2f-b19d-21d1f4a7b46f\" class=\"plotly-graph-div\" style=\"height:525px; width:100%;\"></div>            <script type=\"text/javascript\">                                    window.PLOTLYENV=window.PLOTLYENV || {};                                    if (document.getElementById(\"f21a7f25-b068-4e2f-b19d-21d1f4a7b46f\")) {                    Plotly.newPlot(                        \"f21a7f25-b068-4e2f-b19d-21d1f4a7b46f\",                        [{\"coloraxis\":\"coloraxis\",\"name\":\"0\",\"texttemplate\":\"%{z}\",\"x\":[\"room_type_Entire home\\u002fapt\",\"room_type_Hotel room\",\"room_type_Private room\",\"room_type_Shared room\",\"price_in_dollar\",\"amenities\",\"accommodates\",\"review_scores_rating\",\"instant_bookable\",\"host_reported_average_tip\"],\"y\":[\"room_type_Entire home\\u002fapt\",\"room_type_Hotel room\",\"room_type_Private room\",\"room_type_Shared room\",\"price_in_dollar\",\"amenities\",\"accommodates\",\"review_scores_rating\",\"instant_bookable\",\"host_reported_average_tip\"],\"z\":[[1.0,-0.36,-0.46,-0.37,0.6,0.57,0.46,-0.16,0.3,0.5],[-0.36,1.0,-0.28,-0.23,0.24,0.23,-0.36,0.23,-0.09,0.24],[-0.46,-0.28,1.0,-0.29,-0.32,-0.31,0.19,0.01,-0.26,-0.27],[-0.37,-0.23,-0.29,1.0,-0.61,-0.58,-0.42,-0.05,0.0,-0.55],[0.6,0.24,-0.32,-0.61,1.0,0.95,0.5,0.35,0.47,0.88],[0.57,0.23,-0.31,-0.58,0.95,1.0,0.47,0.32,0.45,0.83],[0.46,-0.36,0.19,-0.42,0.5,0.47,1.0,-0.07,0.25,0.4],[-0.16,0.23,0.01,-0.05,0.35,0.32,-0.07,1.0,0.16,0.39],[0.3,-0.09,-0.26,0.0,0.47,0.45,0.25,0.16,1.0,0.39],[0.5,0.24,-0.27,-0.55,0.88,0.83,0.4,0.39,0.39,1.0]],\"type\":\"heatmap\",\"xaxis\":\"x\",\"yaxis\":\"y\",\"hovertemplate\":\"x: %{x}\\u003cbr\\u003ey: %{y}\\u003cbr\\u003ecolor: %{z}\\u003cextra\\u003e\\u003c\\u002fextra\\u003e\"}],                        {\"template\":{\"data\":{\"histogram2dcontour\":[{\"type\":\"histogram2dcontour\",\"colorbar\":{\"outlinewidth\":0,\"ticks\":\"\"},\"colorscale\":[[0.0,\"#0d0887\"],[0.1111111111111111,\"#46039f\"],[0.2222222222222222,\"#7201a8\"],[0.3333333333333333,\"#9c179e\"],[0.4444444444444444,\"#bd3786\"],[0.5555555555555556,\"#d8576b\"],[0.6666666666666666,\"#ed7953\"],[0.7777777777777778,\"#fb9f3a\"],[0.8888888888888888,\"#fdca26\"],[1.0,\"#f0f921\"]]}],\"choropleth\":[{\"type\":\"choropleth\",\"colorbar\":{\"outlinewidth\":0,\"ticks\":\"\"}}],\"histogram2d\":[{\"type\":\"histogram2d\",\"colorbar\":{\"outlinewidth\":0,\"ticks\":\"\"},\"colorscale\":[[0.0,\"#0d0887\"],[0.1111111111111111,\"#46039f\"],[0.2222222222222222,\"#7201a8\"],[0.3333333333333333,\"#9c179e\"],[0.4444444444444444,\"#bd3786\"],[0.5555555555555556,\"#d8576b\"],[0.6666666666666666,\"#ed7953\"],[0.7777777777777778,\"#fb9f3a\"],[0.8888888888888888,\"#fdca26\"],[1.0,\"#f0f921\"]]}],\"heatmap\":[{\"type\":\"heatmap\",\"colorbar\":{\"outlinewidth\":0,\"ticks\":\"\"},\"colorscale\":[[0.0,\"#0d0887\"],[0.1111111111111111,\"#46039f\"],[0.2222222222222222,\"#7201a8\"],[0.3333333333333333,\"#9c179e\"],[0.4444444444444444,\"#bd3786\"],[0.5555555555555556,\"#d8576b\"],[0.6666666666666666,\"#ed7953\"],[0.7777777777777778,\"#fb9f3a\"],[0.8888888888888888,\"#fdca26\"],[1.0,\"#f0f921\"]]}],\"heatmapgl\":[{\"type\":\"heatmapgl\",\"colorbar\":{\"outlinewidth\":0,\"ticks\":\"\"},\"colorscale\":[[0.0,\"#0d0887\"],[0.1111111111111111,\"#46039f\"],[0.2222222222222222,\"#7201a8\"],[0.3333333333333333,\"#9c179e\"],[0.4444444444444444,\"#bd3786\"],[0.5555555555555556,\"#d8576b\"],[0.6666666666666666,\"#ed7953\"],[0.7777777777777778,\"#fb9f3a\"],[0.8888888888888888,\"#fdca26\"],[1.0,\"#f0f921\"]]}],\"contourcarpet\":[{\"type\":\"contourcarpet\",\"colorbar\":{\"outlinewidth\":0,\"ticks\":\"\"}}],\"contour\":[{\"type\":\"contour\",\"colorbar\":{\"outlinewidth\":0,\"ticks\":\"\"},\"colorscale\":[[0.0,\"#0d0887\"],[0.1111111111111111,\"#46039f\"],[0.2222222222222222,\"#7201a8\"],[0.3333333333333333,\"#9c179e\"],[0.4444444444444444,\"#bd3786\"],[0.5555555555555556,\"#d8576b\"],[0.6666666666666666,\"#ed7953\"],[0.7777777777777778,\"#fb9f3a\"],[0.8888888888888888,\"#fdca26\"],[1.0,\"#f0f921\"]]}],\"surface\":[{\"type\":\"surface\",\"colorbar\":{\"outlinewidth\":0,\"ticks\":\"\"},\"colorscale\":[[0.0,\"#0d0887\"],[0.1111111111111111,\"#46039f\"],[0.2222222222222222,\"#7201a8\"],[0.3333333333333333,\"#9c179e\"],[0.4444444444444444,\"#bd3786\"],[0.5555555555555556,\"#d8576b\"],[0.6666666666666666,\"#ed7953\"],[0.7777777777777778,\"#fb9f3a\"],[0.8888888888888888,\"#fdca26\"],[1.0,\"#f0f921\"]]}],\"mesh3d\":[{\"type\":\"mesh3d\",\"colorbar\":{\"outlinewidth\":0,\"ticks\":\"\"}}],\"scatter\":[{\"fillpattern\":{\"fillmode\":\"overlay\",\"size\":10,\"solidity\":0.2},\"type\":\"scatter\"}],\"parcoords\":[{\"type\":\"parcoords\",\"line\":{\"colorbar\":{\"outlinewidth\":0,\"ticks\":\"\"}}}],\"scatterpolargl\":[{\"type\":\"scatterpolargl\",\"marker\":{\"colorbar\":{\"outlinewidth\":0,\"ticks\":\"\"}}}],\"bar\":[{\"error_x\":{\"color\":\"#2a3f5f\"},\"error_y\":{\"color\":\"#2a3f5f\"},\"marker\":{\"line\":{\"color\":\"#E5ECF6\",\"width\":0.5},\"pattern\":{\"fillmode\":\"overlay\",\"size\":10,\"solidity\":0.2}},\"type\":\"bar\"}],\"scattergeo\":[{\"type\":\"scattergeo\",\"marker\":{\"colorbar\":{\"outlinewidth\":0,\"ticks\":\"\"}}}],\"scatterpolar\":[{\"type\":\"scatterpolar\",\"marker\":{\"colorbar\":{\"outlinewidth\":0,\"ticks\":\"\"}}}],\"histogram\":[{\"marker\":{\"pattern\":{\"fillmode\":\"overlay\",\"size\":10,\"solidity\":0.2}},\"type\":\"histogram\"}],\"scattergl\":[{\"type\":\"scattergl\",\"marker\":{\"colorbar\":{\"outlinewidth\":0,\"ticks\":\"\"}}}],\"scatter3d\":[{\"type\":\"scatter3d\",\"line\":{\"colorbar\":{\"outlinewidth\":0,\"ticks\":\"\"}},\"marker\":{\"colorbar\":{\"outlinewidth\":0,\"ticks\":\"\"}}}],\"scattermapbox\":[{\"type\":\"scattermapbox\",\"marker\":{\"colorbar\":{\"outlinewidth\":0,\"ticks\":\"\"}}}],\"scatterternary\":[{\"type\":\"scatterternary\",\"marker\":{\"colorbar\":{\"outlinewidth\":0,\"ticks\":\"\"}}}],\"scattercarpet\":[{\"type\":\"scattercarpet\",\"marker\":{\"colorbar\":{\"outlinewidth\":0,\"ticks\":\"\"}}}],\"carpet\":[{\"aaxis\":{\"endlinecolor\":\"#2a3f5f\",\"gridcolor\":\"white\",\"linecolor\":\"white\",\"minorgridcolor\":\"white\",\"startlinecolor\":\"#2a3f5f\"},\"baxis\":{\"endlinecolor\":\"#2a3f5f\",\"gridcolor\":\"white\",\"linecolor\":\"white\",\"minorgridcolor\":\"white\",\"startlinecolor\":\"#2a3f5f\"},\"type\":\"carpet\"}],\"table\":[{\"cells\":{\"fill\":{\"color\":\"#EBF0F8\"},\"line\":{\"color\":\"white\"}},\"header\":{\"fill\":{\"color\":\"#C8D4E3\"},\"line\":{\"color\":\"white\"}},\"type\":\"table\"}],\"barpolar\":[{\"marker\":{\"line\":{\"color\":\"#E5ECF6\",\"width\":0.5},\"pattern\":{\"fillmode\":\"overlay\",\"size\":10,\"solidity\":0.2}},\"type\":\"barpolar\"}],\"pie\":[{\"automargin\":true,\"type\":\"pie\"}]},\"layout\":{\"autotypenumbers\":\"strict\",\"colorway\":[\"#636efa\",\"#EF553B\",\"#00cc96\",\"#ab63fa\",\"#FFA15A\",\"#19d3f3\",\"#FF6692\",\"#B6E880\",\"#FF97FF\",\"#FECB52\"],\"font\":{\"color\":\"#2a3f5f\"},\"hovermode\":\"closest\",\"hoverlabel\":{\"align\":\"left\"},\"paper_bgcolor\":\"white\",\"plot_bgcolor\":\"#E5ECF6\",\"polar\":{\"bgcolor\":\"#E5ECF6\",\"angularaxis\":{\"gridcolor\":\"white\",\"linecolor\":\"white\",\"ticks\":\"\"},\"radialaxis\":{\"gridcolor\":\"white\",\"linecolor\":\"white\",\"ticks\":\"\"}},\"ternary\":{\"bgcolor\":\"#E5ECF6\",\"aaxis\":{\"gridcolor\":\"white\",\"linecolor\":\"white\",\"ticks\":\"\"},\"baxis\":{\"gridcolor\":\"white\",\"linecolor\":\"white\",\"ticks\":\"\"},\"caxis\":{\"gridcolor\":\"white\",\"linecolor\":\"white\",\"ticks\":\"\"}},\"coloraxis\":{\"colorbar\":{\"outlinewidth\":0,\"ticks\":\"\"}},\"colorscale\":{\"sequential\":[[0.0,\"#0d0887\"],[0.1111111111111111,\"#46039f\"],[0.2222222222222222,\"#7201a8\"],[0.3333333333333333,\"#9c179e\"],[0.4444444444444444,\"#bd3786\"],[0.5555555555555556,\"#d8576b\"],[0.6666666666666666,\"#ed7953\"],[0.7777777777777778,\"#fb9f3a\"],[0.8888888888888888,\"#fdca26\"],[1.0,\"#f0f921\"]],\"sequentialminus\":[[0.0,\"#0d0887\"],[0.1111111111111111,\"#46039f\"],[0.2222222222222222,\"#7201a8\"],[0.3333333333333333,\"#9c179e\"],[0.4444444444444444,\"#bd3786\"],[0.5555555555555556,\"#d8576b\"],[0.6666666666666666,\"#ed7953\"],[0.7777777777777778,\"#fb9f3a\"],[0.8888888888888888,\"#fdca26\"],[1.0,\"#f0f921\"]],\"diverging\":[[0,\"#8e0152\"],[0.1,\"#c51b7d\"],[0.2,\"#de77ae\"],[0.3,\"#f1b6da\"],[0.4,\"#fde0ef\"],[0.5,\"#f7f7f7\"],[0.6,\"#e6f5d0\"],[0.7,\"#b8e186\"],[0.8,\"#7fbc41\"],[0.9,\"#4d9221\"],[1,\"#276419\"]]},\"xaxis\":{\"gridcolor\":\"white\",\"linecolor\":\"white\",\"ticks\":\"\",\"title\":{\"standoff\":15},\"zerolinecolor\":\"white\",\"automargin\":true,\"zerolinewidth\":2},\"yaxis\":{\"gridcolor\":\"white\",\"linecolor\":\"white\",\"ticks\":\"\",\"title\":{\"standoff\":15},\"zerolinecolor\":\"white\",\"automargin\":true,\"zerolinewidth\":2},\"scene\":{\"xaxis\":{\"backgroundcolor\":\"#E5ECF6\",\"gridcolor\":\"white\",\"linecolor\":\"white\",\"showbackground\":true,\"ticks\":\"\",\"zerolinecolor\":\"white\",\"gridwidth\":2},\"yaxis\":{\"backgroundcolor\":\"#E5ECF6\",\"gridcolor\":\"white\",\"linecolor\":\"white\",\"showbackground\":true,\"ticks\":\"\",\"zerolinecolor\":\"white\",\"gridwidth\":2},\"zaxis\":{\"backgroundcolor\":\"#E5ECF6\",\"gridcolor\":\"white\",\"linecolor\":\"white\",\"showbackground\":true,\"ticks\":\"\",\"zerolinecolor\":\"white\",\"gridwidth\":2}},\"shapedefaults\":{\"line\":{\"color\":\"#2a3f5f\"}},\"annotationdefaults\":{\"arrowcolor\":\"#2a3f5f\",\"arrowhead\":0,\"arrowwidth\":1},\"geo\":{\"bgcolor\":\"white\",\"landcolor\":\"#E5ECF6\",\"subunitcolor\":\"white\",\"showland\":true,\"showlakes\":true,\"lakecolor\":\"white\"},\"title\":{\"x\":0.05},\"mapbox\":{\"style\":\"light\"}}},\"xaxis\":{\"anchor\":\"y\",\"domain\":[0.0,1.0]},\"yaxis\":{\"anchor\":\"x\",\"domain\":[0.0,1.0],\"autorange\":\"reversed\"},\"coloraxis\":{\"colorscale\":[[0.0,\"rgb(165,0,38)\"],[0.1,\"rgb(215,48,39)\"],[0.2,\"rgb(244,109,67)\"],[0.3,\"rgb(253,174,97)\"],[0.4,\"rgb(254,224,139)\"],[0.5,\"rgb(255,255,191)\"],[0.6,\"rgb(217,239,139)\"],[0.7,\"rgb(166,217,106)\"],[0.8,\"rgb(102,189,99)\"],[0.9,\"rgb(26,152,80)\"],[1.0,\"rgb(0,104,55)\"]]},\"margin\":{\"t\":60}},                        {\"responsive\": true}                    ).then(function(){\n",
              "                            \n",
              "var gd = document.getElementById('f21a7f25-b068-4e2f-b19d-21d1f4a7b46f');\n",
              "var x = new MutationObserver(function (mutations, observer) {{\n",
              "        var display = window.getComputedStyle(gd).display;\n",
              "        if (!display || display === 'none') {{\n",
              "            console.log([gd, 'removed!']);\n",
              "            Plotly.purge(gd);\n",
              "            observer.disconnect();\n",
              "        }}\n",
              "}});\n",
              "\n",
              "// Listen for the removal of the full notebook cells\n",
              "var notebookContainer = gd.closest('#notebook-container');\n",
              "if (notebookContainer) {{\n",
              "    x.observe(notebookContainer, {childList: true});\n",
              "}}\n",
              "\n",
              "// Listen for the clearing of the current output cell\n",
              "var outputEl = gd.closest('.output');\n",
              "if (outputEl) {{\n",
              "    x.observe(outputEl, {childList: true});\n",
              "}}\n",
              "\n",
              "                        })                };                            </script>        </div>\n",
              "</body>\n",
              "</html>"
            ]
          },
          "metadata": {}
        }
      ]
    },
    {
      "cell_type": "markdown",
      "source": [
        "<details>\n",
        "<summary>Show Solution</summary>\n",
        "\n",
        "```python\n",
        "# Correlation - what are the best features?\n",
        "import numpy as np\n",
        "import plotly.express as px\n",
        "\n",
        "# Exclude \"neighbourhood\" colums for better visualization.\n",
        "X_train_filtered = X_train.filter(regex=\"^((?!neighbourhood).)*$\")\n",
        "\n",
        "# combine X_train with Y_train\n",
        "ndf_list = pd.concat([X_train_filtered, y_train], axis=1)\n",
        "\n",
        "# Create a dataframe that can be used as a heatmap\n",
        "fig = px.imshow(\n",
        "    ndf_list.corr().round(2),\n",
        "    text_auto=True,\n",
        "    aspect=\"auto\",\n",
        "    color_continuous_scale=\"rdylgn\",\n",
        ")\n",
        "fig.show()\n",
        "\n",
        "```\n",
        "</details>"
      ],
      "metadata": {
        "id": "-o_Pn--Cjepo"
      },
      "id": "-o_Pn--Cjepo"
    },
    {
      "cell_type": "markdown",
      "source": [
        "This reveals that for \"host_reported_average_tip\", there are many features that might be interesting to use. For example, \"amenities\", \"price_in_dollar\", and \"room_type_Shared room\" seem to be quite correlated. To expand our analysis, it might also be worthwhile to visualize these relations by using a [SPLOM](https://plotly.com/python/splom/). Can you create a SPLOM using the provided link, while using the `ndf_list` DataFrame? We'd recommend to set a height of at least \"1200\" as parameter."
      ],
      "metadata": {
        "id": "5tcVfEgm-7ME"
      },
      "id": "5tcVfEgm-7ME"
    },
    {
      "cell_type": "code",
      "source": [
        "import plotly.express as px\n",
        "\n",
        "fig = px.scatter_matrix(ndf_list, height=1200)\n",
        "fig.show()"
      ],
      "metadata": {
        "id": "7mxqDaEaQ-2G",
        "colab": {
          "base_uri": "https://localhost:8080/",
          "height": 1000
        },
        "outputId": "8ba8e6f9-f978-4358-de71-1c8001a2dc77"
      },
      "id": "7mxqDaEaQ-2G",
      "execution_count": 36,
      "outputs": [
        {
          "output_type": "display_data",
          "data": {
            "text/html": [
              "<html>\n",
              "<head><meta charset=\"utf-8\" /></head>\n",
              "<body>\n",
              "    <div>            <script src=\"https://cdnjs.cloudflare.com/ajax/libs/mathjax/2.7.5/MathJax.js?config=TeX-AMS-MML_SVG\"></script><script type=\"text/javascript\">if (window.MathJax && window.MathJax.Hub && window.MathJax.Hub.Config) {window.MathJax.Hub.Config({SVG: {font: \"STIX-Web\"}});}</script>                <script type=\"text/javascript\">window.PlotlyConfig = {MathJaxConfig: 'local'};</script>\n",
              "        <script charset=\"utf-8\" src=\"https://cdn.plot.ly/plotly-2.24.1.min.js\"></script>                <div id=\"8ce9dc21-6909-48f7-bb55-d20495cfef11\" class=\"plotly-graph-div\" style=\"height:1200px; width:100%;\"></div>            <script type=\"text/javascript\">                                    window.PLOTLYENV=window.PLOTLYENV || {};                                    if (document.getElementById(\"8ce9dc21-6909-48f7-bb55-d20495cfef11\")) {                    Plotly.newPlot(                        \"8ce9dc21-6909-48f7-bb55-d20495cfef11\",                        [{\"dimensions\":[{\"axis\":{\"matches\":true},\"label\":\"room_type_Entire home\\u002fapt\",\"values\":[0,0,0,0,0,1,0,0,1,0,0,1,1,0,0,0,0,1,0,0,0,0,0,0,0,0,0,1,0,0,1,0,0,0,0,0,0,1,0,1,1,0,1,0,0,1,1,0,0,1,0,0,0,0,0,1,1,0,1,0,0,0,1,1,0,0,1,0,1,0,0,0,0,1,0,0,0,1,1,1,0,0,1,0,1,1,1,0,0,0,1,1,1,0,1,0,0,0,1,0,0,1,0,1,0,0,0,0,1,1,1,0,0,0,1,0,1,0,0,0,1,1,0,0,0,1,0,0,1,1,1,1,1,1,0,0,0,0,0,0,0,1,1,1,0,0,1,0,1,0,1,1,0,0,0,0,0,1,1,0,0,1,1,0,1,0,1,0,1,0,0,1,0,0,0,0,0,0,0,1,0,0,0,1,1,0,0,1,1,0,1,0,1,0,1,0,0,1,0,1,0,1,0,0,0,1,0,0,0,1,0,0,0,1,0,1,0,1,1,0,0,0,1,1,0,0,0,1,0,1,0,1,0,0,0,0,0,0,1,0,0,0,1,0,0,0,1,0,0,0,1,1,0,0,1,1,1,1,1,0,0,1,0,0,0,1,1,0,0,0,0,1,0,0,1,0,0,0,0,1,1,0,0,1,0,0,1,1,1,0,0,1,0,1,0,0,1,1,1,1,0,1,1,0,0,1,0,0,1,0,0,0,0,0,1,1,0,0,0,0,0,0,0,1,0,0,0,0,1,0,0,0,0,0,0,1,1,1,1,0,0,0,0,0,0,0,1,0,0,1,0,0,0,0,1,1,1,0,1,0,1,0,0,0,0,1,0,0,0,1,0,1,0,1,1,0,1,1,1,1,0,1,1,0,1,1,1,1,0,1,0,1,0,0,1,1,0,1,0,1,0,0,0,1,0,0,1,1,1,0,0,0,0,0,0,0,0,0,0,1,0,0,0,0,1,0,0,1,0,0,0,0,0,1,0,1,1,0,1,0,0,0,0,0,0,1,1,0,0,1,0,1,0,0,0,1,0,1,1,0,0,1,1,1,1,1,0,1,0,1,0,1,0,0,1,0,0,1,1,0,1,1,1,0,1,0,1,1,0,1,0,0,1,0,1,0,0,0,1,1,1,0,0,0,1,0,0,0,0,0,0,0,0,0,0,0,0,0,0,1,1,0,1,0,1,0,0,0,0,1,1,0,0,1,0,0,0,1,0,0,0,0,1,0,1,0,0,0,1,1,1,0,0,0,0,0,0,1,1,0,0,0,0,1,0,1,0,1,0,1,1,1,0,0,0,1,0,0,0,0,0,0,0,0,0,0,0,1,1,0,0,1,0,1,1,0,1,1,0,1,1,0,0,1,1,0,0,0,0,0,1,0,0,1,1,1,1,0,1,0,1,1,1,0,0,0,1,0,1,0,0,1,1,0,0,0,1,0,0,1,0,1,1,0,1,1,0,1,0,0,0,0,1,0,0,1,0,0,1,0,0,1,1,0,1,1,0,0,1,0,0,1,0,0,0,1,0,0,0,0,1,0,0,1,0,0,1,1,0,0,0,0,1,0,0,0,1,1,1,0,1,1,0,1,0,0,0,0,1,0,1,0,0,1,1,1,0,0,0,0,0,1,1,0,1,0,1,0,1,0,0,1,1,1,0,0,1,1,0,0,0,0,0,0,1,0,0,0,0,0,1,0,0,1,0,0,1,0,0,1,0,1,0,0,0,0,0,0,1,1,0,0,1,1,0,0,0,1,0,1,0,0,0,0,1,0,1,0,0,1,1,1,1,1,1,0,1,0,1,1,0,1,0,0,0,0,0,1,0,0,0,1,0,0,1,0,0,1,0,1,1,1,1,0,0,0,1,1,0,0,0,1,1,0,0,1,1,1,1,0,0,1,1,1,0,0,0,0,0,0,1,1,0,0,0,0,1,1,1,1,0,0,0,0,0,1,0,1,0,0,0,0,0,0,1,1,1,0,0,0,0,1,0,0,0,1,0,0,1,1,0,1,0,1,1,0,1,0,1,0,1,0,0,0,0,0,0,1,1,1,0,0,0,0,0,0,0,1,0,0,0,0,0,0,1,0,1,1,0,1,0,1,0,0,0,1,0,1,1,0,1,0,0,0,0,0,0,1,1,0,0,1,0,0,0,0,1,0,0,0,0,1,0,0,1,0,0,0,0,1,0,0,1,1,1,0,1,0,1,1,0,1,0,0,0,1,0,0,1,0,1,0,0,0,0,0,1,0,1,0,1,0,1,1,1,1,0,1,1,0,1,1,0,1,0,0,0,0,0,1,1,0,0,1,0,1,0,1,1,0,1,1,0,1,0,1,1,0,0,0,1,1,0,0,1,0,1,0,1,0,0,0,0,0,1,0,0,0,0,0,0,0,0,1,1,1,0,0,0,1,0,1,1,1,0,1,0,0,0,0,1,0,0,0,1,0,0,0,0,0,1,0,1,0,0,0,0,1,0,1,1,0,0,0,0,1,0,1,0,0,1,0,0,0,0,1,1,0,1,0,0,1,1,0,0,1,1,0,0,0,1,1,0,1,1,0,0,0,1,1,1,0,1,0,0,1,0,0,0,0,0,1,0,1,0,0,1,0,0,1,1,0,0,0,0,1,1,0,0,0,1,1,1,1,0,0,0,1,1,1,0,0,0,1,0,0,1,0,0,1,1,0,0,1,0,0,0,1,0,0,0,0,0,0,0,1,0,1,0,1,0,0,0,0,1,0,1,0,0,1,0,0,0,0,1,0,0,1,1,1,1,0,0,0,1,0,0,0,0,1,1,0,0,1,0,0,1,1,1,0,0,1,0,0,1,1,0,0,1,0,1,0,0,1,1,1,1,0,0,0,1,1,0,0,0,0,1,0,0,0,0,0,1,1,0,0,0,1,0,0,0,0,1,1,0,0,0,1,0,0,1,1,0,0,1,0,0,0,1,1,0,1,1,0,0,0,1,0,0,0,0,1,0,1,1,0,0,1,1,0,1,0,1,0,0,1,1,0,0,0,0,1,0,0,0,0,0,0,1,1,0,0,0,0,0,0,1,1,1,0,1,1,0,1,0,0,1,0,1,0,0,0,1,1,0,0,0,0,1,1,1,0,0,0,0,0,0,1,0,0,0,0,1,0,1,0,0,1,0,0,0,0,1,0,0,0,0,0,0,0,1,1,0,0,0,0,0,0,0,0,1,0,0,0,0,0,0,0,1,1,0,0,1,0,0,0,0,1,1,0,0,0,1,0,0,0,0,0,0,0,0,1,0,0,1,1,0,1,1,1,0,0,0,0,0,0,0,0,1,0,0,0,1,1,0,0,0,0,0,1,0,0,0,0,0,0,0,0,1,0,0,0,0,0,0,0,1,1,1,1,1,1,1,1,0,1,1,0,0,0,0,1,0,0,0,0,0,0,1,1,1,0,0,0,0,0,0,1,0,0,0,0,0,0,0,0,0,0,1,0,1,0,0,1,1,1,0,0,1,1,1,0,1,0,1,0,0,0,0,0,0,0,0,0,1,0,0,0,0,0,0,0,0,0,0,0,0,0,0,1,0,1,0,0,1,0,1,1,0,0,0,0,1,0,0,1,0,1,0,0,0,1,0,1,0,0,1,0,0,0,1,0,0,0,0,1,0,1,1,0,1,0,0,0,0,0,0,0,0,0,1,1,1,1,0,0,0,1,0,1,1,1,0,1,1,0,0,0,0,0,0,1,0,1,0,0,0,0,0,0,0,0,0,0,0,0,1,0,1,1,1,0,0,0,1,1,0,0,1,0,0,0,1,1,1,0,0,0,0,0,0,0,1,1,0,1,0,1,0,0,1,1,0,0,1,0,0,0,0,0,1,1,0,0,0,0,0,0,0,1,0,0,0,1,1,1,1,1,0,1,0,1,0,0,0,1,1,0,0,1,0,0,0,1,1,0,1,0,0,0,0,1,0,1,0,1,0,0,0,0,1,1,1,1,0,0,1,0,0,0,1,0,1,0,0,1,0,1,0,0,1,0,0,1,0,1,0,1,0,0,0,1,0,0,0,0,1,1,1,0,1,0,0,0,0,0,1,0,0,1,1,1,0,0,0,0,1,0,0,1,1,0,1,0,0,0,0,0,1,0,0,0,0,1,0,1,1,0,0,1,1,1,0,0,0,0,0,1,1,0,1,1,1,0,1,0,0,0,0,1,1,0,1,0,1,0,0,0,1,0,1,0,1,0,0,0,1,0,1,1,0,0,0,0,1,0,1,0,0,0,0,1,1,0,0,0,1,0,0,1,0,0,0,0,1,1,1,0,0,1,0,0,0,0,0,1,0,1,0,0,0,1,1,1,1,0,0,0,0,0,0,1,1,0,0,0,0,0,1,0,1,0,0,0,0,1,0,0,0,0,1,0,0,0,0,0,1,1,1,0,0,0,0,0,0,1,1,0,0,1,0,0,0,0,0,0,0,1,0,0,0,0,1,0,0,1,0,1,1,1,0,1,0,0,0,0,1,0,1,0,0,0,0,0,0,1,1,1,1,0,0,0,0,0,0,0,1,1,0,1,0,1,0,1,0,0,1,1,0,0,1,0,1,0,0,0,0,0,0,0,0,0,1,1,0,0,0,0,0,1,0,1,1,1,0,0,1,1,0,0,0,1,0,0,1,0,0,1,0,1,1,0,0,0,0,1,0,0,0,0,1,1,1,1,0,0,0,0,0,0,0,1,0,0,0,1,1,1,0,0,1,1,1,1,1,0,0,0,1,0,0,0,1,0,1,1,0,1,1,0,1,0,1,1,0,1,0,0,1,0,0,1,0,0,1,0,0,0,0,0,0,0,0,0,0,0,1,0,0,0,1,1,0,0,0,1,0,1,1,1,1,1,0,1,0,1,1,1,0,0,1,0,0,0,1,1,0,1,1,0,0,0,1,0,1,0,0,1,0,0,1,0,0,1,0,0,0,0,0,0,0,1,0,0,0,0,0,0,0,1,0,0,1,0,0,0,1,0,0,0,1,1,0,0,0,1,0,0,0,1,0,0,1,0,1,1,0,1,0,0,1,1,0,0,1,1,0,0,0,1,1,0,0,0,1,0,1,0,0,0,0,1,0,0,1,1,0,0,0,0,0,0,1,0,0,1,1,0,0,0,0,0,0,0,1,1,1,0,0,0,0,0,0,0,1,0,0,0,0,0,1,1,1,1,1,0,0,0,0,0,0,1,1,0,0,1,0,1,0,0,0,0,0,1,0,0,0,1,0,0,1,0,0,0,0,1,0,0,0,0,0,0,0,0,1,0,0,0,0,0,0,0,0,0,0,0,1,0,0,0,0,0,1,0,0,0,0,0,0,0,1,0,1,1,1,0,1,1,0,0,0,1,0,0,0,0,1,0,0,0,0,0,0,1,0,1,0,0,0,0,0,0,1,0,1,1,0,1,0,1,1,0,1,1,0,0,0,0,1,0,0,1,0,1,1,1,1,1,0,0,0,0,1,0,0,0,0,1,0,1,0,0,1,0,1,1,0,0,1,1,1,0,0,0,0,0,1,0,1,0,0,0,1,0,1,0,0,0,1,0,0,0,0,0,0,0,0,1,1,1,0,1,0,0,1,0,0,0,0,1,0,0,0,0,1,0,0,0,0,1,0,0,1,0,1,0,1,1,1,0,1,0,1,1,0,0,0,1,1,1,0,0,1,0,0,0,1,0,0,0,1,1,0,0,0,0,0,0,1,0,1,0,1,0,1,0,0,1,0,0,1,1,0,0,1,1,0,1,0,0,0,0,0,0,1,1,0,0,1,0,1,0,1,1,0,0,0,0,1,0,1,0,0,0,1,1,1,1,1,1,0,1,0,0,0,1,1,1,1,0,0,0,1,0,1,1,0,0,0,0,0,1,0,0,1,1,0,1,0,1,1,1,1,1,1,0,0,0,1,0,0,1,0,0,0,1,0,0,0,0,1,1,0,0,0,0,1,0,1,0,0,0,0,0,1,1,0,1,0,1,0,1,0,0,0,1,1,0,0,1,0,0,1,0,0,1,0,0,1,0,0,1,0,1,1,0,0,1,0,1,0,1,1,0,1,1,0,1,0,1,0,0,1,0,0,0,0,0,0,0,0,1,0,0,1,1,1,0,1,0,1,1,0,0,0,0,1,0,0,0,0,0,1,0,0,0,0,0,0,1,1,0,0,0,1,0,1,0,0,0,1,1,1,0,0,1,1,1,1,1,0,1,1,0,0,0,0,1,1,1,0,1,0,1,0,0,1,0,1,0,0,0,1,1,1,0,0,0,1,0,1,1,1,1,0,0,1,0,1,0,0,1,1,1,1,0,0,0,0,0,0,1,0,1,1,1,0,1,0,1,1,0,0,0,0,1,0,0,0,1,1,0,0,0,1,1,0,0,1,0,0,0,0,0,0,0,1,0,0,0,0,0,1,0,1,1,1,0,0,1,0,0,0,0,0,1,0,1,0,0,1,0,1,1,0,1,1,1,0,1,1,1,0,1,0,0,1,1,0,1,0,0,1,0,0,1,1,1,1,0,0,1,0,1,0,1,1,0,0,0,0,1,1,0,0,0,0,1,0,1,1,1,1,1,0,0,0,1,0,0,0,1,0,1,1,0,1,0,0,0,1,0,1,1,0,1,0,0,0,1,1,1,0,0,1,0,1,1,0,0,0,0,1,0,0,0,0,1,0,0,0,0,0,0,1,0,0,0,1,0,1,1,0,0,0,0,1,0,0,1,0,0,0,0,0,1,0,1,1,0,1,0,0,0,1,0,1,1,1,0,0,0,0,0,1,0,0,0,0,0,0,0,1,1,0,0,0,0,1,0,0,1,1,1,0,0,0,0,0,0,1,0,0,0,1,0,0,1,1,0,0,0,0,0,0,0,1,0,1,1,1,0,0,0,0,1,1,0,0,0,1,0,1,0,1,0,0,0,1,1,0,0,0,0,0,1,0,0,0,0,0,1,0,1,1,0,1,1,1,1,0,0,0,0,0,1,0,0,1,0,0,0,1,0,0,1,0,1,0,0,0,0,0,1,1,0,0,1,0,0,0,1,1,0,1,1,1,1,1,1,0,1,1,1,0,0,0,1,1,0,1,0,0,0,0,0,0,1,1,1,1,0,0,1,1,1,0,0,1,0,0,0,0,0,1,1,0,0,0,0,1,0,1,1,0,0,1,0,0,1,0,1,0,0,0,0,0,1,0,0,0,1,0,0,0,0,0,1,1,0,0,0,0,0,1,0,1,0,0,1,0,1,0,0,1,1,1,0,0,0,0,1,0,0,1,1,0,0,1,0,0,0,0,1,0,0,0,0,1,0,0,1,0,0,0,1,1,1,0,0,0,0,0,1,0,0,1,0,0,0,0,0,1,0,1,0,0,0,1,1,0,0,0,0,1,0,0,0,0,0,1,1,0,0,0,1,0,1,1,0,1,0,0,0,1,1,0,1,0,1,0,1,1,0,0,1,0,1,0,0,1,0,0,0,1,0,1,1,1,1,1,1,1,0,1,1,0,1,0,1,0,0,0,1,1,0,1,0,0,1,0,1,0,0,0,1,0,0,1,0,0,0,0,0,0,0,0,0,0,1,0,0,1,0,1,0,0,0,0,0,0,0,1,0,0,1,0,1,1,1,0,1,0,1,1,0,0,1,0,0,0,1,1,1,0,1,1,1,1,0,1,0,0,0,0,1,0,0,0,1,1,1,1,1,1,0,0,0,1,1,0,0,0,1,0,0,0,1,0,0,1,1,0,1,0,0,1,0,1,0,0,0,0,0,0,0,0,0,1,1,0,0,0,0,0,0,1,1,0,0,1,0,1,0,0,0,0,1,0,1,0,1,1,1,0,0,0,0,0,1,0,0,0,0,1,1,0,1,1,1,1,1,1,0,0,0,0,0,1,1,0,1,0,0,1,0,0,0,1,0,0,0,0,1,1,0,0,0,0,0,0,0,0,0,0,0,0,1,0,1,1,0,0,0,0,0,1,0,0,0,0,1,0,1,1,0,0,1,0,0,1,0,1,0,1,1,0,0,0,1,0,1,0,0,0,1,0,1,0,1,0,1,0,1,1,0,0,0,1,0,1,0,1,0,0,0,1,0,0,1,1,0,0,0,1,1,0,0,0,0,0,1]},{\"axis\":{\"matches\":true},\"label\":\"room_type_Hotel room\",\"values\":[0,0,0,0,1,0,0,0,0,1,1,0,0,0,1,0,0,0,1,0,1,0,0,0,0,0,1,0,1,1,0,0,1,0,1,0,0,0,0,0,0,0,0,0,0,0,0,0,1,0,1,0,0,0,1,0,0,0,0,0,1,0,0,0,1,1,0,0,0,0,1,0,0,0,1,0,0,0,0,0,0,0,0,0,0,0,0,1,1,0,0,0,0,0,0,1,1,0,0,0,0,0,1,0,1,0,1,0,0,0,0,0,0,1,0,0,0,0,0,0,0,0,1,0,0,0,0,0,0,0,0,0,0,0,0,0,0,0,0,0,1,0,0,0,1,0,0,0,0,0,0,0,0,0,0,0,0,0,0,0,0,0,0,0,0,0,0,0,0,0,1,0,0,0,0,0,0,0,0,0,0,1,0,0,0,1,1,0,0,0,0,1,0,0,0,0,0,0,0,0,0,0,0,0,0,0,0,0,1,0,0,1,0,0,0,0,0,0,0,0,0,0,0,0,0,0,1,0,0,0,0,0,0,0,0,0,0,0,0,0,0,1,0,0,1,0,0,0,0,0,0,0,0,0,0,0,0,0,0,0,0,0,0,0,0,0,0,1,0,0,0,0,0,0,0,1,0,0,0,0,0,0,0,0,1,0,0,0,0,1,0,0,1,0,1,0,0,0,0,0,0,0,0,0,0,0,0,1,0,0,0,0,0,0,0,0,0,0,0,1,0,0,0,0,1,0,0,0,0,0,0,0,1,0,0,0,0,0,0,1,1,0,0,0,0,0,0,0,0,0,0,0,0,0,0,0,0,1,0,1,0,0,0,0,0,0,0,1,0,0,0,0,0,0,0,1,0,0,0,0,0,0,0,0,0,0,0,0,0,0,1,0,1,1,0,0,0,0,0,0,0,0,0,0,0,1,0,0,0,0,1,0,1,0,0,0,0,1,0,0,0,1,1,1,0,1,0,0,0,0,1,1,1,0,1,0,0,1,0,0,0,1,1,0,0,0,0,1,0,0,0,0,0,0,0,0,0,0,0,1,0,0,0,0,0,0,0,0,1,0,1,0,0,0,0,1,0,0,0,0,0,0,0,0,0,1,0,0,0,0,0,1,0,0,0,1,0,0,0,0,0,0,0,0,0,0,1,0,0,0,0,0,1,0,0,1,0,0,0,0,0,1,0,0,0,1,1,0,0,0,0,1,1,0,0,0,1,0,1,1,1,0,0,0,0,1,0,1,0,0,0,0,1,0,0,0,0,0,0,0,0,1,1,0,0,0,0,0,0,0,0,0,1,0,0,0,0,1,1,0,1,0,1,1,0,1,0,0,0,0,0,0,0,0,0,0,0,0,0,0,0,0,0,0,0,0,0,0,0,0,0,1,0,0,0,0,0,0,0,0,0,0,0,1,0,0,0,0,0,0,0,0,0,0,1,1,0,0,1,0,0,0,0,0,0,0,0,0,0,1,0,0,0,0,0,0,1,0,0,1,1,0,0,1,0,0,1,0,0,1,1,0,1,0,1,0,1,0,0,1,0,0,0,0,0,0,0,0,0,0,1,0,0,0,0,1,0,0,0,1,0,0,0,0,0,0,0,0,0,0,0,0,0,0,0,0,0,1,0,0,0,0,0,0,0,0,0,1,0,0,0,0,0,0,0,0,0,0,1,1,0,1,0,0,0,1,0,0,0,1,0,1,0,0,0,1,0,0,1,0,0,0,1,1,1,1,0,0,0,0,0,0,0,0,0,0,0,0,0,0,0,1,1,1,0,0,0,0,0,0,0,0,0,0,0,0,0,0,0,0,1,0,0,1,1,1,0,0,0,1,1,0,0,0,0,1,0,0,0,0,0,0,0,1,0,0,0,0,0,1,1,0,0,0,0,0,0,0,0,0,0,0,0,0,1,1,0,0,0,0,0,0,0,0,0,0,0,0,0,0,1,0,0,0,0,0,1,0,0,0,0,0,0,0,0,0,0,1,0,0,1,0,0,0,0,0,1,1,0,0,0,0,0,0,0,0,0,0,0,0,0,0,0,0,1,0,0,0,0,0,1,1,0,0,0,0,0,0,0,1,1,1,0,0,0,0,0,0,0,0,0,0,0,0,0,0,0,0,0,1,0,0,1,0,0,0,0,0,0,0,0,0,0,1,1,0,0,0,0,0,1,0,0,0,0,1,1,0,0,0,0,0,0,0,0,0,0,0,0,0,0,0,0,1,1,0,0,0,0,1,0,0,0,0,0,1,0,0,0,1,0,0,0,0,0,0,0,0,0,0,0,0,1,0,1,0,0,1,0,0,0,1,1,0,0,0,0,0,0,0,0,0,0,0,0,0,0,1,1,1,0,0,1,0,0,0,0,1,0,0,0,1,0,0,0,0,1,1,0,1,1,0,1,0,0,0,1,0,1,0,1,0,0,0,1,0,0,0,0,0,0,0,0,0,0,0,1,0,0,0,0,0,0,0,0,0,1,0,1,0,0,0,0,0,0,0,1,0,0,0,0,0,0,0,1,0,0,1,0,0,0,0,0,1,0,0,0,0,1,0,0,0,0,0,0,1,0,0,0,0,0,0,0,0,0,0,1,1,0,1,0,0,0,0,1,1,0,1,1,0,0,0,0,0,0,0,0,0,1,1,0,0,0,0,1,1,0,0,0,0,1,1,0,0,0,0,0,1,1,0,0,0,1,0,1,0,0,0,1,0,0,0,1,0,0,0,0,0,0,0,0,0,0,0,0,1,0,1,1,0,0,0,0,0,0,1,0,0,0,0,0,1,0,0,0,1,0,0,0,0,0,0,0,0,0,0,0,0,0,0,1,0,0,0,0,0,0,1,0,0,0,0,1,0,0,0,0,0,0,0,0,0,0,0,1,1,0,0,0,0,0,0,0,0,0,0,0,0,1,0,0,0,0,0,0,1,1,0,0,0,0,0,0,1,0,0,0,1,0,0,0,0,0,0,0,0,0,0,1,0,0,0,0,0,0,0,0,0,0,0,0,0,0,0,0,0,0,1,1,0,0,0,0,0,0,0,0,1,0,0,0,0,1,1,0,0,0,0,0,1,0,0,0,0,1,0,0,1,0,0,0,1,0,0,0,0,0,0,0,0,0,1,0,0,0,0,0,0,0,1,0,0,0,0,0,1,1,0,1,0,0,1,0,0,0,0,1,1,0,0,0,0,0,0,0,1,1,0,0,0,0,1,1,1,0,0,0,0,0,0,0,1,0,0,1,1,0,0,0,0,0,0,0,0,1,1,0,0,1,0,1,0,0,1,0,0,1,0,0,0,0,0,1,0,1,0,0,1,0,0,0,1,0,0,0,1,0,0,1,0,0,0,0,0,0,0,0,0,0,0,0,0,0,0,0,0,0,0,0,0,0,0,0,0,0,0,0,0,0,1,0,0,1,1,0,0,1,0,0,0,0,0,0,0,0,0,0,0,0,0,0,1,0,0,1,1,1,0,0,0,0,0,0,0,0,0,1,0,0,0,0,0,0,0,0,0,0,0,0,0,1,1,1,0,0,1,0,0,0,0,0,1,0,1,1,0,0,0,1,0,0,0,1,0,0,0,0,0,0,0,1,1,0,1,0,0,0,0,0,1,0,0,0,0,0,1,0,1,1,0,0,1,1,1,1,0,0,0,0,0,0,0,1,1,0,0,0,0,0,0,0,0,0,0,0,0,0,0,0,0,0,0,0,0,0,0,0,0,1,0,1,0,0,0,0,1,0,0,0,0,0,1,0,1,1,0,0,0,0,0,0,0,0,0,0,0,0,0,0,0,0,0,0,0,0,1,0,0,0,0,1,0,0,0,0,0,0,0,0,0,0,0,1,0,0,0,0,0,1,1,0,0,0,0,0,0,0,1,0,0,0,1,1,0,0,0,0,0,0,0,0,0,0,1,0,0,0,0,0,0,1,0,1,0,0,0,0,1,0,1,0,0,0,0,1,0,1,0,0,0,0,0,0,0,1,0,0,1,0,0,0,1,0,1,0,0,1,0,0,0,0,0,0,0,0,0,0,0,0,0,0,0,1,1,0,0,0,0,0,0,0,1,0,0,0,0,0,0,0,0,0,0,1,0,0,0,0,0,0,0,0,0,0,0,0,0,1,0,0,1,0,0,0,0,0,0,0,0,0,0,0,0,0,0,0,0,0,0,0,0,0,0,0,0,0,0,0,0,0,0,0,0,0,0,0,1,0,0,0,0,0,0,0,0,0,1,0,0,0,0,0,1,0,1,0,1,0,0,1,0,1,0,0,0,0,0,0,0,0,0,0,0,0,0,0,0,0,1,0,0,0,0,0,0,1,0,0,0,0,0,1,0,0,0,0,0,0,0,1,0,0,0,0,0,0,1,0,0,0,0,0,0,0,0,1,0,0,1,1,0,0,1,1,0,0,0,0,0,0,0,0,0,0,0,1,0,0,0,0,0,1,1,0,1,1,1,0,0,1,1,0,0,0,0,1,0,0,0,0,0,0,0,1,0,0,0,0,1,0,0,0,1,0,0,0,0,0,0,0,0,1,0,0,0,0,0,0,0,0,0,1,0,0,0,0,0,0,0,1,1,0,1,0,0,0,1,0,0,0,1,1,0,0,0,1,0,1,1,1,0,1,0,0,0,0,0,0,0,1,1,0,0,0,1,0,1,0,0,0,0,0,0,1,0,0,0,0,0,0,1,0,0,0,0,1,1,0,0,0,0,0,0,0,0,0,0,0,0,0,0,0,0,0,0,0,0,1,0,0,1,1,0,0,1,0,0,0,0,0,0,0,0,0,0,1,0,0,0,0,0,0,0,0,0,0,0,0,0,0,0,0,0,0,1,1,0,0,0,0,1,0,0,1,1,0,0,0,0,0,0,0,0,0,0,0,0,0,0,0,0,0,1,0,1,0,0,1,0,0,0,0,0,0,1,0,0,0,0,0,0,0,0,0,0,1,0,1,0,1,0,0,0,0,1,0,0,0,1,1,0,1,0,0,1,1,0,0,0,1,0,0,0,0,1,1,0,1,0,0,0,0,0,0,0,0,0,0,0,1,1,0,0,0,0,0,0,0,0,1,0,0,0,0,0,0,0,0,0,1,0,0,0,0,0,0,0,0,0,1,1,1,1,0,0,1,0,0,0,0,1,0,1,1,0,0,0,0,1,1,0,0,0,0,0,0,0,0,0,1,0,0,0,0,0,0,0,0,0,0,0,0,0,0,0,1,0,1,0,1,1,1,0,0,0,0,0,0,0,0,1,0,1,1,0,0,0,0,0,0,1,0,0,0,1,0,0,0,0,0,0,0,1,0,1,0,0,0,0,0,1,0,0,0,0,1,1,0,0,0,0,0,1,0,0,0,0,0,0,0,1,0,0,0,1,1,0,0,1,0,1,0,0,0,0,0,0,0,0,0,0,0,0,0,0,0,0,0,0,0,0,0,0,0,0,0,0,0,0,0,0,0,0,0,0,0,0,0,0,0,0,1,0,0,0,0,0,0,0,0,0,0,1,0,0,0,0,0,0,0,0,0,0,1,0,0,0,0,0,0,0,0,0,0,1,0,0,0,0,0,0,0,0,0,1,0,0,0,0,0,0,0,0,1,0,0,1,0,0,0,0,1,1,1,0,0,0,0,1,0,0,0,0,0,1,0,0,0,0,0,1,0,0,0,0,0,0,0,0,0,0,0,0,0,1,0,1,0,0,0,1,0,0,0,0,0,0,0,0,0,0,0,0,0,0,0,1,0,0,0,1,0,0,0,1,0,0,0,0,0,0,1,0,0,0,0,0,0,0,0,0,0,0,0,0,0,1,1,0,0,0,0,0,1,0,0,0,0,0,0,0,0,0,1,1,1,0,0,0,0,0,0,0,0,0,0,0,0,0,0,0,0,0,0,0,0,0,0,0,0,0,0,0,0,0,0,0,1,0,0,1,0,0,0,0,1,0,1,0,0,0,0,0,0,1,0,0,0,1,0,0,1,1,0,0,0,0,1,0,0,0,0,0,0,1,0,0,0,0,0,0,0,0,0,1,0,0,0,0,0,1,0,0,0,0,0,0,0,0,1,0,0,0,0,0,0,0,1,0,0,0,0,1,0,0,1,1,0,0,0,0,1,0,1,1,0,0,0,0,0,1,0,0,1,0,0,1,0,1,0,0,0,1,0,0,0,0,0,1,1,0,0,0,1,0,0,0,0,0,0,0,0,0,0,0,0,0,0,0,0,0,1,0,0,0,0,0,0,0,0,0,0,0,0,0,1,0,0,0,0,1,1,0,0,0,0,0,0,0,0,0,0,0,0,0,0,1,0,0,0,0,1,0,0,0,0,0,0,1,0,0,0,0,0,0,0,0,1,0,0,0,0,0,0,0,1,0,0,0,0,0,0,1,0,1,0,0,0,0,0,1,0,0,0,0,0,0,0,0,1,0,1,0,0,0,0,0,0,1,0,0,0,1,1,0,0,0,1,0,0,0,0,0,0,0,1,0,0,0,0,0,0,0,0,0,1,0,0,0,0,0,1,0,0,1,0,0,0,0,0,1,0,0,0,0,0,0,0,0,0,1,0,0,0,0,1,0,1,0,0,0,0,0,0,0,0,0,0,0,0,0,1,0,0,0,0,1,0,1,1,0,0,0,0,0,0,0,0,1,0,0,0,0,0,0,0,1,0,0,0,0,0,1,0,0,0,0,0,0,1,0,1,1,0,0,0,0,0,0,0,0,0,0,0,0,0,0,0,0,1,0,0,0,0,0,0,0,0,0,0,0,0,0,0,0,0,0,0,0,0,0,0,1,0,0,0,0,1,0,0,0,0,0,0,0,0,1,0,0,0,0,0,0,0,0,0,0,0,0,0,0,0,0,0,0,0,0,0,0,0,0,0,1,0,1,0,0,0,0,0,0,0,0,0,0,1,0,0,1,1,0,0,0,0,1,0,0,0,0,0,0,0,0,0,0,0,0,1,0,0,0,0,0,1,0,0,0,0,0,0,0,0,0,1,0,0,0,0,0,0,0,0,1,0,1,0,0,0,0,0,0,0,0,0,0,0,0,0,0,0,1,1,0,0,0,0,0,0,0,0,0,0,0,0,0,1,0,0,0,0,1,0,1,0,1,0,1,0,0,0,0,0,0,0,0,0,0,0,0,0,0,1,1,0,0,0,0,1,0,0,0,0,1,0,0,0,0,0,1,0,0,0,0,0,1,0,0,0,0,0,0,1,0,1,1,0,0,0,0,0,0,0,0,1,1,0,1,0,0,0,0,0,0,0,1,0,0,0,0,0,1,1,0,0,1,0,0,0,1,0,0,0,0,1,0,0,0,1,0,0,1,1,0,0,0,1,0,0,0,0,0,0,0,0,0,0,1,0,0,0,1,1,0,0,1,0,0,0,0,0,0,1,0,0,1,0,0,1,0,0,0,0,0,0,0,0,0,0,0,0,1,0,1,1,0,0,0,1,0,1,0,0,0,0,0,1,0,1,0,1,0,0,0,0,0,0,1,0,0,0,0,0,0,0,0,0,0,0,0,0,0,1,1,0,0,0,0,0,0,1,0,0,0,1,0,1,0,0,0,0,1,0,0,0,1,1,0,0,0,0,0,1,0,0,0,0,0,0,0,0,0,0,0,0,1,0,0,0,0,0,0,0,0,1,0,0,0,1,0,0,0,0,0,0,0,0,0,0,0,0,0,0,0,0,0,0,0,0,1,1,0,0,0,0,0,0,1,0,0,0,0,0,0,0,0,0,0,0,0,1,1,0,0,1,0,0,1,0,0,0,0,1,1,0,0,0,1,0,1,0,0,0,1,1,0,0,1,0,0,0,0,0,0,0,0,0,0,1,0,0,0,0,0,0,0,0,0,1,0,0,0,0,0,0,0,0,0,0,0,0,0,0,0,0,0,0,1,0,1,0,0,0,0,0,0,0,0,1,0,0,0,0,0,0,0,0,0,1,1,1,0,1,1,0,1,0,0,0,0,0,0,0,0,0,0,0,0,0,1,0,1,0,0,0,0,0,0,0,0,1,0,0,1,0,1,0,0,0,0,0,0,1,0,0,1,0,0,0,0,0,0,1,0,0,0,0,0,1,0,0,1,0,0,0,0,0,0,0,0,1,0,0,0,0,0,0,0,0,1,1,0,0,0]},{\"axis\":{\"matches\":true},\"label\":\"room_type_Private room\",\"values\":[0,1,0,0,0,0,0,1,0,0,0,0,0,0,0,1,1,0,0,1,0,0,0,1,0,0,0,0,0,0,0,0,0,1,0,1,1,0,1,0,0,0,0,1,0,0,0,1,0,0,0,1,1,0,0,0,0,1,0,0,0,1,0,0,0,0,0,1,0,1,0,1,1,0,0,0,0,0,0,0,0,0,0,0,0,0,0,0,0,0,0,0,0,1,0,0,0,1,0,0,0,0,0,0,0,1,0,1,0,0,0,0,0,0,0,0,0,0,1,1,0,0,0,1,1,0,0,1,0,0,0,0,0,0,1,0,1,0,0,0,0,0,0,0,0,0,0,0,0,1,0,0,1,1,0,1,1,0,0,0,1,0,0,1,0,1,0,1,0,1,0,0,1,1,0,0,0,1,0,0,1,0,0,0,0,0,0,0,0,0,0,0,0,1,0,0,1,0,1,0,1,0,1,0,0,0,1,0,0,0,0,0,1,0,1,0,0,0,0,0,0,1,0,0,1,1,0,0,1,0,1,0,1,1,1,1,1,1,0,1,1,0,0,0,0,1,0,0,0,0,0,0,1,1,0,0,0,0,0,1,0,0,1,1,0,0,0,0,1,0,0,0,1,0,0,0,0,0,0,0,0,0,1,0,0,1,0,0,0,0,0,0,0,0,0,0,0,0,0,0,0,0,0,0,0,0,0,0,0,1,1,0,0,0,0,0,1,1,1,0,0,1,1,0,0,1,0,1,0,1,1,0,0,0,0,0,0,0,0,0,0,0,0,1,1,0,0,0,1,0,1,1,1,1,0,0,0,0,0,0,0,1,1,0,1,0,0,0,1,0,0,0,1,0,0,0,0,0,0,0,0,0,0,1,0,0,0,0,0,0,0,0,0,0,0,0,1,0,1,0,0,0,1,0,0,0,0,0,0,1,0,0,0,0,0,1,0,0,1,0,1,0,0,0,0,0,1,0,0,0,0,0,0,0,0,0,0,0,0,0,0,0,0,0,1,0,0,0,0,0,0,0,1,1,0,0,0,0,0,0,1,0,0,0,0,0,1,0,0,0,0,0,1,1,0,0,0,0,0,1,0,0,0,1,0,0,0,0,1,0,1,0,0,0,0,0,1,0,0,0,0,1,0,1,0,1,0,1,0,1,0,0,0,0,1,0,0,1,0,0,0,0,0,1,0,0,0,1,1,0,0,0,0,0,1,0,0,0,0,0,0,1,0,0,0,0,1,0,0,0,0,1,0,1,0,1,0,0,0,1,1,0,0,0,1,0,0,0,0,0,0,0,0,1,0,0,1,0,0,1,0,0,0,0,1,0,1,0,0,1,0,0,1,0,0,1,0,0,1,0,0,1,0,0,0,0,0,1,1,1,0,0,0,0,0,0,0,1,0,1,0,0,0,0,0,0,0,0,0,1,1,0,0,0,0,0,0,1,0,0,0,0,0,1,0,0,1,0,1,0,1,0,0,1,1,0,0,1,0,0,0,0,0,0,0,0,0,0,0,0,0,0,0,0,0,0,0,1,1,0,0,1,1,0,1,1,0,0,1,1,0,0,0,0,0,0,0,0,0,0,0,0,1,0,0,0,0,1,0,0,0,1,0,0,0,0,1,0,1,1,0,0,0,0,0,1,0,0,0,1,0,0,0,0,0,1,0,0,0,0,1,0,0,0,0,0,1,0,1,0,0,0,0,0,0,0,0,1,0,0,1,0,0,0,0,0,0,0,0,0,0,1,0,0,0,1,1,0,1,0,1,0,0,0,0,0,0,1,0,0,0,0,0,0,0,1,0,1,0,0,0,0,1,0,0,0,1,0,1,0,0,0,1,0,0,0,1,0,0,0,0,0,0,0,1,1,0,0,1,0,0,0,0,0,1,0,0,0,0,1,1,0,0,0,0,0,1,0,1,1,0,0,0,0,1,0,0,0,0,0,0,1,1,0,0,0,0,0,1,0,1,0,1,1,0,0,0,0,1,1,0,0,1,1,0,0,0,0,0,0,0,0,1,0,0,1,0,1,0,1,0,1,1,0,0,0,1,0,0,0,0,0,1,1,0,1,1,0,1,0,0,0,1,1,0,0,0,0,1,0,0,0,1,1,1,0,1,0,0,0,0,1,0,1,0,1,1,0,0,0,0,0,0,0,0,1,0,0,0,1,0,0,1,0,0,0,0,1,1,0,0,1,0,0,0,0,0,1,0,0,0,0,0,0,0,0,0,1,0,0,0,1,0,0,1,0,0,1,0,0,0,1,0,0,0,0,1,0,0,1,0,0,0,0,0,1,0,0,1,0,0,0,0,0,0,0,1,0,0,1,0,0,1,0,0,0,0,0,0,0,0,0,0,0,0,1,0,0,0,1,0,0,1,1,0,0,0,0,1,0,0,1,0,0,0,0,0,1,0,0,0,0,0,0,0,0,0,1,1,0,0,1,1,1,0,0,0,0,1,1,0,0,0,1,0,1,0,0,0,0,0,1,0,1,1,0,0,0,0,1,0,1,1,1,0,0,0,0,0,1,0,0,0,0,1,0,0,0,0,1,0,0,1,0,0,0,1,0,0,0,0,1,0,1,1,0,0,0,1,0,1,0,1,0,0,0,0,0,0,0,0,1,0,0,0,0,0,1,0,0,0,0,0,0,0,0,0,0,0,0,0,0,0,0,1,0,0,0,0,0,0,0,0,0,0,1,1,0,0,1,0,0,0,0,1,0,1,0,1,0,0,0,1,1,0,0,0,0,0,0,0,1,1,0,0,0,1,0,0,0,0,0,1,1,0,0,0,0,1,0,0,0,1,0,0,0,0,0,0,1,0,0,0,0,0,0,1,0,0,1,0,1,0,0,0,0,0,1,0,0,0,0,1,1,0,0,0,1,1,1,1,1,0,0,0,0,1,0,0,0,1,1,0,0,1,0,0,0,0,1,0,0,1,0,0,1,0,0,0,0,1,0,0,1,1,0,0,1,0,1,1,0,0,0,0,0,1,0,0,1,0,0,0,1,1,0,0,0,0,1,0,0,1,1,1,1,1,0,0,0,1,1,0,0,1,0,0,0,0,0,0,0,0,0,0,0,0,0,0,1,0,0,0,0,0,0,1,0,0,0,0,0,0,0,0,1,1,0,0,0,1,1,0,0,0,0,0,0,0,1,1,0,0,0,0,1,0,0,1,1,0,0,1,0,0,0,0,1,0,1,0,0,0,0,1,1,0,1,0,0,0,0,0,0,0,0,1,0,0,1,1,0,0,1,0,0,1,0,0,0,0,0,0,0,0,0,0,0,0,0,1,1,0,0,0,1,1,0,0,0,0,0,0,0,0,0,1,1,0,0,0,0,0,1,0,1,0,0,0,0,1,0,0,1,1,1,0,0,0,0,0,0,0,0,1,0,0,0,0,0,1,0,0,0,1,0,0,0,0,0,0,1,1,1,1,0,1,0,0,1,1,0,1,1,0,0,0,0,0,1,0,1,0,0,0,0,0,1,0,0,0,0,0,1,0,0,1,1,1,1,0,0,0,1,0,0,1,1,1,1,0,0,1,0,0,1,1,0,0,0,1,0,0,0,0,0,0,0,0,1,0,0,0,0,1,0,1,0,0,0,0,0,1,0,1,0,0,0,0,1,0,0,0,0,0,0,1,0,0,1,0,1,0,0,0,0,0,1,1,0,0,0,0,0,0,1,1,0,1,0,0,0,1,0,0,1,0,0,0,1,0,0,1,0,1,0,0,1,1,0,0,0,1,0,0,0,0,1,0,0,0,1,0,0,0,0,1,1,0,1,1,1,0,0,0,0,1,0,0,1,0,1,0,0,0,0,0,0,0,1,0,0,0,1,0,0,0,1,0,0,0,0,0,0,1,1,1,0,0,0,0,0,0,0,0,0,0,0,1,0,1,0,1,0,1,0,0,0,1,0,0,1,0,0,0,1,0,0,1,0,1,0,0,0,0,0,0,1,0,1,0,0,0,0,0,0,0,0,1,1,0,0,0,0,1,0,0,0,1,0,0,1,0,0,0,0,1,0,0,1,1,0,0,0,0,1,0,0,0,0,0,0,1,1,1,0,0,0,0,0,0,0,0,0,1,0,0,1,0,0,0,0,0,1,0,1,0,1,0,0,1,1,0,0,1,0,0,1,0,0,0,0,0,0,0,1,0,0,0,1,0,0,0,0,0,1,1,1,0,0,0,1,0,0,0,0,1,0,0,1,0,1,0,1,0,0,0,1,0,0,0,0,0,0,0,0,0,0,0,1,0,0,0,1,1,1,0,0,0,0,0,1,1,1,0,0,0,0,1,0,1,0,1,1,0,0,1,0,1,1,0,0,0,0,0,1,1,1,0,0,1,0,0,1,1,0,0,1,0,1,0,1,0,0,0,0,1,0,0,0,0,0,0,1,0,0,0,0,0,1,1,0,1,1,0,0,0,1,1,0,0,0,1,0,0,0,0,0,0,0,0,0,0,1,0,0,1,0,0,0,1,0,0,1,1,1,0,0,0,0,1,0,0,0,1,0,0,0,0,0,0,0,1,1,1,0,0,0,0,0,0,0,0,0,0,0,0,0,0,0,0,0,0,1,0,0,1,1,1,0,0,1,0,0,0,1,0,0,0,0,0,0,0,0,1,0,0,0,0,0,0,0,0,0,0,0,0,0,0,0,0,1,0,0,1,0,0,1,1,0,0,0,0,0,0,0,0,0,0,0,0,0,0,1,1,0,0,0,0,1,0,0,0,0,0,1,0,0,0,0,0,0,0,0,0,0,1,0,0,1,0,1,0,0,0,0,1,1,0,1,1,0,1,1,0,1,1,0,0,0,1,0,1,0,0,1,0,0,1,0,0,0,0,0,1,0,1,0,0,0,0,0,1,0,1,0,0,0,1,1,0,0,0,0,0,0,0,0,0,0,1,1,0,0,0,1,1,0,1,0,0,1,1,0,0,1,0,0,0,0,1,0,0,0,0,1,1,0,0,0,0,0,0,0,0,1,0,0,0,1,0,0,0,0,0,0,0,0,1,0,0,1,0,1,0,0,0,0,0,0,0,0,0,0,0,0,0,1,0,0,0,1,1,1,0,1,0,0,0,1,0,0,0,1,0,0,0,1,0,0,0,0,0,1,0,0,0,0,0,0,0,0,0,0,0,0,0,0,0,1,0,0,1,1,0,1,1,0,0,1,0,0,0,0,0,1,1,1,1,0,1,0,0,0,0,0,0,0,0,0,0,0,0,0,1,1,1,0,1,0,0,0,0,0,1,0,0,1,0,0,0,0,1,0,0,1,0,1,1,1,1,0,0,0,0,1,0,1,0,0,1,0,0,0,0,0,1,1,1,1,0,0,0,0,0,0,0,0,0,0,1,0,0,0,0,1,0,0,1,0,0,1,1,0,0,0,1,1,1,1,1,1,0,0,0,0,1,0,1,0,0,1,0,0,0,1,0,0,0,1,1,0,1,0,0,0,0,0,0,1,0,1,0,1,1,0,1,0,1,0,0,0,0,0,0,0,1,1,0,0,0,0,0,1,0,0,0,0,0,1,1,1,0,0,0,1,1,1,0,1,1,0,0,0,1,1,1,0,0,0,1,0,0,1,0,0,0,1,1,0,0,0,0,0,0,1,0,0,0,0,0,0,0,0,0,0,0,0,0,0,0,0,0,0,1,1,1,0,0,0,0,0,0,0,0,0,0,1,0,0,0,0,0,0,1,1,1,0,0,1,0,0,0,1,0,0,1,0,0,0,0,0,0,0,0,0,0,0,1,0,0,1,0,1,0,0,1,1,0,1,0,0,0,0,0,0,0,1,0,0,0,0,0,1,0,0,0,0,0,0,1,0,0,0,0,0,0,0,0,1,0,1,0,1,0,0,1,0,1,1,1,0,1,0,0,0,1,0,0,0,0,0,0,0,0,1,0,1,0,0,1,0,1,0,0,0,0,0,0,1,0,0,1,0,0,1,0,0,0,0,0,0,0,1,0,0,0,0,1,0,1,0,1,0,1,0,0,1,0,0,0,1,0,0,1,0,1,1,0,0,1,0,1,0,0,1,1,0,0,0,1,0,0,0,0,0,0,0,1,0,0,0,0,0,0,0,0,0,1,0,0,0,0,0,0,0,0,1,0,0,0,0,0,1,1,0,0,0,1,1,1,0,0,1,1,0,1,0,0,0,0,0,0,1,0,0,0,1,0,1,0,0,0,1,1,0,0,0,0,0,0,0,0,1,0,1,1,0,0,0,1,0,1,0,0,1,0,1,0,0,0,1,0,0,0,0,0,0,0,0,0,0,0,0,0,0,0,0,0,0,0,0,0,0,0,0,0,0,1,1,0,0,0,0,0,0,0,0,0,0,0,0,0,0,0,0,1,1,0,0,0,0,1,0,0,0,1,0,0,0,1,1,1,0,1,0,0,1,0,1,0,0,0,0,0,0,0,0,1,0,0,0,0,0,1,0,0,0,0,0,0,0,0,0,0,0,0,0,1,0,0,0,1,0,0,1,0,0,0,0,0,0,0,0,1,0,0,0,0,0,0,0,0,0,1,0,0,1,0,0,1,0,0,0,0,0,0,0,1,0,0,0,0,0,1,1,0,0,1,1,0,0,1,0,0,0,0,0,0,1,0,1,0,0,1,0,1,0,1,0,0,0,1,1,0,0,0,0,1,0,1,0,0,1,1,1,0,0,0,0,0,0,0,0,0,1,1,1,0,0,0,0,0,1,1,0,0,0,0,0,1,0,1,1,1,0,1,0,0,0,0,0,1,0,0,0,0,0,0,1,0,0,0,0,0,0,0,1,0,1,1,1,0,0,1,0,0,1,0,1,1,0,0,0,1,1,1,0,1,1,0,0,0,1,0,0,0,0,0,1,1,0,1,0,1,1,0,0,0,0,0,1,0,1,0,0,0,0,0,0,0,0,0,0,0,1,0,0,0,0,1,1,0,0,0,0,0,0,0,1,0,0,0,0,0,1,0,0,0,0,1,1,0,1,0,0,1,0,0,1,0,0,0,0,0,0,1,0,1,1,1,0,1,0,0,1,0,0,1,0,0,0,0,0,0,0,0,0,0,0,0,0,0,0,0,0,1,0,0,0,0,0,1,0,1,0,1,0,0,0,0,1,1,0,0,0,1,0,0,0,0,0,0,0,0,0,0,0,0,1,0,0,0,0,0,1,0,0,0,0,1,0,0,0,1,0,0,0,0,0,0,0,0,0,1,0,1,0,0,1,0,1,0,0,0,0,0,1,0,0,1,0,0,0,0,0,0,0,0,0,0,0,0,0,0,0,1,0,0,0,0,0,0,0,1,0,0,1,0,0,0,0,1,1,0,0,0,0,0,0,1,1,1,0,1,0,0,1,1,0,0,0,0,0,0,1,1,0,0,0,0,1,0,0,0,1,0,1,1,0,0,0,0,0,1,0,0,0,0,0,0,0,0,0,0,0,0,0,0,0,1,0,0,1,0,0,0,0,0,0,0,1,1,1,0,0,0,0,0,0,0,0,0,1,0,0,0,0,1,0,0,0,0,0,0,0,0,1,0,0,0,0,0,0,0,0,1,0,0,0,0,1,0,0,0,1,1,1,1,0,0,0,0,0,0,0,0,1,1,1,1,1,0,0,1,0,1,0,0,0,0,0,0,0,0,1,0,0,0,0,0,0,0,0,1,0,0,0,0,1,0,1,1,0,1,0,1,0,0,0,0,0,0,0,0,0,0,1,0,0,1,0,0,0,1,1,1,0,0,0,0,0,0,0,0,0,0,0,0,0,0,0,0,1,0,0,0,0,0,0,1,0,0,0,1,0,0,0,0,0,0,0,0,1,0,0,0,0,1,0,1,0,0,0,1,1,0,1,1,0,0,0,1,0,0,0,0,0,0,0,0,0,0,0,0,0,1,0,0,0,0,0,1,1,0,1,0,1,0,1,0,1,1,0,0,1,0,0,0,1,0,0,1,0,1,0,0,0,0,0,0,0,1,0,1,1,0,0,1,0,1,0,1,0,0,1,1,0,0,0,0,0,0,0,0,0,0,1,1,0,0,0,0,0,1,0,0,0,1,0,0,0,1,0,0,0,0,1,0,0,0,0,0,1,0,0,0,0,0,0,0,0,0,0,0,0,0,0,0,1,0,0]},{\"axis\":{\"matches\":true},\"label\":\"room_type_Shared room\",\"values\":[1,0,1,1,0,0,1,0,0,0,0,0,0,1,0,0,0,0,0,0,0,1,1,0,1,1,0,0,0,0,0,1,0,0,0,0,0,0,0,0,0,1,0,0,1,0,0,0,0,0,0,0,0,1,0,0,0,0,0,1,0,0,0,0,0,0,0,0,0,0,0,0,0,0,0,1,1,0,0,0,1,1,0,1,0,0,0,0,0,1,0,0,0,0,0,0,0,0,0,1,1,0,0,0,0,0,0,0,0,0,0,1,1,0,0,1,0,1,0,0,0,0,0,0,0,0,1,0,0,0,0,0,0,0,0,1,0,1,1,1,0,0,0,0,0,1,0,1,0,0,0,0,0,0,1,0,0,0,0,1,0,0,0,0,0,0,0,0,0,0,0,0,0,0,1,1,1,0,1,0,0,0,1,0,0,0,0,0,0,1,0,0,0,0,0,1,0,0,0,0,0,0,0,1,1,0,0,1,0,0,1,0,0,0,0,0,1,0,0,1,1,0,0,0,0,0,0,0,0,0,0,0,0,0,0,0,0,0,0,0,0,0,0,1,0,0,0,1,1,1,0,0,0,0,0,0,0,0,0,0,1,0,0,0,1,0,0,0,0,1,1,0,0,1,0,0,1,1,1,0,0,1,0,0,0,0,0,0,0,0,1,0,0,0,0,1,0,0,0,0,1,0,0,1,1,0,1,0,0,0,0,1,1,1,0,0,0,0,0,0,1,0,0,0,0,0,1,0,0,0,0,1,0,1,1,0,0,0,0,0,0,1,1,0,0,1,0,1,0,0,0,0,0,0,0,0,0,0,0,0,0,0,0,1,0,0,1,0,0,0,1,0,0,0,0,0,0,0,0,0,1,0,0,0,0,0,0,0,1,0,0,0,0,0,0,0,0,0,0,0,1,1,0,0,1,0,0,0,0,0,0,1,0,1,1,0,1,0,0,0,0,0,0,0,0,0,0,0,1,1,0,0,0,0,0,0,0,0,0,1,1,0,0,1,0,0,0,0,1,0,1,0,0,0,1,0,1,0,0,0,0,0,0,0,0,0,0,0,0,0,0,0,0,0,0,0,1,0,0,0,0,0,0,0,0,0,0,0,0,0,0,0,0,1,0,0,0,1,0,0,0,0,1,0,0,0,0,0,1,0,1,1,0,1,0,0,1,0,1,0,0,0,0,0,0,0,0,0,0,0,0,0,0,0,0,1,0,0,0,0,0,0,0,1,0,0,0,0,0,0,0,0,0,0,1,0,1,0,0,0,0,0,0,0,0,0,1,0,1,0,0,0,0,0,1,0,0,0,0,0,0,1,0,0,0,0,0,0,0,0,1,0,0,0,0,0,0,0,0,0,0,0,1,0,0,1,1,0,0,0,0,0,1,0,0,0,0,0,0,0,0,0,0,0,1,1,0,1,0,0,0,0,0,1,0,0,0,0,0,0,1,0,0,0,0,0,0,0,0,0,0,1,0,0,0,0,0,0,0,0,0,0,0,0,0,0,0,1,0,0,0,0,0,1,0,0,0,0,0,0,0,0,0,0,0,0,0,0,0,0,0,1,0,1,1,0,0,0,0,0,0,0,0,0,1,1,1,0,0,1,0,0,1,0,0,0,0,0,0,0,1,0,0,1,0,0,0,0,0,0,1,0,0,0,1,0,0,0,0,0,0,0,1,1,0,0,0,1,0,0,0,0,1,0,1,0,0,0,0,0,0,0,0,0,0,0,1,1,0,0,1,0,0,0,1,0,0,0,0,0,0,0,0,0,0,1,0,0,1,0,0,0,0,0,0,0,0,0,0,0,0,0,0,0,0,0,0,0,0,0,0,0,0,1,0,0,0,0,1,0,0,0,0,0,0,0,0,0,0,0,0,0,0,1,0,0,0,0,0,0,0,0,0,0,0,0,0,1,0,0,0,0,1,1,0,1,0,0,0,0,0,0,0,1,1,0,0,0,0,1,0,1,0,0,0,0,0,0,0,0,0,0,0,0,1,0,0,0,0,0,1,0,0,0,0,0,0,0,0,0,0,0,0,1,0,1,0,0,0,0,0,0,0,0,1,0,0,0,0,0,0,0,0,0,0,1,0,0,0,0,1,0,0,0,0,0,0,0,0,0,0,0,0,0,1,0,0,0,0,1,1,0,1,0,0,0,0,1,1,0,0,0,0,1,0,0,0,0,0,0,1,0,0,0,0,1,0,0,0,0,1,0,1,0,0,0,1,0,0,0,0,0,1,1,0,0,0,0,0,0,0,0,0,0,0,0,0,0,0,0,0,0,0,0,0,0,1,0,0,0,0,0,0,0,1,0,0,0,0,0,0,0,0,0,1,0,0,0,0,0,0,0,0,1,0,0,0,0,0,0,1,0,0,0,0,1,0,0,0,0,0,0,0,0,0,0,0,0,0,0,0,0,0,0,0,0,1,0,0,1,0,0,0,0,0,1,0,1,0,0,0,1,0,0,1,0,0,0,0,0,0,0,1,0,0,0,0,0,1,0,0,0,0,0,0,0,0,0,0,0,1,0,0,0,0,0,0,1,0,0,0,0,0,0,0,0,0,1,0,0,0,0,0,0,0,0,0,0,0,0,0,0,0,0,0,0,0,0,0,0,0,0,1,1,1,0,0,0,0,0,0,0,0,0,0,0,1,0,0,0,0,0,1,0,0,1,0,0,0,0,0,1,0,0,0,0,0,0,0,0,1,1,0,1,0,0,0,0,0,0,1,1,0,0,0,0,0,0,0,0,1,0,0,1,0,0,0,0,0,0,0,0,0,0,0,0,1,1,0,0,0,1,0,0,1,1,0,0,0,0,0,0,1,1,0,0,0,0,0,0,0,0,0,0,0,0,0,0,1,1,0,0,0,0,0,0,0,0,0,0,0,0,0,0,1,1,0,0,0,1,0,0,0,0,0,0,0,0,1,0,0,0,0,0,0,0,1,0,0,0,0,0,0,0,0,1,0,0,0,0,0,0,1,0,0,1,0,0,0,0,0,1,0,0,0,0,0,0,0,0,1,0,0,0,0,0,0,0,0,0,0,0,0,0,0,1,0,0,0,0,0,0,1,0,0,1,0,0,0,0,1,0,0,0,1,1,0,1,0,0,0,0,1,1,1,0,0,0,1,0,0,0,0,1,0,0,0,0,0,0,0,0,0,1,1,0,0,0,0,0,0,0,0,1,1,0,0,0,1,0,0,0,0,0,0,0,1,0,0,0,1,0,0,1,0,0,0,0,0,0,0,1,0,0,0,0,0,1,0,1,0,0,1,0,0,0,0,0,0,0,0,0,0,1,0,0,0,0,0,1,1,0,0,0,1,0,0,0,0,0,1,1,1,0,1,0,1,1,0,1,0,1,1,0,0,0,0,0,0,0,0,0,0,0,0,0,0,1,1,0,0,0,0,0,0,1,0,1,0,0,0,0,0,0,0,1,0,0,1,0,0,0,0,0,0,0,0,1,0,0,0,0,1,0,0,0,0,0,0,0,0,1,0,0,0,1,0,0,0,0,0,0,0,0,0,0,0,0,0,0,1,0,0,0,0,0,0,1,0,0,0,0,0,1,0,1,0,0,1,0,0,0,0,0,0,0,0,0,1,0,1,0,0,0,0,0,0,0,0,0,0,0,0,0,0,0,0,0,0,0,0,0,0,0,1,1,1,0,0,1,0,0,0,0,1,0,0,0,0,0,0,0,0,0,0,0,1,1,0,0,0,0,0,0,0,0,1,0,0,1,1,0,0,0,0,1,0,0,0,0,0,0,1,1,0,0,0,0,0,0,0,0,0,0,0,0,0,1,1,0,0,0,0,0,1,0,1,0,1,0,0,0,0,0,0,1,1,0,0,0,0,0,1,1,0,0,0,0,1,0,1,0,0,0,0,0,0,0,0,0,0,0,0,0,0,0,0,1,0,0,0,0,0,0,0,0,0,0,0,0,0,0,1,0,0,0,0,0,1,0,0,0,0,0,0,1,0,0,0,0,0,0,0,0,0,0,0,0,0,1,0,0,1,0,1,0,0,0,1,0,0,0,0,0,1,0,0,0,0,1,0,0,0,0,0,1,0,1,1,0,0,0,0,1,0,1,0,0,1,0,0,1,0,0,1,0,0,0,0,0,0,0,1,0,0,0,0,0,1,0,0,0,1,1,1,0,1,0,0,0,0,0,0,1,0,0,0,0,1,0,0,0,0,1,0,0,0,1,0,0,0,0,0,0,1,0,0,0,0,0,1,0,1,0,0,0,0,1,0,0,0,0,0,0,0,0,0,1,1,0,1,0,0,0,0,0,0,0,0,0,0,1,0,0,0,0,0,0,0,0,0,0,0,0,0,0,0,0,0,1,0,0,0,0,0,0,1,0,0,0,0,0,1,1,0,0,0,0,0,1,0,0,0,0,1,1,0,0,0,0,0,1,0,0,0,0,0,0,0,0,0,0,0,0,0,0,1,0,0,0,1,1,0,0,0,0,0,0,0,0,0,0,0,0,0,0,0,0,0,1,0,0,1,1,0,0,0,0,0,1,0,1,0,0,0,1,0,0,1,0,0,0,1,0,1,1,0,0,0,0,0,0,0,0,1,0,0,0,0,0,0,0,0,0,0,0,0,0,0,0,0,0,0,0,0,1,0,0,0,0,1,0,1,0,0,0,1,0,1,0,0,0,0,1,0,0,1,0,0,0,0,0,0,0,0,0,1,1,1,1,1,0,1,0,0,0,0,0,1,0,0,0,0,0,0,0,0,1,0,0,0,1,0,0,0,0,0,0,0,0,0,0,0,0,0,0,0,0,0,0,0,0,0,0,0,0,0,1,1,1,0,1,0,0,0,0,0,1,0,0,0,0,0,0,0,0,0,0,0,0,0,0,0,0,0,0,0,0,0,0,0,0,1,0,0,0,0,0,0,1,0,0,0,0,0,0,0,0,0,1,0,0,0,0,0,0,0,1,0,1,0,0,1,0,1,0,0,0,0,0,0,1,0,0,0,0,0,1,0,0,0,0,1,0,0,0,0,1,0,0,1,0,0,0,0,0,1,0,0,0,0,0,1,1,0,0,1,0,0,0,0,0,0,0,0,0,0,1,0,0,1,0,1,0,0,0,1,0,0,0,0,0,0,0,0,0,0,1,1,0,1,0,0,1,0,0,0,0,0,0,1,1,0,0,0,0,0,1,0,0,0,0,0,0,0,0,0,0,0,1,0,0,0,1,0,0,0,0,0,0,0,1,1,0,0,0,0,0,0,0,0,0,0,1,0,0,1,0,1,0,1,1,0,0,0,0,1,0,0,0,0,0,1,0,1,0,0,0,1,0,0,1,0,1,0,0,0,0,0,0,0,0,0,0,0,1,0,0,1,0,0,0,1,0,0,0,0,0,0,0,1,0,0,0,1,0,0,0,0,0,0,0,0,1,0,0,0,0,0,0,0,0,0,0,1,0,1,1,0,0,0,0,0,0,0,0,0,0,1,0,0,0,0,0,0,1,0,0,0,0,1,0,0,1,0,0,0,0,0,0,0,1,0,0,1,1,0,1,0,0,0,0,0,0,0,0,0,0,0,0,0,1,1,0,0,0,0,0,0,0,0,0,0,0,0,0,1,0,0,0,0,0,0,1,0,0,1,0,1,0,1,1,0,0,0,1,0,0,0,0,0,1,0,0,0,0,0,0,0,0,1,1,0,0,1,0,0,0,1,0,0,0,1,1,0,0,0,1,0,0,0,1,0,0,0,0,0,0,1,0,0,0,1,0,0,0,1,0,0,1,0,0,1,0,0,0,0,0,0,0,0,1,0,0,1,0,0,0,0,1,0,1,0,0,0,0,0,0,0,0,0,0,0,0,0,0,0,0,0,0,1,0,0,0,0,0,0,1,0,0,0,0,0,1,0,0,0,0,1,0,0,0,0,0,0,0,0,0,0,0,0,0,0,1,0,0,0,1,1,0,0,0,0,0,1,0,0,0,0,1,0,0,1,0,0,0,0,0,0,0,0,0,0,0,0,0,0,0,1,0,1,0,0,0,0,0,0,0,0,0,0,0,0,0,0,0,0,0,0,0,0,0,0,1,0,0,0,0,0,0,1,0,0,1,0,0,1,1,0,1,0,0,0,0,0,0,0,0,0,0,0,0,0,0,0,0,0,0,0,0,0,0,0,0,0,1,0,0,0,0,0,1,0,0,0,1,0,0,1,0,0,0,0,0,0,0,0,0,0,0,0,0,0,0,1,0,0,0,0,0,0,0,0,0,0,0,0,0,0,0,0,0,0,0,0,1,1,1,0,1,0,0,0,0,1,0,0,1,0,1,0,0,0,0,0,1,1,0,0,0,1,0,1,0,0,0,0,0,1,0,0,1,1,1,0,0,0,0,1,0,0,0,0,0,0,0,0,1,0,0,0,0,0,1,0,1,0,0,0,0,0,1,0,1,0,0,0,0,0,0,1,0,0,1,0,0,0,0,1,1,0,1,0,0,0,0,0,0,0,0,0,0,0,0,0,0,0,0,1,0,0,1,0,0,0,0,0,0,0,0,1,0,1,0,0,0,0,0,1,0,0,0,0,1,0,1,0,0,0,0,0,0,0,0,0,0,1,0,0,0,0,0,0,0,0,0,0,0,0,0,0,0,0,0,0,0,0,0,0,0,0,0,0,0,0,0,0,0,0,1,0,0,0,0,0,0,1,0,0,1,0,0,1,1,0,0,0,0,0,1,0,0,1,0,0,1,0,1,0,0,0,1,0,0,0,0,0,0,0,1,0,1,0,1,0,1,0,0,0,0,1,0,1,1,0,1,0,0,1,0,0,0,0,0,0,0,1,0,0,0,0,0,0,0,0,0,0,1,0,0,0,1,1,0,0,1,1,0,0,0,0,0,0,0,0,0,0,1,0,0,0,0,1,0,0,0,0,0,0,1,0,1,0,0,0,0,1,1,0,0,0,0,1,1,1,0,0,1,1,0,1,0,0,0,0,0,0,0,0,0,0,0,0,0,1,0,0,1,0,0,1,0,0,0,1,0,0,0,0,0,0,1,0,0,0,0,1,0,0,0,0,0,0,1,0,0,0,0,0,0,1,0,0,0,0,1,0,0,0,0,0,0,0,0,0,0,0,0,0,0,0,0,0,0,0,0,0,1,0,1,0,0,1,1,0,0,0,1,1,0,0,0,0,0,1,0,0,0,1,0,0,0,1,0,0,1,1,0,1,1,0,0,0,0,0,1,0,0,0,0,1,0,0,0,0,0,0,0,1,0,0,0,1,0,0,0,0,1,1,0,0,0,1,0,0,0,0,0,0,1,1,1,0,0,0,1,0,0,0,0,0,0,0,0,0,0,0,0,1,1,0,0,0,0,0,0,0,0,0,0,0,1,0,0,0,0,0,1,0,0,0,0,1,0,0,0,0,0,0,1,0,0,1,1,0,0,1,0,0,0,0,0,0,1,0,0,0,0,0,0,0,0,0,0,0,0,0,0,0,1,0,0,0,0,0,0,0,0,0,0,0,0,0,0,0,0,1,0,0,0,0,0,1,0,0,1,0,0,0,0,1,0,0,1,0,0,0,1,0,0,1,0,1,0,0,0,0,0,0,0,0,1,0,1,0,1,1,0,0,0,0,0,0,0,0,0,0,0,0,0,1,0,0,0,0,0,0,0,1,1,1,0,0,0,0,0,0,0,0,0,0,0,0,1,0,0,0,0,0,0,0,0,0,0,0,0,1,0,0,0,0,1,1,0,0,0,0,0,0,0,0,0,0,0,1,0,0,1,0,1,0,0,1,0,1,0,1,0,0,0,0,0,0,1,0,0,0,0,1,1,0,1,0,0,1,1,0,0,0,0,0,0,0,0,0,0,0,0,0,0,1,1,0,1,0,0,1,0,0,0,0,0,0,1,1,0,0,0,0,0,1,0,0,0,0,0,0,0,0,0,1,0,0,0,0,0,0,0,0,0,0,0,0,0,0,1,1,0,1,0,0,1,0,1,0,0,0,0,0,0,0,0,0,0,0,0,0,0,0,1,0,0,0,0,0,0,1,0,0,0,0,0,1,0,0,0,1,0,0,0,0,0,0,0,0,1,0,0,0,0,0,1,0,0,1,1,0,1,0,0,0,1,1,1,0,0,1,0,0,0,1,0]},{\"axis\":{\"matches\":true},\"label\":\"price_in_dollar\",\"values\":[43,161,46,79,184,280,78,100,254,211,253,234,328,58,186,96,206,305,212,135,290,67,56,171,99,105,298,296,326,228,290,48,187,121,249,135,131,196,77,186,210,50,243,167,63,343,203,118,245,258,306,167,93,105,190,257,333,124,308,75,306,115,238,285,182,209,219,220,314,89,189,219,92,259,199,52,78,134,152,340,90,61,272,51,193,248,219,245,217,42,200,148,192,177,88,245,257,114,183,53,62,148,152,184,210,169,307,188,250,226,397,81,70,322,154,66,127,92,161,93,324,317,245,81,109,305,68,156,91,196,381,173,217,269,144,89,74,90,39,62,249,299,257,301,330,94,368,77,307,181,410,306,142,123,37,141,138,162,201,77,117,440,345,114,299,87,308,139,273,155,190,214,119,94,61,45,59,196,69,310,83,233,63,373,244,314,270,243,426,86,168,186,351,89,312,66,144,248,183,450,153,319,189,66,73,226,114,64,183,408,62,214,130,318,179,202,74,280,414,39,53,105,239,261,161,185,191,419,202,249,102,245,147,170,136,84,144,132,69,182,87,205,271,86,313,141,164,71,52,84,250,302,45,109,359,384,172,151,419,152,52,188,164,88,80,297,352,152,102,80,85,197,80,58,254,233,88,82,92,341,240,76,186,160,280,79,266,359,308,162,51,171,257,222,288,65,295,305,351,253,47,351,314,50,52,193,41,249,172,130,103,50,64,41,309,311,90,199,135,238,44,165,99,170,291,130,43,127,287,122,161,74,230,78,74,454,219,425,140,264,208,36,98,178,202,52,363,60,135,342,131,124,128,186,215,194,247,243,360,194,369,197,97,70,216,259,41,280,135,315,65,362,127,370,190,250,346,196,186,222,78,234,139,162,309,172,211,242,112,150,236,70,261,251,293,286,142,253,195,233,55,85,111,90,49,217,261,241,212,128,218,53,287,60,71,174,53,190,139,262,175,141,227,137,261,245,96,200,52,58,307,255,221,295,189,361,218,232,294,78,53,211,203,116,202,166,159,216,97,275,60,211,146,99,52,196,59,265,276,283,140,209,239,393,313,259,168,269,157,222,228,419,119,129,215,273,66,259,387,130,186,139,240,116,309,238,285,198,119,324,159,231,97,66,300,174,125,74,269,255,400,146,48,112,163,134,297,105,80,171,54,72,201,53,165,206,58,241,53,248,362,306,270,197,223,193,195,144,166,269,308,281,212,383,144,46,210,304,251,161,294,96,225,39,271,285,140,162,353,355,349,227,278,170,63,98,62,295,224,128,143,306,226,168,139,310,53,309,46,253,276,129,183,117,37,188,107,139,197,147,216,51,261,246,145,246,120,199,299,100,56,91,130,295,405,181,343,336,110,377,316,122,41,366,371,46,79,195,110,118,183,210,48,221,367,359,171,141,134,133,297,190,203,254,43,49,243,54,360,127,141,302,385,72,284,178,187,105,228,332,74,178,338,195,198,309,152,80,130,165,184,74,335,114,117,329,199,136,202,330,201,251,118,205,190,129,281,70,276,232,193,225,204,83,180,87,270,102,105,239,234,217,159,218,112,178,355,226,135,136,321,76,297,46,41,273,257,135,245,324,274,192,172,262,57,109,58,82,190,39,242,127,75,318,290,162,121,231,193,205,54,233,193,43,319,108,195,222,113,111,54,214,255,328,90,60,416,266,271,306,94,270,67,100,355,177,208,86,126,309,169,273,100,275,73,200,287,163,262,447,128,383,233,241,275,240,59,112,363,240,102,134,235,72,85,116,105,215,89,188,190,230,166,272,415,54,111,157,56,323,350,243,315,313,170,134,208,99,401,326,307,269,96,245,208,240,91,422,174,191,249,283,147,72,300,137,223,189,61,218,203,285,283,210,78,220,284,211,107,240,184,159,243,55,169,280,184,173,266,96,164,277,114,138,277,243,153,88,205,216,371,360,68,81,103,47,232,193,324,165,199,137,113,88,55,319,292,144,103,92,155,55,129,166,244,328,323,225,96,122,205,229,83,136,88,337,235,239,224,259,65,300,149,228,344,164,285,135,180,184,256,198,126,60,287,69,126,412,208,252,251,217,137,166,59,139,159,258,100,274,254,200,105,182,140,62,244,302,161,413,42,196,113,143,96,280,112,394,251,225,260,151,195,182,35,182,154,374,203,60,64,362,58,252,330,122,200,58,59,175,248,406,108,82,192,299,238,176,156,285,90,214,194,275,249,50,238,200,253,267,63,382,66,239,233,282,66,97,165,245,222,148,53,48,152,166,198,135,358,270,348,158,222,242,254,324,84,177,237,126,138,310,273,247,224,176,83,336,153,277,170,270,269,192,46,334,87,117,284,123,324,373,134,230,72,221,231,176,293,229,243,235,200,49,238,108,218,251,429,129,48,195,147,92,105,48,276,167,36,306,292,112,222,191,359,397,331,151,239,280,270,304,259,321,302,240,84,100,113,42,174,135,102,174,253,59,223,91,220,158,358,50,383,161,98,108,255,213,201,202,254,110,71,119,87,228,267,199,58,114,108,100,103,147,279,298,371,202,182,152,63,153,181,190,165,310,258,66,160,125,66,251,90,240,211,213,114,55,238,267,184,89,252,149,86,215,261,276,137,254,118,275,156,251,261,134,314,182,289,241,337,139,55,42,65,255,244,102,238,271,324,210,288,453,172,175,36,318,248,298,221,248,50,360,166,73,256,229,214,319,231,58,252,168,237,194,156,181,129,90,49,49,243,50,110,387,150,262,209,284,49,92,175,85,282,262,371,235,181,251,58,106,150,66,345,215,128,411,294,166,295,267,139,94,240,182,80,42,120,193,195,60,140,66,53,82,151,239,184,181,281,296,74,81,234,130,124,314,235,109,291,107,142,264,228,189,211,170,52,76,314,229,164,96,223,190,309,132,144,148,111,93,125,155,58,55,125,289,323,81,112,94,176,332,142,226,177,203,54,136,260,270,94,223,191,136,64,255,309,266,151,85,257,189,100,53,297,147,182,119,99,244,71,265,415,45,167,268,334,150,157,55,143,145,195,230,308,200,282,188,51,324,99,151,181,135,141,224,200,228,146,121,211,234,82,97,81,250,352,312,290,286,80,279,201,53,399,217,317,189,52,258,447,294,80,75,161,61,294,134,363,240,83,73,58,187,169,406,76,338,226,118,205,64,267,267,177,152,154,154,101,295,238,54,46,160,231,238,157,201,226,246,185,78,56,184,254,104,61,174,185,226,299,222,144,123,42,90,216,258,24,294,317,73,254,239,113,182,241,84,105,77,234,189,274,344,131,45,248,50,267,263,46,282,311,342,251,218,227,195,147,191,199,78,252,128,142,267,404,53,78,307,238,180,54,262,169,171,165,65,63,43,82,119,47,102,73,57,278,58,150,85,75,162,102,100,373,210,270,402,174,218,219,178,145,221,244,71,68,243,161,273,199,190,125,67,243,48,262,280,162,146,126,117,147,75,118,213,60,192,132,140,163,115,227,207,314,81,186,160,202,121,61,437,405,481,227,160,374,200,474,75,250,196,239,66,124,170,87,142,329,193,201,144,375,289,160,144,125,166,55,351,155,250,147,127,92,54,240,253,182,264,245,56,266,67,223,219,64,88,215,229,205,271,139,340,151,276,56,257,71,197,96,242,146,193,214,273,172,84,459,328,262,308,198,394,176,238,313,224,258,132,172,317,80,97,47,155,133,74,425,181,181,202,107,160,137,377,141,234,322,484,73,279,133,133,68,70,213,201,320,158,98,281,106,190,50,82,114,57,77,273,140,212,193,87,68,177,282,309,294,121,50,46,290,179,189,136,225,187,184,187,190,244,370,275,194,66,54,148,257,90,162,296,61,350,25,252,39,130,339,223,261,210,295,47,49,123,275,263,396,300,73,60,108,207,76,186,112,408,77,206,230,312,383,187,258,215,111,400,111,230,103,219,118,286,214,64,143,298,257,95,327,200,168,141,339,163,146,317,177,304,64,201,244,189,212,135,37,127,225,243,254,253,259,53,373,211,178,150,221,228,173,264,126,183,283,169,156,69,197,128,54,317,60,191,96,188,84,146,107,189,269,311,43,130,242,190,343,55,234,236,221,106,127,64,195,53,77,200,242,331,285,56,159,52,110,119,51,229,270,84,293,122,54,83,253,113,322,327,199,127,50,292,118,262,176,147,41,185,283,274,46,61,70,83,62,223,218,114,292,194,314,101,311,165,81,129,56,315,186,160,354,91,238,332,148,73,216,156,194,222,360,107,51,267,218,99,414,119,76,198,50,246,304,257,178,66,289,167,128,244,271,106,162,146,196,48,110,235,98,132,119,178,135,179,166,273,162,228,171,58,182,95,212,213,103,314,111,164,123,355,264,151,436,94,179,114,248,79,116,258,200,168,201,137,70,161,179,154,197,173,57,70,299,154,131,241,228,61,299,172,243,104,59,47,190,222,262,107,138,74,147,129,213,238,258,155,76,279,284,298,129,306,189,261,81,272,271,248,43,48,308,158,280,301,113,341,299,315,157,156,189,109,117,104,215,257,277,54,179,184,84,67,195,254,420,241,189,82,223,68,158,152,58,46,190,204,63,289,191,183,66,403,56,76,274,238,220,336,294,277,179,143,51,206,116,121,99,224,227,127,444,252,127,151,191,212,293,350,201,165,351,335,72,71,362,217,221,190,62,150,62,248,266,209,45,264,51,399,266,116,241,93,152,367,58,119,199,130,172,178,396,248,200,262,61,66,62,102,82,81,43,139,166,104,356,235,57,146,315,296,360,289,312,200,240,94,177,220,244,39,221,159,427,230,134,240,327,169,302,132,280,237,230,238,125,202,347,122,145,322,93,90,225,196,141,53,63,49,159,39,98,212,176,113,293,70,145,167,294,204,279,343,170,446,153,342,329,160,282,209,86,165,91,392,182,326,129,112,213,153,57,345,356,262,216,210,441,63,94,141,227,231,312,112,138,161,122,65,348,125,190,217,220,118,142,51,318,63,114,257,43,306,66,119,120,265,238,405,213,54,399,235,254,138,312,87,268,122,151,273,81,213,284,299,224,39,81,444,97,101,257,126,215,222,61,319,223,219,140,398,71,111,301,258,52,178,270,188,257,130,190,94,274,99,406,58,204,95,63,297,72,155,254,284,72,82,296,224,189,228,282,158,248,410,188,59,69,213,50,252,200,77,146,129,238,107,276,183,54,43,97,120,199,198,112,54,255,184,488,96,189,459,326,115,151,125,88,57,166,206,171,47,228,393,257,427,198,237,239,41,55,332,118,133,173,310,144,292,354,237,200,82,133,310,63,166,92,314,47,62,195,184,266,140,41,145,121,74,133,214,74,150,67,136,301,141,65,262,154,56,429,89,306,275,121,177,106,117,301,211,386,148,161,63,288,400,67,229,138,292,108,298,261,118,382,254,124,194,47,89,107,267,91,369,148,106,190,113,219,155,305,62,204,154,217,323,127,196,392,111,319,225,50,136,63,57,304,155,168,330,125,320,231,210,318,255,68,91,211,104,264,275,99,83,206,192,110,394,49,294,102,57,196,374,128,162,395,202,305,90,198,154,103,82,305,78,319,108,112,124,206,169,144,174,174,88,307,130,123,66,64,271,152,92,111,175,282,111,90,365,225,195,274,254,88,169,150,253,218,250,221,108,288,114,46,333,53,219,68,50,261,151,371,93,167,214,363,233,200,94,448,321,172,222,153,244,345,262,50,76,262,207,55,279,241,129,92,141,181,219,42,53,111,144,113,60,125,167,140,83,201,136,235,268,164,224,67,313,262,200,65,238,174,196,38,243,164,54,219,124,59,143,199,253,134,177,255,106,175,43,411,348,86,235,216,122,360,56,253,72,224,62,360,265,311,202,181,249,224,361,187,324,286,288,322,319,172,142,78,119,386,103,165,253,197,69,132,160,150,191,118,91,349,320,137,148,80,177,259,429,159,310,288,116,248,167,217,207,197,156,117,57,212,262,246,79,58,69,258,176,84,262,80,136,184,207,250,78,267,346,107,118,386,413,238,257,94,399,136,166,134,259,111,168,356,96,72,165,77,90,235,275,143,314,133,128,314,322,94,249,51,248,290,153,105,209,391,72,121,312,294,96,259,355,219,300,143,386,69,226,277,75,314,201,52,51,132,91,220,305,204,288,300,214,369,100,360,237,243,502,190,170,101,308,288,270,111,167,130,314,274,131,115,40,81,150,305,253,264,49,277,102,239,66,323,88,53,213,176,425,183,122,141,225,160,302,145,128,314,396,164,160,43,139,162,242,429,329,76,312,123,186,153,194,232,220,214,268,270,187,291,289,179,30,65,48,401,67,166,321,267,157,69,196,274,37,319,66,236,342,128,222,285,57,58,309,190,112,67,221,69,325,282,93,267,144,63,220,264,58,54,50,220,269,225,78,55,230,359,204,144,191,442,170,146,63,395,217,161,161,152,80,116,36,339,73,227,136,204,41,321,93,288,311,315,199,148,345,79,254,261,52,136,309,275,362,59,64,223,55,206,173,259,315,280,228,126,237,310,332,86,249,252,139,297,175,69,194,215,72,246,206,165,407,297,327,237,259,55,333,61,181,183,443,291,118,53,124,142,294,168,47,191,61,278,266,146,291,158,323,198,349,129,94,72,271,103,206,277,262,136,314,353,175,277,229,307,79,254,120,215,312,71,348,106,255,163,235,272,310,156,117,414,119,238,187,134,50,192,256,158,193,120,253,66,303,215,60,288,257,60,82,153,158,151,115,311,88,282,234,51,166,144,46,273,40,237,250,182,56,90,126,95,215,119,135,193,81,243,53,97,56,431,87,242,267,305,90,74,269,46,86,173,66,234,106,33,151,105,148,367,346,106,231,101,108,304,111,115,147,367,307,82,103,132,53,171,121,382,42,76,96,145,66,66,436,391,126,161,219,90,278,151,80,140,73,147,364,314,195,68,92,224,424,214,250,284,80,337,57,399,185,277,122,47,54,236,305,203,126,67,53,60,222,182,51,57,175,75,188,245,206,334,92,201,298,350,389,118,159,244,108,38,310,110,58,184,175,46,222,180,180,72,233,147,257,192,103,122,39,97,250,310,107,66,306,198,208,231,309,199,94,259,189,187,176,427,356,80,288,243,340,245,75,92,313,227,186,365,204,109,317,118,300,103,180,154,232,109,123,178,288,193,415,88,54,66,77,178,261,83,80,253,247,291,88,48,157,163,250,180,195,46,85,292,220,47,340,181,254,60,199,168,80,51,379,108,37,305,343,215,272,72,60,107,97,342,96,115,131,200,244,308,242,244,111,97,339,115,198,62,180,297,217,298,50,83,299,289,197,57,265,398,220,125,232,265,55,63,79,220,318,68,58,117,116,326,298,165,242,84,101,224,376,150,328,76,59,159,122,109,233,169,334,334,173,90,277,126,49,182,214,237,88,99,51,275,467,261,180,83,272,262,104,281,94,151,69,277,192,48,59,92,198,81,475,333,256,242,145,195,74,263,322,118,373,332,211,118,336,245,204,284,430,144,302,328,48,295,189,228,172,443,182,199,254,343,242,462,287,314,133,187,202,104,314,109,137,219,267,51,282,316,57,381,133,267,211,97,267,271,62,261,302,138,51,163,279,59,122,43,217,257,159,158,136,122,273,307,65,210,50,401,51,58,130,83,144,105,213,230,271,95,257,214,229,238,197,51,336,237,428,168,195,204,321,79,58,43,187,275,418,92,190,221,332,340,81,332,79,191,46,94,175,152,239,297,358,154,392,253,267,355,275,100,117,217,182,130,52,58,296,109,171,150,424,248,176,94,256,266,92,93,230,234,86,117,77,233,266,87,102,67,295,60,245,217,437,98,362,239,55,163,218,197,194,64,57,165,69,403,91,82,55,284,202,137,302,211,227,156,196,158,139,237,175,140,381,52,72,93,45,159,330,68,240,157,388,137,224,206,53,78,215,128,150,194,287,47,70,164,122,178,150,324,78,207,101,55,106,127,366,254,173,232,195,205,170,195,270,168,322,104,73,51,263,114,279,188,78,120,73,130,125,378,239,90,236,101,253,82,277,294,130,186,293,149,42,391,264,229,306,123,162,54,100,102,231,253,300,76,258,92,159,58,377,76,273,235,351,146,288,381,52,233,119,300,258,389,74,336,125,45,80,238,71,268,194,199,58,60,58,252,343,90,259,213,98,56,179]},{\"axis\":{\"matches\":true},\"label\":\"amenities\",\"values\":[10,17,8,12,21,31,12,11,29,22,32,24,36,13,20,14,28,30,18,17,25,9,12,22,14,7,32,34,33,22,31,8,19,14,29,21,16,15,10,21,16,12,22,18,10,34,21,16,32,32,33,16,13,10,23,25,37,19,29,10,31,9,23,24,24,18,20,16,37,11,19,21,10,32,23,10,11,14,12,36,9,11,32,14,26,27,22,25,27,5,20,15,18,14,15,24,31,13,15,6,11,16,15,18,24,19,27,20,26,21,38,10,8,33,19,6,17,12,15,11,29,32,27,8,13,31,3,17,14,18,40,21,22,31,20,13,11,13,7,13,27,35,30,33,31,11,37,12,28,17,40,34,17,12,7,16,16,22,20,14,14,42,32,18,26,15,33,17,29,14,22,23,16,11,16,6,14,22,10,29,12,25,15,45,26,28,33,22,47,6,22,18,35,11,31,8,18,32,16,45,23,35,24,10,15,25,11,11,20,40,7,27,17,34,21,21,12,35,37,12,9,19,23,29,21,25,23,44,22,23,11,25,15,17,19,6,22,15,18,19,10,27,25,11,33,20,22,9,9,14,22,39,11,16,39,40,15,16,39,16,9,22,18,14,13,28,34,17,14,11,14,24,10,13,23,24,10,13,10,35,24,11,17,15,24,12,24,39,35,18,9,23,30,22,29,12,27,26,38,29,9,36,33,9,3,26,6,31,16,13,12,10,7,7,31,29,10,24,21,22,6,20,12,21,28,20,9,12,31,14,16,13,25,13,10,50,21,42,10,27,26,11,16,17,23,10,36,16,15,32,16,14,14,20,27,25,22,29,43,24,40,20,13,5,25,30,7,27,15,33,8,38,18,36,15,31,34,21,25,28,9,30,20,17,29,19,22,24,19,19,22,9,23,25,28,26,21,26,17,25,6,13,19,7,9,22,25,21,25,14,24,9,26,9,16,20,3,24,21,32,19,12,25,20,24,28,20,19,7,14,33,30,24,32,26,35,21,25,29,15,9,26,15,16,21,22,18,24,12,31,6,25,17,14,10,20,11,35,28,27,19,23,28,41,34,26,19,22,20,28,28,42,12,13,20,25,5,31,37,16,18,15,26,20,31,24,30,26,18,37,21,27,5,8,32,21,15,9,29,29,44,15,8,12,20,11,28,14,8,23,10,11,24,6,16,23,13,27,8,28,35,34,29,21,21,23,23,11,14,33,29,27,28,42,13,7,25,31,23,17,33,14,25,10,27,28,20,16,35,37,37,21,31,22,11,17,12,37,27,16,11,30,31,18,14,33,5,34,10,29,33,13,22,14,5,22,11,15,20,15,18,8,27,20,15,28,15,24,36,15,15,22,15,30,42,18,34,32,17,35,35,14,6,31,38,5,11,22,14,15,22,22,10,25,34,32,15,19,12,15,29,25,23,27,7,11,25,11,45,17,13,29,39,14,30,16,18,11,22,36,17,22,42,17,21,36,19,12,16,24,21,10,31,15,13,34,22,15,21,35,22,31,20,22,22,13,32,3,29,25,20,26,24,13,26,12,32,14,15,23,22,26,16,23,11,20,38,19,16,14,37,9,33,9,9,26,29,14,27,33,33,30,19,30,6,14,6,13,21,7,24,15,8,29,32,19,13,33,22,22,7,25,26,11,38,11,23,21,14,10,9,27,27,27,12,8,39,30,31,30,10,26,12,16,34,18,18,14,8,36,24,30,14,27,8,24,32,16,28,47,16,42,21,26,26,26,9,9,38,23,10,20,29,10,11,12,10,25,13,21,21,22,19,31,43,10,13,16,5,27,36,25,34,34,21,13,26,9,41,32,27,35,15,24,22,27,14,43,25,25,23,24,17,11,29,14,20,19,7,23,23,26,26,20,13,21,31,24,13,20,20,18,28,9,20,28,18,18,22,8,21,30,13,22,23,31,26,11,27,18,36,36,8,9,13,10,27,18,35,22,22,20,16,8,9,28,30,17,14,7,23,13,13,19,25,40,36,23,12,12,26,24,12,22,12,29,24,18,26,24,7,31,14,27,40,16,26,17,22,22,27,20,15,14,36,13,17,37,21,25,21,25,15,18,6,23,18,26,11,34,26,23,13,17,14,5,26,34,18,46,6,23,10,17,14,26,12,40,28,26,27,17,24,16,4,20,17,37,23,8,10,35,10,25,31,17,28,10,6,17,26,43,17,14,23,31,23,18,17,32,15,24,23,31,27,13,26,24,25,30,13,39,12,24,26,35,10,10,23,30,23,15,9,6,15,20,20,16,31,30,36,19,26,27,31,33,15,19,23,19,22,30,28,25,20,19,11,41,11,27,14,29,28,22,8,28,14,12,29,18,32,36,13,30,12,30,24,18,29,27,28,26,24,5,28,13,21,26,42,17,9,19,15,15,18,9,36,20,5,30,33,14,24,19,34,41,35,16,31,30,28,32,26,30,31,29,8,11,16,3,15,19,19,22,25,12,19,16,24,12,31,9,44,23,12,10,30,26,20,20,25,13,12,14,13,23,33,22,10,12,13,15,17,15,30,29,36,19,25,10,5,17,21,23,12,32,28,9,23,15,9,22,14,20,20,21,15,5,30,29,23,17,29,21,10,26,27,29,15,22,18,20,20,30,31,13,25,19,32,30,40,11,4,3,13,28,26,8,29,31,33,31,33,43,21,16,4,33,29,32,25,28,8,31,19,11,26,23,25,37,25,6,30,18,23,21,13,21,18,13,10,7,26,11,15,38,15,24,20,27,12,13,24,10,34,30,36,26,25,21,4,9,17,11,37,25,12,39,35,24,31,31,13,19,26,18,14,7,14,21,22,8,17,5,11,8,23,30,23,23,31,32,16,11,27,15,19,27,26,14,28,14,17,27,23,17,24,17,8,10,35,25,21,8,13,26,25,14,19,18,15,13,19,18,10,8,15,29,36,12,22,12,20,38,17,27,22,22,8,16,29,23,12,25,19,16,11,26,32,25,15,9,30,21,12,13,29,16,20,15,12,25,12,29,41,7,22,26,33,17,14,6,19,15,26,29,31,20,31,25,9,35,8,14,20,17,17,24,20,31,17,18,24,23,10,12,13,25,35,33,29,33,12,25,22,8,43,23,32,21,14,27,46,30,9,9,13,5,33,18,36,23,11,11,9,20,18,41,12,33,24,18,29,7,23,26,25,15,17,19,11,29,22,9,11,19,27,23,17,21,32,27,18,3,13,20,24,14,6,16,23,22,29,24,20,14,12,10,19,31,5,33,29,11,30,26,16,18,25,6,13,5,25,26,25,37,18,10,25,7,30,26,6,29,29,36,29,23,28,21,16,22,21,6,25,17,18,24,44,6,7,33,26,15,13,29,24,26,20,3,8,6,8,19,9,8,10,10,35,8,13,8,13,18,15,9,37,24,31,43,23,22,17,20,16,22,27,14,11,24,17,30,21,19,22,8,30,10,25,31,18,16,14,14,20,5,12,25,9,18,15,16,18,15,28,20,33,17,19,14,20,15,13,46,37,47,22,18,36,18,47,15,26,21,32,6,14,15,11,15,38,13,22,19,41,28,17,12,17,18,8,39,21,27,23,18,12,0,29,30,20,28,29,9,27,12,26,18,11,14,24,25,23,25,24,36,16,32,11,28,12,18,14,26,15,19,22,35,20,14,44,32,30,32,21,39,18,28,33,24,25,17,17,36,10,18,8,14,18,12,43,23,15,21,14,16,14,41,14,27,34,50,11,31,17,11,10,8,23,24,34,16,15,25,16,26,7,13,13,6,10,25,21,26,23,11,12,23,28,31,30,11,10,11,34,22,19,16,22,17,18,14,25,26,35,30,18,11,3,20,25,12,20,28,10,30,2,25,7,12,37,24,25,25,30,11,9,16,24,29,39,31,6,13,11,22,11,21,13,37,15,20,23,36,41,20,27,21,14,39,17,25,7,24,9,30,27,13,18,30,31,7,32,19,18,16,32,14,16,34,18,31,10,21,23,21,16,19,9,15,26,28,21,32,26,9,42,26,19,16,24,25,16,26,16,21,29,17,21,13,17,19,5,34,8,23,17,16,15,14,15,18,28,29,3,16,23,20,37,7,27,28,30,9,12,9,20,11,10,18,25,33,30,5,16,8,18,17,15,25,32,11,28,13,10,8,26,15,29,37,22,22,11,31,8,28,25,24,9,21,30,31,8,10,9,12,13,27,23,15,37,25,32,17,26,14,12,20,15,33,24,21,39,5,23,29,18,13,23,14,22,18,36,11,12,27,20,12,36,18,7,21,8,26,34,25,25,9,26,20,15,26,31,16,19,19,24,11,16,28,13,15,13,14,18,17,19,30,18,25,22,12,24,19,29,24,16,29,21,16,17,36,32,22,36,8,18,21,24,10,15,31,23,19,19,16,13,16,25,21,25,24,10,16,29,14,20,27,25,12,20,18,32,16,19,12,26,28,27,21,16,10,19,16,19,29,26,14,8,28,27,28,18,31,29,27,17,30,31,22,6,12,28,20,24,27,16,35,36,32,16,18,23,15,20,13,21,30,26,8,20,24,10,7,20,29,41,31,15,15,17,12,17,17,11,3,26,20,8,25,21,25,14,39,11,7,31,22,24,40,30,34,16,13,6,30,16,13,12,25,23,16,38,26,17,20,21,24,31,40,26,25,40,35,12,14,35,24,20,20,7,18,10,24,32,19,12,27,11,39,32,14,25,12,13,44,9,11,25,17,18,17,39,25,26,23,17,12,14,9,9,13,10,18,19,10,31,28,10,19,31,27,35,26,35,19,27,16,21,24,24,11,24,19,40,25,14,23,34,22,33,7,30,23,28,24,18,25,32,15,16,30,16,11,26,22,14,8,10,5,22,10,9,21,20,11,34,11,15,22,30,26,36,36,20,44,12,40,31,18,33,20,10,16,14,40,16,35,14,9,29,19,11,36,38,33,24,17,41,11,15,15,26,26,28,13,15,21,14,12,36,16,24,22,23,21,22,7,32,10,15,26,10,30,8,7,14,33,25,37,25,5,37,27,27,18,25,10,27,16,16,26,11,24,28,29,25,9,14,47,14,13,28,15,24,20,11,38,19,26,12,37,12,16,32,27,15,18,30,21,26,14,18,14,27,10,45,6,19,15,13,33,10,15,24,28,13,13,26,23,21,25,28,20,31,39,25,5,12,28,10,26,23,7,18,19,24,15,28,19,9,8,11,13,23,22,12,7,28,15,50,11,23,40,26,16,14,19,7,11,16,22,20,11,24,39,32,46,21,25,22,8,10,32,16,15,17,31,21,32,36,24,24,13,16,30,9,20,10,34,8,10,20,19,30,15,7,11,14,10,16,23,10,16,11,15,25,17,11,27,21,12,46,8,33,32,13,15,15,14,30,17,42,17,18,8,32,35,7,24,15,28,14,33,28,14,42,34,15,16,12,13,17,28,10,34,14,15,19,13,24,20,32,8,19,9,22,30,15,19,38,14,38,25,9,12,5,15,31,15,18,32,13,36,23,16,33,25,7,6,17,13,32,28,18,12,28,25,17,36,8,32,15,3,18,35,15,25,34,19,34,9,22,19,10,11,29,14,34,17,13,13,22,20,16,22,16,10,28,18,18,7,7,32,14,10,9,19,31,9,10,33,26,24,30,23,9,21,18,26,21,30,25,8,29,15,10,32,9,26,13,6,24,17,36,13,21,19,39,24,26,19,44,30,25,17,21,31,33,28,8,10,27,23,9,34,24,14,19,14,21,21,5,7,15,18,14,12,14,17,23,15,20,14,27,29,15,24,13,32,31,23,6,22,18,14,1,24,20,9,22,17,2,9,25,23,14,21,29,15,20,3,41,34,12,27,23,18,37,16,24,10,26,7,34,29,29,21,18,32,25,37,19,33,35,31,34,31,19,17,7,10,39,12,18,24,17,12,17,19,21,21,10,11,37,33,18,21,10,23,31,45,20,32,31,16,26,20,24,22,27,23,15,14,22,21,26,18,6,8,27,25,16,28,11,17,24,25,27,14,26,38,14,15,36,41,30,30,7,38,15,14,18,28,19,24,32,13,11,18,10,11,25,31,20,31,21,16,34,31,14,30,14,30,27,19,12,20,38,8,12,32,34,13,26,32,25,27,11,45,6,22,26,8,35,18,9,13,13,8,25,29,21,31,24,21,40,13,39,30,26,49,24,20,13,30,29,28,18,17,20,29,28,17,18,5,14,15,29,31,24,8,25,14,25,10,32,3,11,28,22,49,18,19,19,22,19,29,19,11,30,40,18,19,9,14,17,28,44,36,11,29,13,25,14,18,24,23,18,28,31,21,28,30,17,9,10,11,36,9,20,30,27,19,8,23,27,8,32,8,24,33,15,12,30,12,11,27,26,13,6,24,9,38,32,12,23,20,5,26,25,10,10,7,26,25,24,14,4,22,39,26,16,24,45,18,14,8,41,21,15,26,11,16,18,8,37,9,25,10,24,3,37,6,28,34,30,22,19,38,8,24,32,10,18,34,26,34,6,7,23,8,17,18,34,36,25,22,11,27,34,24,12,25,25,17,26,22,8,23,23,7,30,19,14,47,31,35,25,24,12,31,11,23,21,40,35,13,7,14,17,30,23,4,25,4,28,31,16,36,15,31,23,34,19,19,6,29,14,24,28,27,15,32,35,18,32,23,38,12,25,16,29,35,6,38,13,26,22,26,27,28,20,18,42,19,28,21,16,10,20,26,18,21,9,30,8,35,22,4,29,28,8,14,14,18,17,13,36,11,24,23,8,24,15,9,29,6,26,25,20,10,13,16,12,23,13,18,22,16,21,8,14,12,40,14,27,29,29,16,12,25,12,14,25,10,25,15,5,13,12,15,36,34,8,26,15,13,35,14,17,19,36,33,8,13,16,12,20,20,37,6,10,11,18,8,7,43,44,16,24,25,10,30,18,7,19,10,21,37,31,15,10,9,26,47,20,26,29,14,41,7,39,22,33,11,5,12,30,36,18,10,7,12,12,30,21,7,6,23,10,16,27,21,37,11,23,29,44,39,13,19,30,13,14,27,11,9,19,21,12,21,14,16,6,22,15,28,27,15,10,3,14,26,37,16,9,35,23,26,26,33,19,12,28,19,18,19,39,43,17,29,24,28,27,15,12,32,23,17,40,23,17,30,17,29,14,21,14,22,17,15,17,33,22,44,6,8,12,7,16,38,11,11,28,29,35,12,9,16,18,26,21,21,5,10,25,26,11,34,22,24,12,23,20,11,7,42,15,11,34,36,26,31,6,9,13,15,33,16,12,20,21,29,27,21,24,17,14,35,16,21,4,19,31,21,32,9,13,29,34,24,12,26,42,21,20,25,28,10,5,11,19,28,13,10,15,19,33,30,24,26,11,12,25,34,16,32,9,3,20,12,12,29,24,35,30,22,9,32,19,9,18,19,25,10,14,8,26,47,34,23,17,25,27,19,26,15,12,9,26,26,12,10,9,27,11,43,37,23,26,12,19,11,24,32,16,36,33,21,17,36,25,25,26,36,17,33,34,5,27,25,23,17,39,16,19,30,36,24,43,29,33,16,19,19,12,28,13,13,16,25,8,27,33,8,37,19,29,21,12,24,23,8,27,30,16,12,16,33,10,13,14,19,26,19,19,15,10,30,35,14,23,5,46,4,6,15,11,22,16,23,25,31,8,28,22,23,18,21,4,31,29,41,20,23,20,28,10,6,10,18,31,39,9,19,29,37,35,12,35,9,21,8,15,22,19,21,31,37,17,46,34,30,35,27,13,15,25,19,15,8,8,33,19,18,15,39,26,21,17,27,22,13,14,21,30,15,12,13,23,27,13,12,7,30,10,19,20,41,7,42,23,12,17,21,23,19,14,6,17,8,42,13,13,9,26,18,19,30,26,25,14,19,18,9,23,23,13,40,7,15,14,6,15,35,11,25,20,41,14,21,21,5,9,23,16,18,21,26,8,10,21,17,20,17,33,7,25,11,11,13,15,40,25,16,19,23,21,18,22,27,17,34,8,12,3,32,17,29,23,11,12,14,15,15,40,26,14,23,14,30,14,26,25,15,15,24,9,8,43,26,26,32,18,21,3,9,16,21,20,36,10,22,6,18,14,42,7,28,21,32,17,29,39,7,23,12,32,33,37,12,40,16,4,11,25,12,28,18,23,4,18,12,31,34,19,28,22,15,9,24]},{\"axis\":{\"matches\":true},\"label\":\"accommodates\",\"values\":[1,4,1,2,1,10,1,2,2,2,2,7,9,1,2,5,13,4,3,2,3,2,1,9,4,3,3,11,4,2,13,1,2,7,2,15,9,7,2,11,9,1,8,8,2,7,8,5,2,3,3,6,5,3,1,9,15,7,7,1,4,5,13,4,2,1,5,14,15,4,1,15,4,9,1,2,2,1,5,7,2,2,9,2,12,8,5,2,2,1,14,4,3,8,2,2,3,5,10,2,1,4,3,5,1,7,3,10,15,5,12,2,2,4,6,2,11,2,5,4,6,5,2,1,4,4,1,5,3,7,11,4,11,11,2,2,1,2,1,2,2,5,3,5,4,2,10,3,4,10,15,5,11,6,1,8,11,3,3,1,1,15,11,5,5,3,5,8,2,11,1,11,4,2,2,1,2,13,2,15,3,2,2,12,1,3,3,8,16,2,9,1,9,4,6,2,12,2,9,15,4,6,9,2,2,12,11,2,1,13,1,2,7,6,7,3,3,13,13,1,1,7,14,10,14,8,1,14,14,2,3,5,3,6,9,2,2,10,5,11,3,1,11,2,3,12,8,1,2,3,9,15,12,4,9,14,9,2,15,4,2,6,6,8,2,5,11,1,2,2,2,8,5,2,16,2,3,3,3,9,14,3,8,7,3,2,10,10,13,3,2,8,2,5,3,3,11,12,9,2,1,8,6,1,2,6,1,2,9,6,2,2,2,1,7,13,2,11,2,2,1,6,6,4,3,6,1,5,14,7,5,3,2,3,1,15,11,15,3,2,1,1,2,7,13,1,9,2,3,9,2,7,14,10,5,13,14,2,12,1,11,10,6,2,15,7,1,3,10,5,2,10,8,11,2,2,8,7,2,12,1,7,3,5,4,4,10,8,3,2,2,6,2,2,5,5,11,6,11,7,2,2,5,2,1,2,2,13,2,8,2,2,3,2,2,9,1,3,11,2,8,2,2,2,2,2,5,3,2,2,3,2,1,6,1,9,5,2,14,2,1,2,1,3,13,7,7,2,3,12,1,2,11,2,1,8,1,2,9,3,11,4,5,14,15,7,5,3,2,5,2,14,6,2,9,3,2,7,14,2,2,3,13,1,6,2,3,7,4,6,6,3,4,2,14,2,8,3,11,9,12,3,2,1,7,3,3,14,3,6,1,2,1,2,15,1,2,16,2,8,12,3,10,13,5,1,2,3,14,8,5,3,2,14,9,1,1,6,2,1,3,6,12,1,12,3,8,2,10,16,11,16,3,7,2,2,2,11,5,2,2,4,2,1,10,6,1,7,1,15,9,12,1,5,1,6,3,2,1,4,1,1,3,2,12,2,6,13,4,7,1,5,8,4,15,11,15,7,9,12,8,2,1,12,11,1,2,10,10,1,5,1,1,10,10,16,3,10,2,2,14,12,3,2,1,2,13,1,9,8,4,5,11,2,3,2,6,8,2,6,2,4,8,10,3,4,11,9,8,1,11,2,7,4,11,6,1,2,3,4,1,6,1,2,2,12,3,2,4,2,1,1,2,3,2,2,2,7,3,2,7,15,6,11,10,7,10,6,9,10,4,1,5,1,1,3,9,3,8,3,4,1,9,10,1,3,2,1,2,1,8,7,2,6,13,3,12,2,11,13,1,6,2,1,15,2,7,2,1,4,2,11,10,9,2,8,14,11,3,3,5,3,2,2,11,1,12,2,13,3,9,3,2,16,2,2,13,5,2,16,14,11,2,2,3,2,1,3,9,6,3,10,7,2,3,4,3,4,1,5,11,2,1,3,13,2,12,5,1,8,15,5,6,7,4,9,4,2,12,7,3,12,5,2,2,2,2,14,9,4,2,12,3,2,4,2,15,12,3,4,9,10,3,2,2,15,13,4,8,2,1,7,2,2,6,3,5,9,11,6,5,2,8,3,3,2,5,4,13,14,10,9,2,3,7,2,7,6,6,3,1,2,5,3,2,5,3,1,3,2,5,1,9,5,1,9,8,2,5,6,1,4,3,7,2,7,2,2,3,7,1,6,13,12,9,6,13,3,4,8,3,13,5,2,3,2,7,13,8,9,2,2,9,5,2,11,4,10,3,3,3,3,8,8,1,3,2,14,5,13,1,7,3,4,5,13,4,13,2,2,10,3,1,8,1,9,6,10,3,2,3,11,2,2,4,12,3,1,1,7,2,14,4,1,6,3,2,7,4,12,2,13,2,12,6,1,7,11,14,2,2,14,1,2,2,3,2,2,3,2,11,5,1,2,14,1,3,7,9,3,8,4,11,1,9,14,1,2,16,8,1,6,3,8,2,15,2,4,4,11,9,3,2,7,1,16,1,1,10,5,7,12,10,6,1,3,6,3,3,2,2,6,1,1,6,3,4,2,14,8,2,1,13,4,10,2,2,2,5,3,3,4,2,7,10,12,4,4,2,13,3,5,10,7,3,8,2,12,9,1,10,2,7,8,9,1,2,2,15,12,12,1,14,4,4,4,2,15,1,8,10,4,1,6,3,6,3,14,1,5,11,6,2,3,3,14,13,1,5,5,3,5,5,1,6,5,10,1,1,6,4,1,4,8,3,2,5,2,1,2,11,4,9,5,3,4,2,2,9,2,6,12,12,15,2,2,7,1,3,8,7,3,2,1,2,10,8,2,4,3,7,9,4,15,2,1,1,14,2,5,2,2,1,10,8,2,7,2,3,8,16,2,2,8,2,13,5,1,2,4,2,1,2,1,4,13,5,10,14,13,1,2,8,1,12,2,10,2,1,6,2,3,5,2,7,2,5,14,6,7,4,3,8,5,7,2,2,1,12,2,13,2,2,4,1,2,2,7,5,10,3,4,1,2,6,15,7,3,13,3,11,8,2,2,6,6,15,7,1,2,15,1,7,5,2,1,15,9,3,12,4,2,2,2,2,1,7,5,3,2,11,2,5,9,12,2,2,8,1,10,10,3,2,2,12,10,2,2,13,8,13,2,3,12,6,2,4,12,2,6,5,13,2,11,13,1,8,11,6,10,2,1,1,11,13,6,4,1,3,10,2,6,2,5,7,2,8,2,8,11,10,6,2,2,2,2,1,9,8,3,5,13,2,4,1,1,12,2,8,9,2,2,16,3,2,1,4,1,3,2,11,2,2,2,2,12,8,13,1,4,15,6,8,2,8,3,1,6,2,4,3,3,6,1,1,4,2,2,12,14,6,6,11,2,1,1,2,8,2,6,12,2,3,1,3,7,1,3,4,10,3,3,13,2,2,2,11,2,7,3,8,1,6,12,3,4,2,1,2,2,3,10,1,3,15,10,2,11,4,3,10,9,2,2,2,14,12,2,14,1,3,3,6,10,1,3,6,9,1,4,3,1,3,5,1,3,2,2,12,2,10,3,3,13,8,6,12,3,11,13,9,11,4,1,4,10,8,1,2,2,4,4,1,3,6,2,2,2,3,3,3,4,2,6,3,2,5,4,1,10,9,1,7,11,2,1,4,3,2,6,7,6,2,15,13,16,2,6,12,13,16,1,15,12,7,2,7,8,1,3,4,1,1,9,12,3,6,2,14,6,1,4,4,2,1,8,4,1,2,10,8,11,2,1,3,2,5,5,3,1,2,2,14,3,11,7,4,9,1,3,3,3,5,14,3,1,4,3,1,3,16,4,2,3,1,12,7,7,15,14,10,8,1,4,2,2,1,14,2,2,14,11,10,8,3,5,9,10,4,2,15,16,1,3,1,8,1,2,1,12,4,6,2,13,3,1,2,2,10,2,2,2,2,1,1,2,5,8,3,6,14,6,1,1,11,9,9,10,6,9,9,12,7,8,13,2,10,2,2,3,2,4,1,3,1,8,2,15,1,9,10,5,2,12,4,2,2,1,3,2,12,15,3,2,8,15,2,1,3,13,1,1,2,13,11,5,10,10,3,14,4,6,7,2,6,3,4,2,4,12,3,2,3,7,3,11,10,1,3,4,7,4,1,3,2,5,1,2,1,5,6,8,2,2,3,1,12,2,8,14,10,2,4,3,13,5,3,8,4,2,3,8,2,5,2,2,6,6,2,9,3,6,3,3,1,2,8,7,10,2,7,2,14,3,2,2,3,1,4,13,8,9,3,2,4,2,11,6,1,6,3,3,3,6,1,3,3,3,7,3,11,8,1,5,6,10,5,4,1,2,13,11,2,2,1,3,2,5,5,5,5,3,13,3,7,6,2,8,2,6,2,5,10,2,8,4,10,2,5,4,7,14,10,8,1,3,5,6,13,1,2,1,1,2,4,2,9,1,3,6,2,14,8,3,5,13,2,2,3,1,3,8,6,10,2,10,1,3,7,5,9,2,9,5,1,4,7,15,4,5,2,8,3,5,15,5,9,5,2,2,12,2,7,5,12,2,2,15,5,3,14,7,1,2,3,6,6,2,2,1,14,1,2,3,2,1,6,5,9,9,10,2,3,2,2,6,10,4,2,9,3,3,2,4,1,2,2,12,2,2,1,2,15,12,3,14,1,10,12,13,15,6,1,10,5,3,5,2,13,1,7,1,3,2,11,8,15,1,11,3,2,3,15,14,7,1,2,14,3,11,1,11,3,15,1,2,9,6,1,4,13,3,2,11,1,2,5,12,2,2,2,2,15,2,2,11,1,2,3,8,1,7,11,7,1,3,12,10,2,3,1,5,2,2,11,1,1,2,2,14,11,4,2,2,13,11,2,6,12,2,4,9,14,9,1,2,1,1,2,3,3,10,1,10,8,10,10,7,1,11,6,4,9,11,6,14,2,2,9,2,2,1,11,3,16,6,8,2,7,6,4,9,12,6,2,5,1,11,8,4,4,7,2,4,3,13,12,1,1,1,12,1,5,2,1,10,4,2,4,1,3,4,3,4,6,16,14,10,7,6,13,10,3,3,8,13,2,9,8,5,3,1,1,4,9,11,1,3,15,2,4,2,6,2,5,5,2,7,7,2,9,6,11,5,2,4,1,2,4,2,5,9,1,3,2,5,12,3,2,13,2,1,12,2,3,9,5,2,2,7,2,3,3,2,3,15,2,1,2,15,2,7,7,1,4,1,2,8,2,2,1,12,1,3,5,10,1,7,3,6,15,6,12,1,4,11,15,2,1,5,2,11,2,6,10,3,2,1,3,2,1,2,12,6,2,14,2,2,2,2,2,2,1,3,4,2,7,1,3,9,1,1,2,5,3,13,4,2,3,9,16,7,12,15,7,1,3,6,4,2,8,4,8,1,2,13,2,15,1,2,2,1,1,6,6,3,7,7,9,3,10,2,3,2,2,15,2,5,3,3,2,1,13,1,3,2,1,4,6,1,7,3,3,1,2,10,4,11,2,2,14,1,14,4,3,2,1,7,7,11,12,2,11,4,1,2,3,14,1,2,8,5,3,3,3,4,11,3,6,1,2,4,4,2,2,11,5,3,12,5,15,6,5,1,3,2,13,6,5,3,13,4,5,1,1,3,2,1,4,4,5,7,7,7,7,4,6,9,2,2,2,3,10,16,5,2,14,7,9,13,1,3,9,2,7,10,2,7,13,8,4,2,1,4,2,2,5,3,8,4,10,1,9,2,1,9,6,4,7,9,5,2,1,3,3,2,4,10,13,12,4,12,2,10,12,3,2,7,5,15,2,2,2,3,4,5,1,4,1,11,2,1,2,2,11,2,1,10,12,2,8,2,16,8,7,15,13,8,9,7,1,2,2,2,1,3,1,7,2,1,4,5,1,2,9,4,5,1,2,6,3,2,8,9,6,2,7,6,1,4,10,7,2,2,10,7,1,8,5,1,2,7,1,4,3,2,15,8,2,8,9,1,13,11,3,2,2,7,9,2,6,2,2,1,10,2,15,3,5,2,14,12,2,4,3,5,7,8,1,3,2,4,13,7,3,2,10,2,2,4,4,2,6,2,9,15,9,5,3,10,10,14,2,6,12,12,2,6,3,2,13,6,12,2,1,10,2,2,2,1,3,9,3,2,3,7,12,1,1,3,3,4,3,6,14,15,2,10,2,12,10,3,15,3,4,4,9,5,2,1,2,3,6,2,2,7,2,7,5,3,2,9,4,9,3,14,8,9,4,6,6,5,14,2,7,10,2,5,2,13,2,2,9,3,3,1,2,1,14,4,1,5,2,3,4,5,13,3,10,2,8,16,1,9,3,3,16,3,5,15,14,3,12,9,3,1,5,2,3,15,11,1,3,3,7,3,6,3,1,15,5,15,11,7,8,4,2,15,4,2,3,13,7,4,1,3,15,8,16,7,4,7,7,1,1,10,6,14,3,2,3,9,3,3,2,1,3,2,15,3,1,8,8,6,2,1,12,1,6,2,2,9,15,5,12,2,1,3,11,1,3,5,1,6,12,6,2,1,2,5,11,2,1,2,2,12,14,2,1,6,10,1,9,2,16,8,13,1,13,2,5,7,3,2,1,1,8,4,2,7,3,1,5,2,13,6,6,1,13,7,3,3,2,2,3,15,3,10,2,2,12,1,9,1,2,15,13,13,8,7,15,8,8,9,2,10,4,4,2,3,2,1,8,2,7,13,4,14,7,3,1,9,2,5,11,15,3,5,1,1,4,5,3,1,1,2,3,15,12,3,6,15,8,9,15,4,2,15,8,12,3,10,10,5,10,1,4,2,3,5,2,7,5,15,1,16,1,2,7,1,11,7,5,6,13,2,13,2,9,1,13,3,6,10,6,16,2,14,1,2,3,3,2,3,2,4,4,5,6,2,12,13,2,6,12,1,4,1,2,9,11,1,4,8,5,4,2,3,2,3,5,1,6,1,14,2,2,11,14,1,1,2,1,2,9,2,2,3,1,3,2,3,11,8,3,2,3,4,5,5,5,5,9,4,2,7,14,1,9,1,11,1,1,2,4,2,2,16,13,13,7,3,4,3,14,2,1,2,5,11,6,12,2,5,2,14,4,2,3,2,7,1,15,3,9,6,1,2,7,5,14,8,1,2,2,5,1,1,1,8,3,2,2,4,6,5,14,14,11,13,6,12,2,2,1,6,4,2,5,6,1,2,4,2,2,12,3,10,12,3,6,1,5,6,5,3,2,7,14,1,2,7,13,3,2,11,6,4,14,8,2,3,2,7,2,1,4,7,6,1,9,2,9,4,6,3,8,2,2,6,6,7,9,3,12,13,1,1,4,1,1,2,3,2,6,14,3,3,1,14,7,2,5,12,1,1,5,2,1,7,10,9,2,1,5,3,2,11,3,1,3,9,2,3,1,2,8,7,10,5,3,9,1,2,7,2,2,1,4,8,5,7,2,2,12,5,5,1,2,3,3,7,1,3,12,4,2,2,8,1,2,1,2,15,1,2,1,6,7,3,1,7,3,2,2,10,2,9,2,2,6,7,4,6,7,4,6,9,4,3,1,2,2,3,14,1,11,1,12,16,3,10,2,3,9,2,3,1,4,1,12,12,1,1,1,3,2,16,16,2,8,1,1,1,11,7,2,10,4,15,5,8,14,13,3,14,1,12,3,1,4,12,15,6,15,2,13,6,15,2,15,5,7,2,6,3,3,15,9,3,2,2,1,12,5,1,11,15,3,2,3,3,2,3,2,6,11,2,7,3,1,16,1,1,3,12,4,2,6,9,4,3,4,1,12,2,2,9,3,9,7,13,1,3,5,15,13,11,6,3,1,8,2,14,3,11,1,7,2,2,1,6,16,15,4,12,11,8,7,2,9,2,9,1,2,9,14,2,3,16,5,13,2,3,8,2,3,5,11,11,9,1,1,11,2,14,10,14,2,1,3,7,3,6,2,2,2,2,13,1,2,3,2,7,2,3,1,2,5,15,2,4,2,2,6,2,13,3,3,2,3,2,14,4,2,2,3,8,10,15,14,4,6,8,6,3,2,6,11,11,1,2,5,1,7,6,2,7,6,11,3,6,9,1,2,3,8,1,7,4,1,5,7,2,2,5,4,2,9,2,2,3,2,9,14,9,3,1,2,6,1,2,7,4,8,2,2,11,3,3,6,2,4,2,6,5,12,2,2,4,2,2,2,4,5,8,10,5,1,1,14,2,6,3,10,1,1,2,3,1,2,6,2,2,4,1,2,10,2,12,2,11,12,4,12,2,2,4,5,2,13,2,7,14,2,3,7,2,3,3,7,2,1,2,9,10,2,2,2,2,1,5]},{\"axis\":{\"matches\":true},\"label\":\"review_scores_rating\",\"values\":[4.330400782013685,4.951124144672532,4.643206256109482,4.672531769305963,4.745845552297165,4.8918572825024444,4.995112414467253,4.594330400782014,4.164721407624634,4.516295210166178,4.012248289345064,3.37236559139785,4.789833822091887,4.774105571847508,4.146862170087976,4.012707722385142,4.838709677419355,4.975562072336266,4.516129032258064,4.897360703812317,4.941348973607038,4.3939393939393945,4.447702834799609,4.78494623655914,4.652981427174976,4.750733137829912,3.992922776148583,3.6780938416422293,4.848484848484849,5.0,4.433040078201369,4.094330400782014,4.535679374389052,4.281524926686217,4.984046920821115,3.9442815249266863,4.340175953079179,4.115347018572825,4.110459433040078,3.4799608993157385,4.110459433040078,4.3841642228739,2.8417497556207234,4.736070381231672,4.227761485826002,4.936461388074291,4.164222873900293,4.599217986314761,4.740957966764419,4.405395894428152,3.2157869012707723,4.863147605083089,3.652707722385142,4.843597262952102,3.7129227761485826,4.988768328445748,4.643206256109482,4.433040078201369,4.804496578690127,4.8240469208211145,4.740957966764419,4.550342130987293,4.149560117302053,4.916911045943304,4.413489736070382,4.965786901270772,4.379276637341153,4.926686217008798,4.633431085043989,3.558162267839687,4.897360703812317,4.745845552297165,3.895405669599218,4.533655913978495,4.897360703812317,4.193998044965786,4.672531769305963,3.660801564027371,3.184848484848485,4.995112414467253,4.819159335288368,4.545454545454545,4.652981427174976,3.2609090909090908,3.2942326490713585,4.633431085043989,4.3157380254154445,4.697585532746823,4.4162952101661785,2.7630498533724346,3.113391984359726,3.220410557184751,3.562199413489736,4.848484848484849,2.455024437927664,4.975562072336266,4.726295210166178,4.2323655913978495,3.3870967741935485,2.796021505376344,4.69208211143695,3.3626588465298144,3.3333333333333335,4.06158357771261,4.936461388074291,4.848484848484849,4.980449657869013,4.848484848484849,3.9687194525904204,4.628543499511242,4.951124144672532,4.740957966764419,4.604105571847508,4.740957966764419,3.0742913000977516,4.521016617790812,2.9423264907135875,4.775171065493646,5.0,4.18377321603128,4.9315738025415445,4.956011730205279,3.520674486803519,4.385063538611925,4.257086999022483,4.975562072336266,4.750733137829912,4.868035190615836,2.932551319648094,4.042033235581623,3.5115738025415446,3.816979472140763,3.787878787878788,3.6981524926686213,4.995112414467253,4.951124144672532,4.056695992179863,4.843597262952102,4.1006842619745845,4.46236559139785,4.833822091886608,4.833822091886608,4.809384164222874,4.89247311827957,4.858260019550342,4.814271749755621,4.7006744868035195,4.5014662756598245,4.975562072336266,4.789833822091887,4.804496578690127,4.89247311827957,4.540566959921799,4.6089931573802545,3.102766373411535,4.67741935483871,4.50635386119257,4.134897360703812,3.5670283479960894,4.912023460410557,4.646461388074291,4.838709677419355,4.8760703812316715,4.408602150537634,4.902248289345064,3.919843597262952,4.863147605083089,4.6627565982404695,4.980449657869013,4.687194525904204,4.736070381231672,3.704789833822092,4.672531769305963,4.39882697947214,4.633431085043989,4.481915933528837,4.281524926686217,5.0,4.792531769305963,4.213098729227761,3.927145650048876,4.79960899315738,4.296187683284457,4.89247311827957,4.9853372434017595,4.833822091886608,4.02247311827957,4.2619745845552295,4.780058651026393,4.912023460410557,2.410078201368524,4.726295210166178,4.853372434017595,3.983382209188661,4.89247311827957,4.516129032258064,3.0034897360703816,4.789833822091887,4.843597262952102,5.0,4.853372434017595,4.253597262952102,4.921798631476051,4.217986314760508,4.604105571847508,3.6119257086999026,3.9589442815249267,4.4770283479960895,4.995112414467253,5.0,4.882697947214076,4.819159335288368,4.579667644183774,4.858260019550342,4.881573802541545,4.594330400782014,3.48663734115347,4.310850439882698,4.711573802541545,3.7732160312805476,3.585229716520039,4.2082111436950145,3.8407429130009776,4.5014662756598245,4.623655913978495,4.3515738025415445,4.926686217008798,4.990224828934506,4.865171065493646,4.750733137829912,4.2219745845552294,4.047869012707722,3.373147605083089,4.921798631476051,4.56989247311828,4.173998044965787,4.995112414467253,4.257086999022483,2.155425219941349,4.755620723362659,3.9100684261974585,4.838709677419355,4.628543499511242,4.7165200391006845,4.926686217008798,4.227761485826002,2.9912023460410557,4.210733137829912,4.164222873900293,4.565004887585533,4.457478005865102,4.428152492668621,0.17106549364613866,4.530791788856305,4.980449657869013,4.750733137829912,3.396871945259042,4.348211143695014,4.755620723362659,4.858260019550342,3.5532746823069408,3.9918084066471162,4.478709677419355,2.9870967741935486,4.736070381231672,4.9071358748778104,4.736070381231672,4.579667644183774,3.2120821114369504,4.682306940371457,4.755620723362659,4.7398435972629525,3.4164222873900294,4.39882697947214,3.519061583577713,4.152922776148583,4.667644183773216,4.701857282502444,4.6627565982404695,4.897360703812317,4.032258064516129,4.481915933528837,4.9853372434017595,3.1818181818181817,4.89247311827957,3.841642228739003,4.638318670576735,4.897360703812317,4.7129814271749755,3.714565004887586,3.9980449657869013,3.4750733137829912,4.89247311827957,4.990117302052786,4.45781036168133,2.929843597262952,4.706744868035191,4.69208211143695,4.838709677419355,3.515620723362659,3.8563049853372435,4.9315738025415445,4.916911045943304,4.652981427174976,3.7964711632453567,4.090909090909091,3.3706842619745845,4.323147605083089,3.1036168132942326,4.657869012707723,4.604105571847508,3.4900684261974586,4.335288367546432,3.875855327468231,4.731182795698925,4.67741935483871,4.257086999022483,4.946236559139785,4.838709677419355,4.897360703812317,3.587487781036168,4.916911045943304,4.086021505376344,3.734115347018573,4.921798631476051,4.6627565982404695,4.144672531769306,4.701857282502444,4.320625610948191,2.712590420332356,5.0,4.330400782013685,4.956011730205279,4.305962854349951,4.970674486803519,4.9853372434017595,3.5826001955034217,4.853372434017595,3.2942326490713585,4.936461388074291,4.887585532746823,4.511241446725318,4.882697947214076,4.980449657869013,3.7878103616813297,3.963206256109482,4.471124144672531,4.594330400782014,4.7165200391006845,4.89247311827957,4.683147605083089,4.242424242424242,4.012707722385142,4.9071358748778104,4.305962854349951,3.2111436950146626,4.527595307917888,4.7165200391006845,4.79960899315738,4.736070381231672,4.912023460410557,4.941348973607038,3.866080156402737,4.516129032258064,4.316744868035191,4.701857282502444,2.690909090909091,4.872922776148583,4.030400782013685,4.951124144672532,4.643206256109482,4.89247311827957,4.433040078201369,4.843597262952102,3.2601759530791785,4.809384164222874,4.9608993157380255,4.16911045943304,3.419951124144672,3.7286119257087,4.838934506353861,4.354838709677419,3.313782991202346,4.990224828934506,5.0,4.206080156402737,3.6119257086999026,4.535679374389052,3.926236559139785,4.139784946236559,3.811407624633431,2.2873900293255134,5.0,4.711632453567938,4.59494623655914,4.550508308895406,4.467253176930596,4.67741935483871,4.882697947214076,4.46236559139785,4.125122189638319,4.941348973607038,4.345063538611925,2.9423264907135875,4.56989247311828,4.8778103616813295,4.995112414467253,4.173998044965787,4.687194525904204,4.310850439882698,4.897360703812317,3.8514173998044967,4.809384164222874,4.89635386119257,4.648093841642229,4.745845552297165,4.0541642228739,4.27663734115347,4.535679374389052,4.868035190615836,4.843597262952102,3.763440860215054,4.804496578690127,3.8514173998044967,4.975562072336266,4.9853372434017595,4.06158357771261,4.633431085043989,4.042033235581623,3.480566959921799,4.897360703812317,4.975562072336266,4.946236559139785,4.794721407624634,4.726295210166178,4.956011730205279,4.3695014662756595,4.9853372434017595,4.408602150537634,4.325395894428152,4.27663734115347,4.79960899315738,2.820508308895406,4.863147605083089,4.0929227761485825,3.4652981427174976,2.79603128054741,4.711632453567938,4.760508308895406,5.0,3.668093841642229,4.67741935483871,4.604105571847508,4.349951124144672,4.364613880742913,3.5923753665689153,4.58455522971652,4.916911045943304,4.667644183773216,4.993597262952102,4.281524926686217,4.560117302052786,4.667644183773216,4.789833822091887,4.511241446725318,4.706744868035191,4.210674486803519,4.755620723362659,4.286412512218964,4.3695014662756595,5.0,4.9608993157380255,4.115229716520038,4.726295210166178,4.18377321603128,4.78494623655914,4.560117302052786,4.3780938416422295,4.7165200391006845,4.534271749755621,4.470400782013685,3.287321603128055,4.081133919843597,4.166011730205279,4.902248289345064,4.814271749755621,4.941348973607038,4.081133919843597,3.961857282502444,4.921798631476051,3.9691593352883676,4.643206256109482,2.8592375366568916,4.653489736070382,4.486803519061583,4.550342130987293,4.281524926686217,4.290566959921799,4.423264907135875,3.5863538611925705,4.975562072336266,4.695112414467253,3.5923753665689153,4.814271749755621,3.1139491691104593,4.814271749755621,4.863147605083089,3.2731085043988273,4.540566959921799,4.936461388074291,4.217986314760508,4.682306940371457,4.921798631476051,3.6950146627565985,4.213098729227761,4.9315738025415445,4.345063538611925,4.946236559139785,3.866080156402737,4.521016617790812,4.765395894428153,4.951124144672532,3.4843304007820137,4.780058651026393,4.442815249266863,4.731182795698925,4.667644183773216,4.916911045943304,4.6627565982404695,4.69208211143695,4.887585532746823,4.79960899315738,4.814271749755621,4.79960899315738,4.643206256109482,4.4770283479960895,5.0,4.740957966764419,4.770733137829912,4.711632453567938,4.980449657869013,3.587487781036168,3.9931573802541545,3.9442815249266863,3.9750635386119253,4.635112414467253,4.648093841642229,4.403714565004888,4.868035190615836,4.325513196480938,4.780058651026393,4.804496578690127,4.256686217008798,4.848484848484849,4.545454545454545,4.530791788856305,4.5014662756598245,4.701857282502444,4.589442815249267,4.726295210166178,4.990224828934506,5.0,4.833822091886608,4.242424242424242,3.1089931573802545,4.843597262952102,4.696969696969697,4.809384164222874,4.531241446725318,3.8025415444770285,4.706744868035191,2.8641251221896384,4.819159335288368,4.623655913978495,4.486803519061583,4.051808406647116,4.457478005865102,3.6412512218963835,4.863147605083089,4.897360703812317,4.946236559139785,4.173040078201369,4.7165200391006845,4.731182795698925,4.50635386119257,4.622922776148583,4.486803519061583,3.4408602150537635,4.990224828934506,3.6950146627565985,4.43989247311828,0.9964320625610952,4.545454545454545,4.912023460410557,4.79960899315738,4.736070381231672,4.687194525904204,4.956011730205279,4.213098729227761,4.89247311827957,4.804496578690127,4.789833822091887,4.325513196480938,4.760508308895406,4.828934506353861,4.560117302052786,4.8778103616813295,4.951124144672532,3.900293255131965,4.711632453567938,3.9931573802541545,4.882697947214076,4.687194525904204,3.7430987292277615,4.926686217008798,4.881857282502444,4.2082111436950145,4.579667644183774,3.5141739980449658,4.1953372434017595,4.481915933528837,3.4115347018572826,4.3939393939393945,4.9608993157380255,3.6705767350928644,2.3545650048875855,4.213098729227761,4.418377321603128,4.465337243401759,4.437927663734115,4.78494623655914,4.8778103616813295,4.9315738025415445,4.266862170087976,4.740957966764419,4.6627565982404695,3.9345063538611926,4.002932551319648,4.863147605083089,4.990224828934506,3.4874780058651025,3.780234604105572,4.828934506353861,4.970674486803519,4.565004887585533,4.995112414467253,4.667644183773216,0.9022776148582603,3.7847800586510267,4.750733137829912,4.736070381231672,4.574780058651027,4.965786901270772,4.594330400782014,4.144672531769306,4.9315738025415445,4.946236559139785,4.916911045943304,4.486803519061583,4.912023460410557,4.706744868035191,3.2371945259042034,2.884007820136852,4.794721407624634,4.237536656891495,2.873900293255132,4.980449657869013,4.6841642228739,4.819159335288368,4.79960899315738,4.775171065493646,4.79960899315738,3.8509579667644185,4.349951124144672,4.663206256109482,2.790811339198436,4.9853372434017595,3.8905180840664713,4.565004887585533,4.789833822091887,4.403714565004888,4.843597262952102,4.804496578690127,3.8905180840664713,3.9589442815249267,4.951124144672532,4.8778103616813295,4.103040078201369,4.6089931573802545,3.8875366568914953,4.828934506353861,4.902248289345064,4.838709677419355,4.604105571847508,4.364613880742913,4.89247311827957,4.599217986314761,3.088954056695992,4.165904203323557,4.9853372434017595,4.8240469208211145,4.67741935483871,4.78494623655914,4.389051808406647,4.657869012707723,4.8240469208211145,4.3157380254154445,4.330400782013685,4.4770283479960895,3.1036168132942326,4.359726295210166,4.6089931573802545,4.687194525904204,5.0,4.496578690127077,3.9345063538611926,4.213098729227761,4.970674486803519,5.0,4.853372434017595,4.599217986314761,3.9983186705767353,3.2627565982404696,3.3745063538611926,4.217986314760508,4.6627565982404695,3.8611925708699903,4.750733137829912,3.372434017595308,4.3841642228739,4.252258064516129,3.7194525904203326,4.257086999022483,4.79960899315738,4.789833822091887,2.771260997067449,4.833822091886608,4.511241446725318,4.202023460410557,4.902248289345064,3.822091886608016,5.0,4.696969696969697,4.9608993157380255,4.711632453567938,4.789833822091887,4.941348973607038,4.731182795698925,4.16911045943304,4.9853372434017595,2.991368523949169,4.897360703812317,4.980449657869013,4.081133919843597,4.213098729227761,4.667644183773216,4.472140762463344,4.980449657869013,4.872922776148583,4.848484848484849,4.198435972629521,4.9608993157380255,4.765395894428153,4.9853372434017595,4.872922776148583,4.912023460410557,4.843597262952102,4.965786901270772,4.951124144672532,3.863655913978495,4.814271749755621,4.550342130987293,3.875513196480938,2.7321603128054743,4.491691104594331,4.623655913978495,5.0,4.525904203323558,4.457478005865102,4.198435972629521,4.872922776148583,4.7702834799608995,4.809384164222874,4.765395894428153,4.360449657869013,3.812316715542522,2.5855327468230693,4.882697947214076,4.648093841642229,4.740957966764419,4.672531769305963,4.592756598240469,4.858260019550342,4.775171065493646,3.7781036168132944,4.545454545454545,4.540566959921799,4.594330400782014,4.755112414467253,4.887585532746823,4.858260019550342,4.252199413489736,2.940967741935484,4.921798631476051,4.775171065493646,4.965786901270772,4.5014662756598245,4.970674486803519,4.731182795698925,3.8563049853372435,4.804496578690127,3.004330400782014,4.951124144672532,4.226412512218964,4.625786901270772,4.012707722385142,3.836911045943304,2.957321603128055,3.052258064516129,4.565004887585533,2.7156891495601174,4.657869012707723,4.956011730205279,4.740957966764419,3.763440860215054,4.828934506353861,4.281524926686217,4.325513196480938,4.0175953079178885,3.944271749755621,4.980449657869013,3.2795698924731185,4.89247311827957,3.5483870967741935,4.9315738025415445,4.962922776148583,4.5800097751710656,3.318670576735093,4.045454545454545,2.843890518084067,4.17533724340176,4.965786901270772,2.8934506353861194,3.401759530791789,4.740957966764419,5.0,4.78494623655914,4.550342130987293,4.912023460410557,3.4784848484848485,4.975562072336266,4.9315738025415445,4.365679374389052,4.613880742913001,3.9149560117302054,3.713440860215054,4.271749755620723,4.115347018572825,4.970674486803519,4.149560117302053,4.912023460410557,4.946236559139785,4.222873900293255,4.457478005865102,3.983382209188661,4.941348973607038,4.9608993157380255,4.173998044965787,3.6246138807429125,4.726295210166178,4.843597262952102,4.530791788856305,4.2619745845552295,4.9315738025415445,4.936461388074291,4.721407624633431,4.745845552297165,4.926686217008798,3.9980449657869013,4.467253176930596,4.912023460410557,4.701857282502444,3.768328445747801,4.657869012707723,4.848484848484849,4.5755620723362656,4.828934506353861,4.887585532746823,4.643206256109482,4.701857282502444,4.819159335288368,4.780058651026393,4.389051808406647,2.1616422287390034,4.6729227761485825,4.853372434017595,4.237536656891495,4.814271749755621,4.2082111436950145,4.956011730205279,4.794721407624634,4.814271749755621,4.687194525904204,3.978494623655914,4.9071358748778104,4.67741935483871,4.516129032258064,4.541124144672532,4.139784946236559,4.242424242424242,4.970674486803519,4.809384164222874,4.579667644183774,4.995112414467253,4.110459433040078,4.413489736070382,4.936461388074291,4.354838709677419,4.252199413489736,4.745845552297165,4.7702834799608995,4.286412512218964,2.4538318670576738,4.990224828934506,2.721417399804497,4.178885630498534,4.760508308895406,4.4770283479960895,4.8778103616813295,4.9315738025415445,4.75635386119257,3.8905180840664713,4.687194525904204,4.814271749755621,4.037145650048876,4.349951124144672,4.604105571847508,4.8778103616813295,4.736070381231672,4.9608993157380255,4.472140762463344,5.0,4.736070381231672,4.115337243401759,3.263216031280548,4.863147605083089,4.804496578690127,4.49,4.374389051808406,4.618768328445748,3.7781036168132944,4.848484848484849,4.472140762463344,4.872922776148583,3.716236559139785,4.178885630498534,4.58455522971652,4.579667644183774,4.2078690127077225,4.975562072336266,4.868035190615836,4.868035190615836,4.271749755620723,4.9608993157380255,3.061133919843597,5.0,4.946236559139785,5.0,4.990224828934506,4.574780058651027,4.897360703812317,5.0,4.374389051808406,4.535679374389052,4.643206256109482,4.418377321603128,4.413489736070382,4.045337243401759,3.809335288367546,4.936461388074291,5.0,4.731182795698925,4.843597262952102,4.853372434017595,4.721407624633431,4.498484848484849,4.657869012707723,4.217986314760508,3.7976539589442817,4.804496578690127,4.07624633431085,4.740957966764419,4.643206256109482,3.915855327468231,4.379276637341153,4.74713587487781,4.266862170087976,4.67741935483871,5.0,4.9071358748778104,4.941348973607038,3.596236559139785,4.16911045943304,4.833822091886608,4.550342130987293,4.696969696969697,3.2357380254154444,4.516129032258064,3.4164222873900294,4.7306256109481915,3.104565004887586,4.916911045943304,4.912023460410557,4.374389051808406,4.641407624633431,4.6627565982404695,4.995112414467253,4.980449657869013,4.916911045943304,4.618768328445748,3.0840664711632453,4.853372434017595,3.956236559139785,3.6363636363636367,4.633431085043989,4.491691104594331,3.6389931573802548,3.470185728250245,4.701857282502444,4.652981427174976,4.858260019550342,4.863147605083089,4.345063538611925,4.496578690127077,3.4144965786901276,3.092531769305963,4.5014662756598245,3.8269794721407626,4.561632453567937,4.926686217008798,4.3207331378299125,4.6750048875855335,4.912023460410557,4.403714565004888,4.604105571847508,4.579667644183774,4.2685434995112415,4.79960899315738,4.926686217008798,3.123040078201369,4.2082111436950145,4.846744868035191,4.359726295210166,2.7160801564027373,2.8621603128054742,4.042033235581623,4.990224828934506,4.511241446725318,2.321603128054741,3.87247311827957,4.9608993157380255,3.674780058651027,4.848484848484849,3.63147605083089,4.89247311827957,4.956011730205279,4.882697947214076,4.858260019550342,4.838709677419355,4.423264907135875,4.916911045943304,4.897360703812317,4.237536656891495,4.912023460410557,4.843597262952102,4.1179863147605085,4.995112414467253,3.6740078201368522,4.159335288367546,3.8514173998044967,2.961876832844575,4.995112414467253,3.8563049853372435,4.828934506353861,4.5014662756598245,4.643206256109482,4.9853372434017595,4.814271749755621,4.853372434017595,5.0,4.755620723362659,4.633431085043989,4.765395894428153,3.9802248289345066,4.096129032258064,4.550342130987293,4.843597262952102,3.3528836754643208,4.951124144672532,3.753607038123167,4.227761485826002,3.6707917888563055,4.7702834799608995,4.467253176930596,3.64405669599218,4.137761485826002,4.887585532746823,3.1231671554252203,4.687194525904204,4.46236559139785,2.4193548387096775,4.0713587487781036,3.113206256109482,4.941348973607038,4.60247311827957,4.5014662756598245,4.794721407624634,4.853822091886608,3.978494623655914,4.011407624633431,4.090909090909091,3.3626588465298144,3.8367546432062563,4.765395894428153,4.887585532746823,4.926686217008798,4.545454545454545,4.361573802541544,4.819159335288368,4.618768328445748,1.9941348973607038,4.941348973607038,3.895405669599218,4.286412512218964,3.4598924731182796,4.726295210166178,4.374389051808406,4.095796676441838,4.838709677419355,4.9853372434017595,2.01603128054741,3.704789833822092,4.491691104594331,4.736070381231672,4.193548387096774,4.618768328445748,4.65247311827957,4.946236559139785,3.4747800586510267,4.9315738025415445,4.418377321603128,4.428152492668621,4.701857282502444,3.9589442815249267,4.912023460410557,4.086021505376344,5.0,4.641182795698925,4.755620723362659,4.540566959921799,4.941348973607038,4.8240469208211145,3.4693939393939397,4.0175953079178885,4.638318670576735,4.217986314760508,4.511241446725318,4.667644183773216,4.623655913978495,4.882697947214076,4.828934506353861,3.0157966764418376,4.853372434017595,5.0,3.345454545454545,4.731182795698925,3.7292277614858262,4.701857282502444,4.843597262952102,4.882697947214076,4.486911045943304,4.721407624633431,4.467253176930596,4.872922776148583,4.255620723362659,4.638318670576735,4.687194525904204,4.055786901270772,4.64741935483871,4.740957966764419,3.504398826979472,4.3939393939393945,4.828934506353861,3.3333333333333335,4.995112414467253,4.760508308895406,4.838709677419355,4.628543499511242,3.73900293255132,4.07624633431085,3.0100097751710653,4.589442815249267,4.882697947214076,4.3695014662756595,4.5014662756598245,4.853372434017595,4.809384164222874,4.379276637341153,4.858260019550342,4.472140762463344,4.628543499511242,4.8240469208211145,4.916911045943304,4.379726295210165,4.1594428152492675,4.990224828934506,4.9853372434017595,4.082922776148583,4.809384164222874,4.701857282502444,4.271749755620723,4.472140762463344,4.809384164222874,4.535679374389052,4.9608993157380255,4.760508308895406,4.701857282502444,4.868035190615836,3.514271749755621,3.3919843597262953,4.89247311827957,4.848484848484849,4.69208211143695,3.651026392961877,4.574780058651027,4.633431085043989,4.868035190615836,4.18377321603128,3.8367546432062563,4.58455522971652,3.9246823069403716,4.3695014662756595,4.380899315738025,2.3362658846529816,4.6089931573802545,4.711632453567938,3.148494623655914,4.565004887585533,4.07624633431085,4.020957966764419,4.79960899315738,4.868035190615836,4.950283479960899,4.706744868035191,4.599217986314761,2.8621603128054742,4.496578690127077,5.0,3.973607038123167,4.633431085043989,4.672531769305963,3.9882697947214076,4.081133919843597,4.980449657869013,4.452590420332356,3.8514173998044967,3.367546432062561,4.902248289345064,4.525904203323558,4.579667644183774,4.746862170087976,4.863147605083089,4.78494623655914,3.95405669599218,4.809384164222874,4.946236559139785,4.3695014662756595,4.428152492668621,4.89247311827957,4.638318670576735,4.496578690127077,4.374389051808406,3.4946236559139785,3.108660801564027,3.655913978494624,4.320625610948191,4.574780058651027,3.511182795698925,4.156236559139785,4.18960899315738,3.63147605083089,4.516129032258064,3.6461388074291303,4.750733137829912,4.457478005865102,4.740957966764419,4.613880742913001,3.95405669599218,4.550342130987293,4.43236559139785,4.364613880742913,5.0,4.472140762463344,4.740957966764419,3.289345063538612,4.535679374389052,4.687194525904204,4.936461388074291,4.696969696969697,4.696969696969697,4.408602150537634,2.873900293255132,4.804496578690127,4.809384164222874,4.095796676441838,3.6875953079178885,5.0,4.58455522971652,4.325513196480938,4.511241446725318,4.178885630498534,4.18377321603128,4.696969696969697,4.521016617790812,4.926686217008798,4.628543499511242,4.78494623655914,4.467253176930596,4.975562072336266,4.657869012707723,4.198435972629521,4.56989247311828,3.9589442815249267,4.633431085043989,4.721407624633431,2.8207917888563054,4.936461388074291,4.583822091886608,4.9315738025415445,3.873597262952102,4.032258064516129,4.450224828934506,4.227761485826002,4.750733137829912,4.946236559139785,4.872922776148583,4.643206256109482,4.89247311827957,3.817204301075269,4.18377321603128,4.701857282502444,3.238602150537634,3.656295210166178,4.775171065493646,3.9369208211143696,4.740957966764419,2.878787878787879,4.540566959921799,4.965786901270772,4.853372434017595,4.8240469208211145,2.975679374389052,4.687194525904204,4.711632453567938,4.921798631476051,4.408602150537634,5.0,4.814271749755621,4.3396089931573805,4.946236559139785,3.919843597262952,5.0,4.902248289345064,4.980449657869013,4.696969696969697,4.745845552297165,4.980449657869013,4.819159335288368,4.975562072336266,3.806647116324536,4.863147605083089,4.711632453567938,4.814271749755621,4.687194525904204,4.540566959921799,4.721407624633431,4.7702834799608995,4.941348973607038,4.902248289345064,4.951124144672532,4.078934506353861,3.3046138807429126,2.916471163245357,4.447702834799609,4.643206256109482,4.540733137829912,4.794721407624634,3.0009775171065494,4.130009775171065,4.941348973607038,4.433040078201369,4.128484848484849,4.589442815249267,4.858260019550342,5.0,4.9853372434017595,4.731182795698925,4.951124144672532,4.69208211143695,4.706744868035191,3.7359042033235577,4.6627565982404695,4.79960899315738,4.809384164222874,4.359726295210166,4.965786901270772,4.975562072336266,3.9442815249266863,4.594330400782014,4.956011730205279,3.162267839687195,4.897360703812317,4.936461388074291,4.956011730205279,4.902248289345064,5.0,3.9638318670576735,4.173998044965787,4.599217986314761,4.436129032258064,0.764809384164223,4.9071358748778104,4.672531769305963,4.511241446725318,4.980449657869013,4.872922776148583,3.9051808406647117,4.340175953079179,4.633431085043989,3.983382209188661,4.105571847507331,4.3135972629521016,4.599217986314761,4.780058651026393,4.828934506353861,4.828934506353861,4.858260019550342,4.579667644183774,4.951124144672532,4.072258064516129,4.916911045943304,2.670342130987293,4.413489736070382,4.970674486803519,4.535679374389052,4.780058651026393,4.916911045943304,3.0207429130009777,3.1420821114369506,4.481915933528837,4.701857282502444,4.311798631476051,4.687194525904204,4.775171065493646,3.6500586510263933,3.8269794721407626,4.3841642228739,4.926686217008798,4.228709677419355,4.257086999022483,4.364613880742913,4.070674486803519,4.594330400782014,3.43108504398827,4.296187683284457,4.789833822091887,4.936461388074291,4.8240469208211145,4.706744868035191,2.3362658846529816,4.16911045943304,4.325513196480938,4.3841642228739,4.618768328445748,3.75236559139785,4.29130009775171,4.459217986314761,3.8807429130009776,4.413489736070382,4.115347018572825,4.687194525904204,4.440342130987292,4.530791788856305,4.706744868035191,3.660801564027371,4.0175953079178885,4.872922776148583,4.628543499511242,4.437927663734115,4.926686217008798,3.4359726295210167,3.9687194525904204,3.4896676441837737,4.565004887585533,4.814271749755621,4.139784946236559,4.403714565004888,4.809384164222874,4.281524926686217,4.794721407624634,4.926686217008798,3.606295210166178,4.912023460410557,4.310850439882698,4.604105571847508,4.579667644183774,4.1851710654936465,3.3333333333333335,4.8240469208211145,4.868035190615836,3.8905180840664713,4.731182795698925,4.8240469208211145,4.257086999022483,4.916911045943304,4.765395894428153,4.379276637341153,4.560117302052786,4.706744868035191,4.980449657869013,4.540566959921799,3.7970283479960893,4.804496578690127,2.9714760508308897,4.300449657869013,4.912023460410557,4.7165200391006845,4.27663734115347,4.530791788856305,4.736070381231672,4.18377321603128,4.491691104594331,4.413489736070382,4.936461388074291,4.9608993157380255,4.980449657869013,4.581348973607038,4.745845552297165,4.848484848484849,3.4946236559139785,4.875112414467253,4.868035190615836,3.8856304985337244,4.853372434017595,2.9388269794721404,4.672531769305963,4.521016617790812,4.736070381231672,3.2392179863147605,4.868035190615836,4.775171065493646,4.750733137829912,4.745845552297165,4.472531769305963,4.89247311827957,4.195786901270772,4.775171065493646,5.0,3.567937438905181,4.838709677419355,3.824838709677419,5.0,5.0,4.926686217008798,4.579667644183774,4.296803519061583,3.924731182795699,4.560117302052786,4.705845552297165,2.5819745845552298,4.946236559139785,4.418377321603128,4.745845552297165,3.48275659824047,4.308709677419355,4.682306940371457,4.613880742913001,4.50635386119257,3.6412512218963835,4.486803519061583,4.9071358748778104,4.740957966764419,3.4995112414467258,4.887585532746823,4.310850439882698,4.305786901270772,4.8778103616813295,4.657869012707723,4.3939393939393945,4.78494623655914,4.203323558162268,4.213098729227761,3.9638318670576735,4.188269794721408,4.936461388074291,4.794721407624634,4.594330400782014,4.872922776148583,4.7702834799608995,2.846695992179863,4.8778103616813295,4.706744868035191,4.990224828934506,4.848484848484849,4.814271749755621,5.0,4.9853372434017595,4.560117302052786,4.579667644183774,4.990224828934506,3.752140762463344,4.618768328445748,4.809384164222874,4.775171065493646,4.672531769305963,4.946236559139785,3.9882697947214076,5.0,4.975562072336266,4.741857282502444,5.0,3.1818181818181817,3.3382209188660803,3.1895601173020527,4.780224828934506,4.902248289345064,4.589442815249267,4.951124144672532,4.729384164222874,4.804496578690127,4.535679374389052,4.970674486803519,3.822091886608016,4.951124144672532,3.543499511241447,4.613880742913001,4.789833822091887,4.589442815249267,4.916911045943304,4.8778103616813295,4.882697947214076,3.220918866080156,4.467253176930596,4.39882697947214,4.3841642228739,4.736070381231672,4.149560117302053,4.07624633431085,4.125122189638319,3.6491691104594333,4.657869012707723,4.965786901270772,4.936461388074291,4.951124144672532,4.765395894428153,4.941348973607038,1.4662756598240465,4.853372434017595,4.998035190615836,5.0,4.540566959921799,4.540566959921799,3.771524926686217,4.2771945259042035,4.67741935483871,3.5141739980449658,4.980449657869013,4.132140762463344,4.301075268817204,4.951124144672532,4.858260019550342,4.544046920821114,3.707038123167156,4.496578690127077,4.736070381231672,4.980449657869013,4.490224828934506,4.687194525904204,3.5338905180840667,4.936461388074291,4.828934506353861,4.086021505376344,4.132140762463344,4.4608993157380255,4.67741935483871,4.331798631476051,2.7223851417399807,3.841642228739003,3.9589442815249267,4.39882697947214,4.7165200391006845,4.433040078201369,4.921798631476051,4.995112414467253,4.7022482893450634,3.587487781036168,3.168494623655914,4.975562072336266,4.858260019550342,4.916911045943304,4.9853372434017595,4.320625610948191,4.2619745845552295,4.296187683284457,4.0469208211143695,4.721407624633431,3.8318670576735094,4.858260019550342,3.8402834799608994,4.965786901270772,4.956011730205279,4.868035190615836,4.8240469208211145,4.696969696969697,4.951124144672532,3.9688856304985336,4.511241446725318,4.0469208211143695,4.376744868035191,4.8778103616813295,3.616129032258064,4.516129032258064,4.203323558162268,4.745845552297165,4.257086999022483,4.941348973607038,3.9814662756598245,4.535679374389052,4.814271749755621,4.706744868035191,4.750733137829912,4.599217986314761,4.9315738025415445,3.6160215053763443,3.9882697947214076,4.3841642228739,4.731182795698925,4.657869012707723,2.976911045943304,4.868035190615836,5.0,4.941348973607038,4.794721407624634,4.335288367546432,4.882697947214076,4.213098729227761,4.912023460410557,4.7873607038123165,3.5777126099706744,5.0,4.525904203323558,4.374389051808406,4.745845552297165,4.897360703812317,4.726295210166178,4.286412512218964,4.882697947214076,4.776295210166178,4.897360703812317,4.3157380254154445,4.16911045943304,4.872922776148583,4.012707722385142,4.848484848484849,4.144672531769306,4.213098729227761,4.622248289345063,2.8333333333333335,4.921798631476051,4.652981427174976,4.516129032258064,4.496578690127077,3.120967741935484,4.9315738025415445,4.58455522971652,3.2283186705767353,3.734115347018573,4.095796676441838,4.941348973607038,4.652981427174976,4.447702834799609,4.032258064516129,4.765395894428153,4.843597262952102,4.222873900293255,4.814271749755621,4.349951124144672,3.7292277614858262,5.0,3.8856304985337244,3.9059042033235576,4.765395894428153,4.9853372434017595,4.589442815249267,4.760957966764418,4.706744868035191,4.535679374389052,4.359726295210166,3.6461388074291303,3.5288367546432067,4.3841642228739,4.711632453567938,4.89247311827957,3.8856304985337244,4.956011730205279,4.090909090909091,2.458455522971652,4.472140762463344,4.7165200391006845,4.408602150537634,4.79960899315738,3.8627565982404697,4.951124144672532,4.623655913978495,4.27663734115347,3.787878787878788,4.731182795698925,4.69208211143695,4.887585532746823,4.975562072336266,4.965786901270772,4.525904203323558,4.579667644183774,4.721407624633431,4.472140762463344,4.418377321603128,3.704789833822092,4.9071358748778104,4.46236559139785,4.50635386119257,4.237536656891495,4.618768328445748,3.602150537634409,4.589442815249267,3.620508308895406,3.900293255131965,4.3841642228739,4.638318670576735,4.428152492668621,4.389051808406647,4.736070381231672,4.481915933528837,4.67741935483871,4.7165200391006845,4.7165200391006845,4.368484848484849,3.8856304985337244,4.418377321603128,4.144672531769306,4.89247311827957,2.986862170087976,4.853372434017595,4.858260019550342,4.848484848484849,4.2619745845552295,4.936461388074291,3.862531769305963,4.374389051808406,4.428152492668621,5.0,4.134897360703812,5.0,4.872922776148583,4.051808406647116,4.579667644183774,4.7165200391006845,5.0,3.543499511241447,4.980449657869013,3.406647116324536,4.69208211143695,4.946236559139785,4.408602150537634,4.9853372434017595,4.9608993157380255,4.838709677419355,3.5288367546432067,4.79960899315738,4.771348973607038,4.921798631476051,3.260019550342131,4.066471163245357,4.667644183773216,3.5732649071358753,4.887585532746823,3.1823655913978497,4.638318670576735,3.787878787878788,4.828934506353861,4.9608993157380255,4.78494623655914,4.628543499511242,4.550342130987293,4.794721407624634,3.4359726295210167,3.4164222873900294,4.257086999022483,4.912023460410557,4.819159335288368,4.579667644183774,4.78494623655914,5.0,4.868035190615836,3.5777126099706744,4.848484848484849,4.340175953079179,4.708719452590421,4.579667644183774,3.62989247311828,4.951124144672532,3.3284457478005867,4.990224828934506,4.814271749755621,3.2502443792766376,4.9853372434017595,3.9882697947214076,4.863147605083089,3.7852297165200386,4.745845552297165,4.789833822091887,3.6119257086999026,4.912023460410557,4.110459433040078,4.946236559139785,4.89247311827957,3.68158357771261,4.403714565004888,4.423264907135875,3.9882697947214076,4.965786901270772,3.118279569892473,4.863147605083089,4.418377321603128,4.678768328445748,4.980449657869013,3.1480547409579667,4.652981427174976,4.128934506353861,4.809384164222874,3.698093841642229,4.535679374389052,4.726295210166178,4.872922776148583,5.0,4.604105571847508,4.804496578690127,4.164222873900293,3.6739393939393947,4.638318670576735,3.787878787878788,4.452590420332356,4.211857282502444,4.916911045943304,4.833822091886608,4.804496578690127,4.084330400782014,4.364613880742913,5.0,4.037145650048876,4.687194525904204,4.819159335288368,4.995112414467253,4.79960899315738,4.809384164222874,4.7857869012707726,4.89247311827957,4.755620723362659,4.408602150537634,3.9760117302052786,4.858260019550342,4.090909090909091,4.012707722385142,4.213098729227761,4.696969696969697,4.334721407624634,4.0098924731182795,4.794721407624634,4.755620723362659,4.682306940371457,4.696969696969697,4.252199413489736,2.1936168132942324,4.736070381231672,3.925239491691105,4.540566959921799,4.589442815249267,4.213098729227761,4.882697947214076,4.340175953079179,4.56989247311828,4.936461388074291,4.980449657869013,4.08702834799609,4.652981427174976,4.8778103616813295,3.614330400782014,3.8931476050830893,4.868035190615836,3.4652981427174976,4.433040078201369,4.9853372434017595,4.1544477028347995,4.271749755620723,5.0,2.932551319648094,3.6754643206256112,4.296187683284457,3.470185728250245,4.1006842619745845,4.69208211143695,4.809384164222874,2.620752688172043,4.0469208211143695,4.789833822091887,4.648093841642229,4.794721407624634,4.658093841642229,4.56989247311828,4.9315738025415445,4.970674486803519,4.039442815249267,4.775171065493646,3.6730400782013692,4.565004887585533,4.672531769305963,4.672531769305963,4.379276637341153,4.149560117302053,4.623655913978495,3.9616324535679377,4.872922776148583,4.804496578690127,5.0,4.7165200391006845,3.1241739980449656,4.6732062561094825,4.828934506353861,5.0,4.858260019550342,4.951124144672532,4.484496578690127,3.372434017595308,4.819159335288368,4.075786901270773,3.9931573802541545,3.3445063538611928,4.809384164222874,4.178885630498534,4.868035190615836,4.296187683284457,4.696969696969697,3.010752688172043,4.491691104594331,4.912023460410557,4.560117302052786,4.828934506353861,4.46236559139785,4.975562072336266,4.159335288367546,4.54713587487781,3.3707917888563053,4.589442815249267,4.897360703812317,4.721407624633431,4.58455522971652,4.897360703812317,4.3939393939393945,4.044613880742912,4.916911045943304,3.63147605083089,3.680351906158358,3.470185728250245,4.78494623655914,5.0,4.886236559139785,4.891124144672532,4.643206256109482,4.750733137829912,4.247311827956989,4.7702834799608995,4.530791788856305,0.8162267839687196,4.286412512218964,5.0,4.780058651026393,2.4682306940371457,4.647360703812317,4.951466275659825,4.437927663734115,4.628543499511242,4.848484848484849,4.9071358748778104,4.9608993157380255,4.648093841642229,4.853372434017595,4.726295210166178,4.79960899315738,4.833822091886608,3.5092864125122194,4.902248289345064,4.809384164222874,4.408602150537634,3.9393939393939394,3.8367546432062563,4.8240469208211145,4.041691104594331,4.58455522971652,4.711632453567938,5.0,4.926686217008798,4.965786901270772,4.550342130987293,5.0,4.638318670576735,4.78494623655914,4.648093841642229,4.941348973607038,4.990224828934506,4.990224828934506,5.0,4.721407624633431,3.633822091886608,4.364613880742913,3.949169110459433,4.67741935483871,4.79960899315738,4.359726295210166,3.40989247311828,4.946236559139785,4.325513196480938,4.6627565982404695,4.012707722385142,2.47158357771261,4.071407624633431,4.8778103616813295,3.4937732160312804,4.887585532746823,4.618768328445748,4.721407624633431,4.814271749755621,4.965786901270772,4.222873900293255,4.838709677419355,5.0,4.951124144672532,4.863147605083089,4.222873900293255,4.101182795698925,5.0,3.484848484848485,4.530791788856305,3.6999022482893453,4.0175953079178885,4.16911045943304,3.489736070381232,4.872922776148583,4.389051808406647,4.736070381231672,4.496578690127077,4.345063538611925,4.667644183773216,4.472140762463344,4.701857282502444,4.975562072336266,4.800224828934506,4.271749755620723,4.980449657869013,4.613880742913001,4.8778103616813295,3.757253176930596,4.1544477028347995,4.9608993157380255,4.513714565004888,3.6898338220918867,4.921798631476051,4.222873900293255,4.990224828934506,3.201368523949169,4.530791788856305,4.6627565982404695,4.843597262952102,4.604105571847508,4.848484848484849,4.247311827956989,5.0,4.696969696969697,4.633431085043989,4.238494623655914,4.897360703812317,4.379276637341153,4.3841642228739,4.899217986314761,4.413489736070382,5.0,4.638318670576735,4.618768328445748,3.9882697947214076,5.0,4.78494623655914,4.990224828934506,4.916911045943304,4.633431085043989,4.990224828934506,4.863147605083089,4.92494623655914,4.565004887585533,4.990224828934506,4.995112414467253,4.941348973607038,4.281524926686217,4.188660801564027,4.89247311827957,4.232649071358749,3.823597262952102,4.956011730205279,3.9224242424242424,4.8778103616813295,4.4770283479960895,3.8514173998044967,4.926686217008798,4.79960899315738,3.5923753665689153,4.621857282502444,4.946236559139785,4.329667644183774,4.69781036168133,4.428152492668621,4.165395894428153,4.789833822091887,4.755620723362659,4.066471163245357,4.321573802541544,4.7702834799608995,4.897360703812317,4.838709677419355,4.467253176930596,3.787536656891495,4.951124144672532,4.809384164222874,3.704789833822092,4.125122189638319,4.682306940371457,4.79960899315738,3.3378690127077224,4.721407624633431,3.4995112414467258,4.819159335288368,4.428152492668621,4.882697947214076,3.9589442815249267,3.5047800586510265,4.667644183773216,4.58455522971652,4.79960899315738,4.2619745845552295,4.970674486803519,3.494330400782014,4.452590420332356,4.819159335288368,4.995112414467253,4.750733137829912,4.912023460410557,4.633431085043989,4.789833822091887,4.8240469208211145,4.882697947214076,4.428152492668621,4.213098729227761,4.67741935483871,3.7549462365591397,3.712258064516129,4.936461388074291,3.983147605083089,4.50635386119257,3.396871945259042,2.8942913000977515,4.530791788856305,3.32355816226784,4.745845552297165,4.838709677419355,4.565004887585533,4.305962854349951,4.628543499511242,4.3034310850439885,4.486803519061583,3.985620723362659,4.39882697947214,4.19911045943304,5.0,4.902248289345064,4.828934506353861,2.727272727272727,3.172043010752688,4.990224828934506,4.848484848484849,4.980449657869013,4.970674486803519,4.58455522971652,3.120351906158358,4.25158357771261,4.814271749755621,4.3157380254154445,3.4457478005865103,4.618768328445748,4.79960899315738,4.916911045943304,4.838709677419355,4.8778103616813295,4.926686217008798,4.9071358748778104,4.921798631476051,4.06882697947214,4.281524926686217,5.0,4.3607917888563055,4.760508308895406,4.828934506353861,4.726295210166178,4.657869012707723,4.8778103616813295,4.897360703812317,4.912023460410557,4.413489736070382,4.8240469208211145,4.848484848484849,4.225454545454545,4.389051808406647,5.0,4.701857282502444,5.0,3.63147605083089,4.652981427174976,4.809384164222874,4.990224828934506,4.750733137829912,3.4960117302052787,4.788152492668622,4.760508308895406,4.623655913978495,3.7027077223851417,4.547194525904204,3.5485434995112417,4.3939393939393945,4.219051808406647,4.638318670576735,4.555229716520039,3.781798631476051,4.447702834799609,4.623655913978495,4.843597262952102,4.491691104594331,4.2619745845552295,4.990224828934506,4.39882697947214,4.921798631476051,4.941348973607038,4.8778103616813295,4.970674486803519,4.188660801564027,4.07624633431085,3.7178690127077227,4.819159335288368,4.951124144672532,3.5288367546432067,4.237536656891495,4.550342130987293,4.9608993157380255,4.863147605083089,5.0,4.780058651026393,4.657869012707723,4.506295210166178,4.819159335288368,4.9853372434017595,4.819159335288368,4.652981427174976,4.970674486803519,4.780058651026393,4.599217986314761,4.9071358748778104,3.870967741935484,2.4338905180840666,4.310850439882698,4.9853372434017595,4.780058651026393,4.843597262952102,4.775171065493646,4.535679374389052,3.8351710654936464,4.252199413489736,4.872922776148583,4.934721407624633,4.887585532746823,4.926686217008798,4.555229716520039,4.139784946236559,4.936461388074291,4.975562072336266,4.643206256109482,4.437927663734115,4.828934506353861,4.613880742913001,4.970674486803519,4.789833822091887,4.447702834799609,4.7702834799608995,4.3841642228739,4.2687683284457485,4.926686217008798,5.0,4.951124144672532,4.833822091886608,4.482815249266863,4.863147605083089,4.340175953079179,4.423264907135875,4.853372434017595,4.560117302052786,4.452590420332356,4.222873900293255,4.784721407624634,4.511241446725318,4.56989247311828,5.0,4.16911045943304,3.6653372434017593,4.8240469208211145,3.73900293255132,3.978494623655914,4.523372434017595,4.558993157380255,4.476236559139785,2.6050830889540566,3.457204301075269,4.1006842619745845,4.980449657869013,4.479833822091887,4.780058651026393,4.848484848484849,3.9200684261974583,4.956011730205279,4.9608993157380255,4.79960899315738,4.970674486803519,4.946236559139785,4.819159335288368,4.882697947214076,4.442815249266863,4.740957966764419,4.467253176930596,2.6842815249266865,4.995112414467253,4.027370478983382,4.595229716520039,3.8074291300097753,4.740957966764419,4.9853372434017595,3.7487781036168135,4.765395894428153,4.305962854349951,4.682306940371457,4.403714565004888,4.381182795698925,4.740957966764419,4.941348973607038,4.486803519061583,4.525904203323558,3.186705767350929,4.340175953079179,2.6392961876832848,4.120234604105572,4.354721407624633,4.745845552297165,4.970674486803519,4.545454545454545,4.731182795698925,4.858260019550342,4.887585532746823,4.804496578690127,3.660801564027371,4.8778103616813295,4.81533724340176,4.838709677419355,4.951124144672532,4.838709677419355,5.0,4.359726295210166,4.887585532746823,3.9883773216031275,4.105571847507331,4.418377321603128,4.279667644183774,4.9071358748778104,3.567937438905181,4.912023460410557,4.9608993157380255,4.364613880742913,4.032258064516129,4.804496578690127,2.9789345063538613,2.7770381231671557,4.79960899315738,4.775171065493646,4.794721407624634,4.882697947214076,4.872922776148583,4.579667644183774,4.330400782013685,4.833822091886608,4.167644183773216,4.67741935483871,4.750733137829912,4.887585532746823,4.780058651026393,4.516129032258064,4.970674486803519,4.887585532746823,4.623655913978495,4.926686217008798,4.281524926686217,4.178885630498534,4.359726295210166,3.558162267839687,4.120234604105572,4.164222873900293,4.711632453567938,3.570400782013685,4.682306940371457,3.3528836754643208,4.916911045943304,2.4631085043988272,4.956011730205279,4.090909090909091,4.574780058651027,4.438768328445748,4.921798631476051,4.809384164222874,4.252199413489736,4.9608993157380255,4.79960899315738,4.535679374389052,4.134222873900293,4.545454545454545,5.0,3.220918866080156,4.198435972629521,4.389051808406647,4.27663734115347,4.9315738025415445,4.242424242424242,4.902248289345064,3.517927663734115,4.802981427174976,3.7916324535679378,4.335288367546432,4.980449657869013,4.0469208211143695,4.89247311827957,4.140449657869013,3.768328445747801,3.4359726295210167,4.437927663734115,4.965786901270772,4.7702834799608995,4.67741935483871,4.740957966764419,4.780058651026393,4.5014662756598245,4.9608993157380255,3.2569208211143694,4.682306940371457,4.4770283479960895,4.789833822091887,3.401759530791789,4.897360703812317,4.8778103616813295,4.530791788856305,4.638318670576735,4.037145650048876,4.74713587487781,4.936461388074291,4.775171065493646,4.682306940371457,4.736070381231672,4.331632453567938,4.131632453567938,4.872922776148583,4.664496578690128,4.589442815249267,4.263372434017596,4.667644183773216,4.657869012707723,4.872922776148583,3.60405669599218,3.8269794721407626,4.912023460410557,4.9853372434017595,4.979667644183774,4.990224828934506,4.980449657869013,4.828934506353861,4.557761485826002,2.8161876832844572,4.833822091886608,4.882697947214076,4.418377321603128,4.364780058651027,3.0254154447702835,4.6627565982404695,3.264907135874878,4.550342130987293,4.921798631476051,4.164222873900293,4.882697947214076,4.618768328445748,3.6999022482893453,4.9608993157380255,4.863147605083089,4.667644183773216,4.794721407624634,4.7702834799608995,3.421309872922776,2.8320918866080156,4.12911045943304,4.882697947214076,4.379276637341153,4.970674486803519,4.750733137829912,4.408602150537634,4.120234604105572,4.7702834799608995,3.4946236559139785,4.066471163245357,4.882697947214076,4.589442815249267,4.841857282502444,3.0009775171065494,5.0,4.965786901270772,4.560117302052786,4.809384164222874,4.990224828934506,4.956461388074291,4.472140762463344,4.8240469208211145,4.2602834799609,4.745845552297165,3.642815249266863,4.281524926686217,4.956011730205279,4.540566959921799,4.0469208211143695,4.2082111436950145,4.7702834799608995,4.579667644183774,3.7536656891495603,4.616236559139785,4.012707722385142,4.618768328445748,4.618768328445748,4.7165200391006845,4.159335288367546,4.618768328445748,5.0,4.9608993157380255,4.819159335288368,4.838709677419355,4.599217986314761,4.665112414467253,3.8553372434017597,4.633431085043989,4.325513196480938,2.8396871945259043,4.232649071358749,4.9853372434017595,4.46236559139785,3.900293255131965,4.090909090909091,4.936461388074291,0.007693059628544108,4.4770283479960895,4.835112414467253,3.9377614858260017,4.833822091886608,4.583206256109483,4.833822091886608,4.79960899315738,4.838709677419355,4.946236559139785,4.828934506353861,4.266412512218964,4.775171065493646,4.717644183773216,4.9597262952101655,4.855562072336266,4.828934506353861,3.6119257086999026,4.643206256109482,4.144672531769306,4.574780058651027,4.941348973607038,4.872922776148583,3.675395894428153,4.146236559139785,4.980449657869013,4.335288367546432,4.789833822091887,4.296187683284457,4.887585532746823,4.2180351906158355,4.530791788856305,3.8940469208211144,4.995112414467253,4.8240469208211145,4.354838709677419,4.8778103616813295,4.066471163245357,4.853372434017595,4.325513196480938,4.6089931573802545,4.086021505376344,4.916911045943304,3.485454545454545,4.590791788856305,4.67741935483871,4.555229716520039,3.318670576735093,4.3384359726295205,5.0,3.875855327468231,4.164389051808406,4.472140762463344,4.8240469208211145,4.496578690127077,4.511241446725318,3.929618768328446,4.951124144672532,4.178885630498534,4.912023460410557,4.79960899315738,3.6119257086999026,4.843597262952102,3.040078201368524,4.521016617790812,3.0325317693059635,4.5723069403714565,2.822033235581623,4.391749755620723,2.7951319648093844,2.2684457478005866,4.9315738025415445,4.872922776148583,3.4750733137829912,4.975562072336266,3.1819159335288374,4.858260019550342,4.442815249266863,4.5014662756598245,4.794721407624634,4.838709677419355,3.3870967741935485,4.794721407624634,4.271749755620723,4.701857282502444,4.525904203323558,4.951124144672532,4.3695014662756595,4.956011730205279,4.69208211143695,4.995112414467253,4.726295210166178,4.995112414467253,4.9315738025415445,4.936461388074291,4.310850439882698,3.655913978494624,3.6754643206256112,3.9345063538611926,3.4956207233626593,4.1544477028347995,4.359726295210166,4.809384164222874,4.657869012707723,3.396871945259042,4.628543499511242,4.882697947214076,4.457478005865102,3.5923753665689153,4.902248289345064,4.330400782013685,4.9315738025415445,4.053372434017596,2.4780058651026393,4.413489736070382,4.604105571847508,4.29130009775171,4.589442815249267,4.995112414467253,4.026911045943304,4.916911045943304,2.919618768328446,4.418377321603128,4.120058651026393,4.936461388074291,4.579667644183774,2.717497556207234,4.9853372434017595,3.0216422287390032,4.281524926686217,4.379276637341153,4.217986314760508,3.9479276637341147,3.6997262952101657,3.978494623655914,4.736070381231672,4.266862170087976,5.0,3.587487781036168,4.58455522971652,4.408602150537634,3.7735972629521015,4.811348973607038,4.687194525904204,4.657869012707723,4.755620723362659,3.4457478005865103,4.232649071358749,4.7702834799608995,4.916911045943304,5.0,4.828934506353861,4.755620723362659,4.016236559139785,4.789833822091887,4.897360703812317,3.8856304985337244,4.848484848484849,3.2844574780058653,4.809384164222874,4.667644183773216,4.481915933528837,4.437927663734115,4.946236559139785,4.804496578690127,3.7846138807429126,4.9071358748778104,4.887585532746823,4.838709677419355,3.851016617790812,4.941348973607038,4.413489736070382,4.794721407624634,4.897360703812317,3.895405669599218,4.711632453567938,4.301075268817204,4.755620723362659,4.828934506353861,3.929618768328446,4.706744868035191,3.485405669599218,4.521016617790812,3.6412512218963835,4.423264907135875,4.970674486803519,4.623655913978495,4.354838709677419,3.587487781036168,4.281524926686217,3.745679374389052,4.379276637341153,4.902248289345064,3.005865102639296,4.2619745845552295,4.916911045943304,4.574780058651027,4.921798631476051,4.002932551319648,4.613880742913001,3.355063538611925,4.819159335288368,4.8240469208211145,4.491691104594331,4.814271749755621,4.706744868035191,4.995112414467253,4.946236559139785,4.643206256109482,3.3006256109481913,4.804496578690127,4.496578690127077,5.0,4.115347018572825,3.687653958944282,4.814271749755621,4.89247311827957,5.0,4.378543499511242,4.565004887585533,3.8367546432062563,4.755620723362659,4.809384164222874,4.198435972629521,4.521016617790812,4.843597262952102,4.264105571847508,4.916911045943304,3.9345063538611926,3.8821407624633437,4.970674486803519,3.3382209188660803,4.594330400782014,3.3809677419354838,4.858260019550342,3.7438905180840667,4.1544477028347995,3.6832062561094823,4.159335288367546,3.597262952101662,2.930674486803519,4.941348973607038,4.545454545454545,5.0,3.371348973607038,4.897360703812317,4.8240469208211145,4.814271749755621,4.03067448680352,4.853372434017595,3.4652981427174976,4.9315738025415445,4.464838709677419,3.6259628543499507,4.217986314760508,3.95405669599218,4.589442815249267,4.740957966764419,4.926686217008798,4.7702834799608995,4.912023460410557,4.565004887585533,3.7996089931573804,4.868035190615836,4.227761485826002,5.0,3.235581622678397,4.051808406647116,4.579667644183774,4.56989247311828,4.618768328445748,3.751182795698925,4.78494623655914,3.3822091886608017,5.0,4.555229716520039,4.833822091886608,4.3939393939393945,4.594330400782014,4.970674486803519,4.099442815249267,4.8240469208211145,4.721407624633431,4.457478005865102,4.379276637341153,4.007370478983383,4.975562072336266,4.998934506353861,4.217986314760508,4.7389345063538615,4.736070381231672,4.633431085043989,3.992033235581623,3.7487781036168135,4.848484848484849,4.447702834799609,3.9589442815249267,4.711632453567938,3.919843597262952,4.872922776148583,4.428152492668621,4.860283479960899,4.4770283479960895,3.7438905180840667,4.481915933528837,3.792766373411535,4.496578690127077,4.750733137829912,3.1085043988269794,5.0,4.364613880742913,4.648093841642229,4.29130009775171,3.8025415444770285,4.389051808406647,4.9853372434017595,4.780058651026393,4.755620723362659,4.259951124144672,4.618768328445748,4.103714565004888,5.0,4.970674486803519,4.516129032258064,4.731182795698925,3.1964809384164226,3.1748387096774193,4.9071358748778104,4.447702834799609,4.095796676441838,4.965786901270772,4.672531769305963,4.990224828934506,4.833822091886608,4.9315738025415445,4.252199413489736,4.721407624633431,4.804496578690127,4.281524926686217,4.838709677419355,4.305962854349951,4.58236559139785,2.996089931573803,4.951124144672532,4.951124144672532,4.18377321603128,4.002932551319648,4.159335288367546,4.560117302052786,4.726295210166178,5.0,4.926686217008798,4.032258064516129,4.828934506353861,4.217986314760508,3.406647116324536,2.8074780058651023,4.335288367546432,4.809384164222874,4.863147605083089,4.149560117302053,4.765395894428153,4.540566959921799,3.8569794721407624,4.5860117302052785,4.281524926686217,4.051808406647116,2.6027077223851416,4.604105571847508,3.2551319648093844,4.853372434017595,4.887585532746823,4.9071358748778104,4.618768328445748,3.5483870967741935,4.912023460410557,4.930674486803519,4.565004887585533,4.750733137829912,4.794721407624634,4.104046920821115,4.9315738025415445,4.990224828934506,4.775171065493646,4.188660801564027,3.8878690127077227,4.565004887585533,3.9589442815249267,4.012707722385142,4.530791788856305,4.858260019550342,4.809384164222874,4.486803519061583,4.736070381231672,3.7438905180840667,4.242424242424242,3.9565786901270767,4.765395894428153,4.8240469208211145,4.521016617790812,4.833822091886608,4.525904203323558,4.442815249266863,4.828934506353861,4.27663734115347,4.965786901270772,3.651026392961877,3.0205278592375366,4.326129032258064,4.79960899315738,4.89247311827957,4.374389051808406,4.701857282502444,5.0,4.657869012707723,4.525904203323558,4.558035190615836,4.540566959921799,4.525904203323558,4.2082111436950145,4.970674486803519,4.379276637341153,5.0,4.16911045943304,4.701857282502444,4.088318670576736,4.2082111436950145,4.995112414467253,3.8337145650048883,4.804496578690127,4.213098729227761,4.604105571847508,3.4799608993157385,4.1544477028347995,4.69208211143695,3.2662365591397853,3.1925904203323565,4.657869012707723,4.780058651026393,4.750733137829912,4.576236559139785,4.755620723362659,4.4853958944281525,3.1257478005865105,4.6627565982404695,4.921798631476051,3.244398826979472,3.9638318670576735,3.817204301075269,5.0,4.951124144672532,4.721407624633431,3.5964613880742915,4.833822091886608,4.936461388074291,4.780058651026393,4.814271749755621,3.866080156402737,4.736070381231672,4.565004887585533,4.995112414467253,4.951124144672532,4.721407624633431,3.8905180840664713,4.706744868035191,4.301075268817204,4.600899315738025,3.9149560117302054,3.765679374389052,3.95405669599218,4.633431085043989,2.100811339198436,4.305962854349951,4.358484848484848,5.0,3.4408602150537635,4.921798631476051,4.340175953079179,4.657869012707723,1.9696969696969697,4.838709677419355,4.9315738025415445,4.833822091886608,4.58455522971652,3.1396089931573803,4.6627565982404695,3.2364711632453567,4.970674486803519,4.696969696969697,4.374389051808406,3.5692179863147606,3.396871945259042,4.926686217008798,3.8514173998044967,2.5548484848484847,4.136187683284457,3.231915933528837,4.775171065493646,4.789833822091887,4.305962854349951,4.445786901270772,3.934271749755621,4.3939393939393945,2.995239491691105,4.9853372434017595,4.951124144672532,4.565004887585533,4.528885630498533,4.995112414467253,4.740957966764419,3.489843597262952,4.833822091886608,4.916911045943304,4.726520039100684,4.721407624633431,4.0713587487781036,4.638318670576735,3.9687194525904204,3.176432062561095,4.7702834799608995,4.115347018572825,4.921798631476051,3.719051808406647,4.975562072336266,4.936461388074291,4.775171065493646,4.721407624633431,4.828934506353861,4.78494623655914,4.696969696969697,4.843597262952102,4.75236559139785,4.2082111436950145,4.345063538611925,4.227761485826002,4.6627565982404695,4.266862170087976,4.912023460410557,4.7428152492668625,4.530957966764419,4.740957966764419,4.946236559139785,3.6333822091886607,4.550342130987293,4.902248289345064,4.995112414467253,4.58455522971652,4.740957966764419,4.863147605083089,4.426969696969698,4.599217986314761,4.27663734115347,4.941348973607038,4.800058651026393,4.618768328445748,4.149560117302053,4.107086999022482,3.983382209188661,3.779726295210166,4.887585532746823,4.868035190615836,4.036295210166179,4.589442815249267,4.095796676441838,4.672531769305963,4.916911045943304,3.8702248289345063,4.115347018572825,4.814271749755621,4.765395894428153,2.3045063538611927,4.230733137829912,4.340175953079179,4.281749755620723,4.604105571847508,4.833822091886608,4.756461388074292,4.990224828934506,4.8240469208211145,3.9589442815249267,4.975562072336266,4.633431085043989,3.7348973607038123,4.545454545454545,4.423264907135875,3.73900293255132,4.565004887585533,3.4408602150537635,3.83236559139785,4.335288367546432,4.990224828934506,4.809384164222874,4.721407624633431,4.731182795698925,4.755620723362659,4.589442815249267,4.657869012707723,4.980449657869013,4.667644183773216,4.887585532746823,4.789833822091887,4.565004887585533,3.5141739980449658,4.363431085043988,4.995112414467253,4.638318670576735,4.603264907135875,4.828934506353861,4.843597262952102,4.565004887585533,4.9071358748778104,4.467253176930596,4.252199413489736,4.868035190615836,4.78494623655914,4.359951124144672,4.868035190615836,3.4408602150537635,4.995112414467253,4.726295210166178,3.3995698924731186,4.418377321603128,4.328484848484848,4.012707722385142,4.9071358748778104,4.946236559139785,4.956011730205279,4.623655913978495,4.69208211143695,4.936461388074291,4.521016617790812,4.897360703812317,4.750733137829912,5.0,4.956011730205279,4.9608993157380255,4.1992179863147605,3.313782991202346,4.672531769305963,4.73275659824047,4.8240469208211145,4.951124144672532,4.809384164222874,4.721407624633431,4.708709677419355,3.2436656891495605,4.437927663734115,4.750733137829912,4.232649071358749,4.095796676441838,3.43108504398827,4.838709677419355,4.716686217008798,4.231749755620723,4.58455522971652,4.926686217008798,4.403714565004888,4.325786901270773,3.9931573802541545,4.921798631476051,4.696969696969697,4.760508308895406,4.921798631476051,4.990224828934506,3.2581036168132944,4.882697947214076,4.740957966764419,4.511241446725318,3.924731182795699,3.5092864125122194,4.946236559139785,5.0,3.0742913000977516,4.102258064516129,4.391348973607038,4.726295210166178,4.696969696969697,4.980449657869013,4.902248289345064,4.6089931573802545,4.69208211143695,4.731182795698925,3.7731573802541543,4.27663734115347,4.599217986314761,5.0,4.012707722385142,4.403714565004888,4.083489736070382,3.8611925708699903,4.682306940371457,4.203323558162268,4.9853372434017595,3.8224731182795697,4.843597262952102,3.7292277614858262,3.866080156402737,4.386236559139785,4.134897360703812,4.633431085043989,4.689951124144672,4.325513196480938,4.916911045943304,4.809384164222874,4.446236559139785,4.203323558162268,4.863147605083089,4.941348973607038,4.863147605083089,4.740957966764419,4.213098729227761,3.8025415444770285,4.06158357771261,4.188660801564027,4.858260019550342,4.159335288367546,3.304007820136852,3.8563049853372435,4.872922776148583,4.956011730205279,4.1006842619745845,4.7702834799608995,4.178885630498534,4.990224828934506,4.39882697947214,4.589442815249267,2.7837829912023464,4.29130009775171,3.950058651026393,4.872922776148583,4.687194525904204,3.318670576735093,4.887585532746823,4.760508308895406,4.863147605083089,4.965786901270772,4.946236559139785,4.7702834799608995,4.472140762463344,3.866080156402737,3.088954056695992,4.516129032258064,4.457478005865102,4.843655913978495,4.67741935483871,4.652981427174976,4.667644183773216,4.648093841642229,4.975562072336266,4.980449657869013,4.858260019550342,2.7614858260019552,4.1678690127077225,4.760508308895406,2.6490713587487784,4.731182795698925,4.721407624633431,4.775171065493646,4.7702834799608995,2.629521016617791,4.990224828934506,4.804496578690127,4.872922776148583,4.89247311827957,3.768328445747801,4.496578690127077,4.814271749755621,4.303206256109482,4.980449657869013,4.413489736070382,4.501798631476051,4.5014662756598245,4.8240469208211145,4.542023460410557,3.567937438905181,4.546911045943304,4.711632453567938,1.8385043988269794,4.530791788856305,4.121808406647117,4.173998044965787,3.9345063538611926,4.496578690127077,4.843597262952102,3.6999022482893453,4.916911045943304,4.051808406647116,4.990224828934506,3.5246725317693057,4.364613880742913,4.525904203323558,4.843597262952102,4.307869012707723,3.113391984359726,3.7438905180840667,4.726295210166178,4.848484848484849,4.001124144672532,4.970674486803519,4.075738025415444,4.926686217008798,4.389051808406647,4.69208211143695,3.7976539589442817,4.403714565004888,1.893841642228739,4.941348973607038,4.599217986314761,4.623655913978495,3.32355816226784,4.975562072336266,3.4457478005865103,4.27663734115347,3.798044965786901,4.3157380254154445,4.79960899315738,4.46236559139785,4.142815249266863,4.349951124144672,3.8807429130009776,4.9071358748778104,4.638318670576735,2.321603128054741,5.0,4.721407624633431,4.565004887585533,4.760508308895406,4.902248289345064,4.188660801564027,4.090909090909091,4.579667644183774,4.110459433040078,3.6732649071358754,4.819159335288368,4.9608993157380255,4.159335288367546,4.814271749755621,4.638318670576735,4.990224828934506,4.731182795698925,4.9853372434017595,4.661407624633432,4.970674486803519,4.853372434017595,4.89247311827957,4.027370478983382,4.589442815249267,3.8905180840664713,4.565004887585533,4.745845552297165,4.848484848484849,3.7976539589442817,4.7702834799608995,4.672531769305963,4.325513196480938,4.69208211143695,4.643206256109482,4.828934506353861,4.951124144672532,4.374389051808406,4.271749755620723,4.706744868035191,4.101632453567937,3.8595601173020526,4.724496578690127,4.745845552297165,4.525904203323558,4.858260019550342,4.7702834799608995,4.56989247311828,3.978494623655914,4.884046920821114,4.990224828934506,4.530791788856305,4.828934506353861,2.903225806451613,4.389051808406647,4.613880742913001,4.599217986314761,4.227761485826002,4.965786901270772,4.936461388074291,4.7702834799608995,4.765395894428153,4.9071358748778104,3.6669794721407625,4.349951124144672,4.437927663734115,4.965786901270772,3.8074291300097753,4.122873900293255,4.726295210166178,5.0,4.379276637341153,4.048709677419355,4.912023460410557,3.567937438905181,5.0,4.657869012707723,4.89247311827957,4.833822091886608,4.833822091886608,4.687194525904204,4.926686217008798,3.6217008797653962,3.401759530791789,4.148768328445748,4.452590420332356,4.428152492668621,4.89247311827957,4.271749755620723,4.173998044965787,4.232649071358749,4.79960899315738,4.410791788856305,4.286412512218964,4.819159335288368,4.694046920821115,4.926686217008798,4.706744868035191,4.467253176930596,4.9071358748778104,3.6461388074291303]},{\"axis\":{\"matches\":true},\"label\":\"instant_bookable\",\"values\":[1,0,1,0,0,0,0,0,0,0,0,0,1,0,0,0,0,1,0,0,0,0,0,0,0,0,0,0,1,0,0,1,0,0,0,0,0,0,0,0,0,0,0,0,0,1,0,0,0,0,1,0,0,0,0,0,1,0,1,0,1,0,0,0,0,0,0,0,1,0,0,0,0,0,0,0,0,0,0,1,0,0,0,0,0,0,0,0,0,1,0,0,0,0,0,0,0,0,0,0,0,0,0,0,0,0,0,0,0,0,1,0,0,1,0,0,0,0,0,0,1,1,0,0,0,1,0,0,0,0,1,0,0,0,0,0,0,0,1,0,0,0,0,1,0,0,1,0,1,0,1,1,0,0,1,0,0,0,0,0,0,1,1,0,0,0,1,0,0,0,0,0,0,0,0,1,0,0,0,1,0,0,0,1,0,1,0,0,1,0,0,0,1,0,1,0,0,0,0,1,0,1,0,0,0,0,0,0,0,1,0,0,0,1,0,0,0,0,1,1,0,0,0,0,0,0,0,0,0,0,0,0,0,0,0,0,0,0,0,0,0,0,0,0,1,0,0,0,0,0,0,1,0,0,1,1,0,0,1,0,0,0,0,0,0,0,0,0,0,0,0,0,0,0,0,0,0,0,0,1,0,0,0,0,0,0,0,1,1,0,0,0,0,0,0,0,0,0,1,0,1,0,1,0,0,0,1,0,0,0,0,0,0,1,1,1,0,0,0,0,1,0,0,0,0,0,1,0,0,0,0,0,0,0,0,1,0,1,0,0,0,0,0,0,0,0,1,0,0,1,0,0,0,0,0,0,0,0,1,0,1,0,0,0,0,0,1,0,0,0,0,1,0,1,0,0,1,0,0,0,0,0,0,0,1,0,0,0,0,0,0,0,0,0,0,0,0,0,0,0,0,0,0,0,1,0,0,0,0,0,0,0,0,0,0,0,0,0,0,0,0,0,0,0,0,0,0,0,0,0,1,0,0,0,0,1,0,0,0,0,0,0,0,0,0,0,0,0,0,0,0,0,0,0,0,0,0,0,0,0,0,0,0,1,0,0,0,0,0,0,0,1,0,0,0,0,0,0,1,0,0,0,0,0,1,0,0,0,0,1,0,0,0,0,1,0,0,0,0,0,1,0,1,0,0,0,0,0,0,0,0,0,0,0,0,0,0,0,0,0,1,0,0,0,0,0,0,0,0,0,1,0,0,1,0,1,0,0,0,0,0,0,0,1,0,0,0,0,1,1,1,0,0,0,0,0,0,0,0,0,0,1,0,0,0,1,0,1,1,0,0,0,0,0,1,0,0,0,0,0,0,0,0,0,0,0,0,0,0,0,0,0,0,0,1,0,1,1,0,1,1,0,1,1,1,1,0,0,0,0,0,0,1,0,0,1,0,0,0,0,0,0,0,0,1,1,0,0,0,0,0,1,1,0,0,0,0,0,0,1,0,0,1,0,0,1,0,0,0,0,0,0,1,0,0,0,0,0,0,0,0,0,0,0,0,0,0,0,0,0,0,0,0,0,0,0,0,0,0,0,0,0,0,0,0,0,1,0,0,0,1,0,0,1,1,0,0,0,0,0,0,0,0,0,0,0,0,0,0,0,0,0,0,1,0,0,0,0,0,0,0,0,0,1,1,0,0,0,0,0,0,0,0,0,0,0,1,0,0,1,0,0,0,0,1,0,0,0,0,0,0,0,0,0,0,0,0,0,0,1,0,1,0,0,0,0,0,0,1,0,0,0,0,0,0,0,0,0,0,0,0,0,0,0,0,0,0,0,0,1,1,0,1,1,0,0,0,0,0,0,1,0,0,0,0,0,0,1,0,0,0,0,0,0,1,0,0,0,0,0,0,0,0,0,0,0,0,0,0,0,0,0,0,0,0,0,0,0,0,0,0,0,0,0,0,0,0,0,0,0,1,1,0,0,0,1,0,0,1,0,0,0,0,0,0,1,0,0,0,0,0,0,0,0,0,1,1,0,0,0,0,0,0,0,0,1,0,0,0,0,0,1,0,0,1,0,0,0,0,0,0,0,0,0,0,0,0,1,0,0,0,0,0,0,0,0,0,0,0,0,0,0,0,0,0,0,0,1,0,1,1,0,0,0,0,0,0,1,0,0,0,0,0,0,0,0,0,1,0,0,0,1,0,0,1,0,0,0,0,0,0,1,0,0,0,0,0,0,0,0,0,0,0,0,0,0,0,0,0,0,0,1,0,0,0,0,0,0,0,0,0,0,0,1,0,0,0,0,1,0,1,0,0,0,0,1,0,0,0,0,0,1,0,0,0,0,0,0,0,0,0,0,0,0,1,1,0,0,0,0,1,1,0,0,0,0,0,0,0,0,0,0,0,1,0,0,0,0,1,0,1,0,0,0,0,1,0,0,1,1,0,0,0,0,1,1,1,0,0,0,0,1,0,1,0,0,0,0,0,1,0,0,0,0,0,0,0,0,0,0,1,0,1,0,0,0,0,0,0,0,0,0,0,0,0,0,0,0,0,0,0,0,0,0,0,0,1,0,0,0,0,0,0,0,0,1,0,0,0,0,0,0,0,0,0,0,0,0,0,0,0,0,0,0,0,0,0,0,0,0,0,0,0,0,0,0,1,0,0,0,1,0,0,1,0,0,0,0,0,0,1,0,0,1,0,0,1,1,0,0,0,0,0,1,0,0,0,0,0,1,0,0,0,0,0,0,0,0,0,0,0,1,0,0,0,1,0,0,0,0,1,0,0,0,0,0,1,0,0,0,0,0,0,0,1,0,0,0,0,0,0,0,0,0,0,0,0,1,0,0,0,0,0,0,0,0,0,0,0,0,0,0,0,0,0,0,0,1,0,0,0,0,0,0,0,0,0,0,0,0,1,0,0,0,0,0,1,0,0,0,0,0,0,0,0,0,0,0,1,0,0,0,0,1,0,0,0,0,0,0,0,0,0,0,0,0,0,0,1,0,0,0,0,0,0,0,0,0,0,0,0,0,0,0,1,1,0,0,1,0,0,0,0,0,0,0,1,0,0,0,0,1,0,0,0,0,0,0,0,0,0,0,0,0,0,0,0,0,1,1,0,0,0,0,0,0,1,0,1,0,0,0,1,0,0,0,0,0,0,0,1,0,0,0,0,0,0,1,0,1,0,0,0,0,0,0,0,0,0,0,0,0,0,0,1,0,0,0,0,0,0,0,0,0,0,0,0,0,0,0,0,0,0,0,0,0,1,0,0,0,1,0,1,0,0,0,0,0,0,0,0,0,0,0,0,1,0,1,0,0,0,0,1,0,0,1,0,0,0,0,0,0,0,0,0,0,0,0,1,0,0,1,0,0,0,0,0,0,0,0,0,1,0,0,1,0,0,0,0,0,0,0,0,0,0,0,1,0,0,1,0,0,0,0,0,0,0,0,0,0,0,0,0,0,0,0,0,1,0,0,0,0,0,0,0,0,0,0,0,0,0,0,0,0,0,0,1,0,0,0,0,0,0,1,1,1,0,0,1,0,1,0,0,0,0,0,0,0,0,0,1,0,0,0,0,0,0,0,0,0,0,0,0,0,0,0,0,0,0,0,0,0,0,0,0,0,0,0,0,0,0,0,0,0,0,1,0,0,0,0,0,0,0,0,0,0,0,0,0,0,0,1,0,1,0,1,0,0,1,0,0,0,0,1,0,0,1,0,0,0,1,0,0,0,0,0,0,1,0,0,0,1,0,0,0,0,0,0,0,0,1,0,0,0,0,0,0,0,0,0,0,0,0,0,0,0,0,0,0,1,0,0,0,1,0,0,0,0,0,0,0,0,0,0,1,0,0,0,0,0,0,0,0,0,0,1,1,0,1,0,1,0,0,0,0,1,1,0,0,0,1,0,0,0,0,0,0,0,0,1,0,0,0,1,1,0,0,0,0,1,0,0,0,0,0,0,0,0,0,0,0,0,1,0,0,0,1,0,0,1,0,1,0,0,0,0,0,0,1,0,0,0,0,0,0,0,1,0,0,0,0,0,0,0,0,0,0,0,0,0,0,0,0,1,0,0,0,0,0,0,0,0,0,1,1,0,0,0,1,0,0,0,0,0,0,0,0,0,0,0,0,0,0,0,0,0,0,0,0,0,0,0,0,0,0,0,0,0,1,1,0,0,0,0,0,0,0,0,1,0,0,0,1,0,0,0,0,0,0,0,0,0,1,0,1,0,0,0,0,1,0,0,1,0,0,1,0,0,0,0,0,0,1,0,0,0,0,0,1,0,0,0,0,0,1,0,0,0,0,0,0,0,0,0,0,0,0,1,0,0,0,0,0,0,0,0,0,0,0,0,0,0,0,0,0,0,0,1,0,0,0,1,0,0,1,0,0,0,0,0,0,0,0,0,0,0,0,0,0,0,0,0,0,0,0,0,0,0,0,0,0,0,0,0,0,1,0,0,0,0,0,0,0,0,0,0,0,0,0,0,0,0,0,1,0,0,0,0,0,0,1,1,1,0,0,1,0,1,0,1,0,0,0,0,0,0,0,0,0,0,0,0,0,0,0,0,1,0,0,0,0,0,0,0,0,1,0,0,0,0,0,0,0,1,0,0,0,0,0,1,0,0,0,0,0,0,0,0,0,0,0,0,0,0,0,0,0,0,0,1,0,0,1,1,0,0,1,0,0,0,0,0,0,0,0,0,1,0,0,1,0,0,0,0,0,1,0,0,0,0,0,0,0,0,0,0,0,0,0,0,0,0,1,0,0,0,1,0,0,0,1,0,1,0,1,0,0,0,0,0,0,1,0,0,1,0,0,0,1,0,1,0,0,0,0,0,0,0,0,0,0,1,0,0,0,0,0,0,0,1,0,1,0,0,0,0,0,0,0,0,0,0,0,1,0,1,0,1,1,0,0,0,0,0,0,1,0,1,0,0,0,0,0,1,1,0,0,0,1,0,0,0,0,0,1,0,0,0,0,0,1,0,0,0,0,0,0,0,1,0,0,0,1,1,0,0,0,0,0,1,0,0,1,0,0,0,1,0,0,0,0,0,0,0,0,0,0,1,0,1,0,0,0,0,0,0,0,1,0,0,0,1,0,0,1,0,0,0,0,0,0,0,0,0,0,0,1,0,0,0,0,0,0,0,0,0,0,0,0,0,0,0,0,0,0,1,0,0,0,0,0,0,0,0,0,0,0,0,0,0,0,1,0,0,0,0,0,0,0,0,1,0,0,1,1,0,0,0,0,0,0,0,0,1,0,1,0,1,0,0,0,1,0,1,0,0,0,1,0,0,1,0,0,0,0,0,0,0,0,1,1,0,0,0,0,0,1,0,0,0,0,0,0,0,0,0,1,0,0,0,0,0,1,0,1,0,0,0,0,0,0,0,1,0,0,0,0,1,0,0,0,0,0,0,0,0,1,0,0,0,1,0,0,0,0,1,0,0,0,0,0,0,1,0,0,0,0,1,0,0,0,0,1,0,0,0,0,0,1,0,0,1,0,0,0,0,1,0,0,0,0,0,0,0,0,0,0,0,0,0,1,0,0,0,0,1,0,0,1,0,1,0,0,0,0,0,1,0,1,0,0,0,0,0,0,0,0,0,1,0,0,0,0,0,0,0,0,0,0,0,0,1,0,0,0,0,0,0,0,0,0,0,0,0,0,0,1,1,0,0,0,0,0,0,1,0,0,0,1,0,0,0,1,1,0,0,0,0,1,0,0,0,0,0,0,0,0,0,0,0,0,0,1,0,0,0,0,0,0,0,0,0,0,0,0,0,0,0,0,1,0,0,0,0,0,0,1,0,0,0,0,0,0,0,0,0,0,0,0,0,0,1,1,1,0,0,0,0,1,0,0,0,0,0,1,0,1,0,0,0,0,1,0,1,0,0,1,1,0,0,0,0,1,0,0,0,0,0,0,0,0,0,0,0,1,1,0,0,0,0,0,1,0,1,0,0,0,0,0,0,0,0,0,0,0,0,0,0,0,0,0,0,0,0,0,0,0,0,0,0,0,1,0,0,1,0,0,0,0,1,0,0,0,0,0,0,1,0,0,0,0,0,0,0,0,1,0,0,1,0,0,0,0,0,0,0,0,0,1,0,0,1,0,0,0,1,0,1,0,1,0,0,0,0,1,0,0,0,0,0,0,1,0,0,1,0,1,0,1,0,0,1,0,0,0,1,0,0,0,0,0,0,0,0,0,1,0,0,1,0,0,0,0,0,0,0,1,0,0,0,0,1,0,0,0,0,0,1,0,0,0,1,0,0,1,0,0,0,1,1,0,1,0,0,0,0,0,0,0,0,0,0,0,0,0,0,0,1,1,0,0,0,0,0,0,0,0,1,1,0,0,1,0,0,0,0,0,1,0,0,0,0,0,1,0,0,0,0,0,0,0,0,0,0,0,0,0,0,0,0,1,0,0,0,1,0,0,0,1,0,0,0,0,0,0,1,1,0,0,0,0,0,1,0,0,1,1,0,0,1,0,0,0,0,0,1,0,1,0,0,0,0,0,0,0,1,0,0,0,0,1,1,0,0,0,0,0,0,0,0,0,0,0,0,0,1,0,1,0,0,0,1,0,0,0,1,0,0,0,0,0,0,0,1,0,0,0,0,0,0,0,0,0,1,0,0,0,0,0,0,0,0,0,1,0,0,0,0,1,0,0,0,0,1,0,1,0,0,0,0,0,1,0,0,1,0,0,0,0,0,0,0,0,0,0,0,0,0,0,0,0,0,0,0,0,0,0,0,1,0,0,0,0,0,0,1,0,1,0,0,0,0,0,0,0,0,0,0,0,0,0,0,0,0,1,0,0,0,0,0,0,0,0,0,0,0,0,0,0,0,0,0,1,1,0,0,0,0,1,0,0,0,1,1,0,0,0,0,0,0,0,1,0,0,0,0,0,1,1,0,0,0,0,0,0,0,0,0,0,1,1,0,0,0,0,0,0,0,0,0,1,0,1,0,0,0,1,0,0,1,0,0,0,0,0,0,0,0,0,0,0,0,0,0,1,0,0,0,1,1,0,0,0,0,1,1,0,0,0,0,1,0,0,0,0,0,0,0,0,0,0,1,0,0,1,0,0,1,0,0,0,1,0,0,0,0,0,0,1,1,0,0,0,1,0,0,0,1,0,0,1,0,0,0,0,1,0,0,0,0,0,0,0,0,0,1,0,0,0,0,0,0,0,0,0,0,0,0,1,0,0,0,0,0,1,0,0,0,0,1,0,0,0,0,0,0,0,1,0,1,1,1,0,0,0,0,0,0,1,0,0,0,0,0,1,0,0,0,0,1,0,0,0,0,0,0,0,0,0,0,0,0,0,0,1,0,0,0,0,0,0,0,0,1,0,0,0,0,1,0,0,0,0,0,0,1,0,1,0,0,0,0,0,0,0,0,1,0,0,0,0,1,0,0,0,0,0,0,0,1,0,0,0,0,0,0,0,0,0,0,0,0,1,0,0,0,0,1,1,0,0,0,0,0,0,0,0,1,1,0,0,1,0,0,0,1,0,1,1,1,0,0,0,0,1,0,0,0,1,0,1,0,0,0,0,0,0,1,0,0,0,0,0,0,1,0,1,0,0,0,0,0,0,0,0,1,0,0,0,0,0,0,1,0,0,0,0,0,0,0,1,0,0,0,1,0,0,0,0,0,0,0,0,0,0,0,0,0,0,0,0,1,0,1,0,0,0,1,0,0,1,0,0,1,0,0,0,1,1,0,1,0,0,1,0,0,0,0,0,1,0,1,0,0,1,0,0,0,0,0,0,0,0,0,0,0,0,1,0,0,0,0,0,0,0,0,0,0,0,0,0,0,0,0,0,0,0,0,0,1,0,1,0,0,0,0,0,0,0,0,0,0,1,0,0,0,0,0,0,1,0,0,0,0,0,0,0,0,0,1,0,0,0,1,0,1,0,0,0,1,0,0,0,0,0,0,0,0,0,0,1,0,0,0,0,0,1,0,0,0,0,0,0,1,0,0,0,0,0,0,0,0,0,1,0,0,0,0,0,0,0,0,0,0,0,0,1,0,0,0,0,0,0,0,0,0,0,0,0,1,1,0,0,1,0,0,0,0,0,0,0,1,0,0,0,0,0,1,0,0,0,1,0,0,1,0,0,0,1,0,1,0,1,0,0,0,0,0,0,0,0,0,0,0,0,1,0,0,0,0,0,0]},{\"axis\":{\"matches\":true},\"label\":\"host_reported_average_tip\",\"values\":[2.31,13.64,0.43,0.96,13.68,28.07,0.79,1.04,14.89,14.52,12.39,34.23,32.55,0.51,12.04,1.34,13.2,32.36,15.35,15.76,29.49,1.6,0.68,15.09,1.12,0.35,27.07,30.23,29.8,14.65,31.33,0.93,13.15,1.0,10.16,12.25,14.11,13.53,0.68,14.41,11.59,1.68,0.0,11.07,0.41,33.17,15.05,0.97,29.5,28.52,29.71,14.36,0.42,1.88,12.79,14.16,26.73,12.44,28.07,1.44,31.0,1.11,13.34,30.96,14.5,12.25,9.08,26.49,27.94,1.93,15.0,12.5,1.98,14.8,12.11,0.66,0.36,14.13,19.16,33.33,2.5,0.67,26.32,1.63,16.33,31.12,28.92,13.15,12.47,0.0,15.53,15.44,15.65,14.83,0.0,13.13,14.5,0.13,15.92,0.0,2.11,12.38,11.39,17.25,14.23,13.72,27.99,18.13,15.51,13.12,29.12,0.71,1.6,32.49,9.81,2.07,0.0,13.69,11.23,2.03,28.56,34.09,13.96,0.6,11.87,26.49,1.85,15.58,0.0,14.0,29.18,13.32,17.77,31.17,14.36,0.15,0.38,1.82,0.71,0.75,13.03,31.39,31.37,32.26,29.42,16.61,28.03,1.64,29.9,13.54,32.61,30.06,12.08,19.29,1.17,13.37,14.7,14.8,14.58,1.6,1.47,25.7,29.71,0.44,31.4,1.03,32.88,18.07,27.98,15.65,16.61,29.1,1.41,0.81,1.08,0.55,1.28,15.01,1.85,29.42,1.34,16.56,1.02,30.75,14.86,29.02,34.54,13.75,30.11,0.95,0.0,14.12,29.13,0.11,29.16,1.45,0.0,15.34,13.51,27.94,14.17,31.13,14.92,2.21,1.81,12.92,0.43,2.89,13.1,30.2,0.88,14.47,1.49,27.44,12.94,10.67,0.94,30.97,28.21,1.35,3.71,2.67,30.94,31.41,10.07,16.9,18.49,27.32,13.84,17.3,0.83,11.3,15.01,14.02,16.74,1.11,10.37,17.68,0.0,15.1,1.34,12.26,28.3,3.36,29.5,13.32,0.0,1.51,2.19,0.44,32.34,29.61,0.0,0.79,31.11,28.31,14.6,11.97,28.57,14.28,0.72,14.64,13.08,0.0,0.65,30.86,29.04,14.02,1.21,3.11,0.91,12.17,0.77,2.5,14.2,13.5,15.23,0.68,13.42,29.37,14.26,0.28,15.78,14.17,26.92,3.41,30.52,27.17,28.54,15.98,0.71,16.13,11.09,11.56,30.07,0.0,30.82,28.67,29.73,14.61,0.79,29.52,32.72,1.11,0.02,13.6,2.71,13.83,11.51,2.11,1.04,0.5,2.17,1.49,29.39,32.96,0.12,12.14,15.81,14.55,0.17,12.86,1.32,15.47,29.52,10.93,2.18,1.92,24.88,0.0,15.05,0.51,14.68,1.94,0.47,29.42,31.48,32.81,13.11,28.94,14.62,0.72,1.45,18.32,11.87,1.7,31.23,1.41,12.85,32.64,9.53,0.45,1.09,15.95,19.0,14.91,13.69,13.76,29.0,16.09,30.08,17.66,15.88,2.58,17.64,15.23,0.0,29.03,14.4,32.68,1.38,30.19,2.6,30.0,16.92,10.17,30.05,15.59,12.41,31.94,0.09,10.85,15.11,11.05,29.46,13.78,33.1,11.98,15.86,9.39,12.47,0.0,31.62,13.06,30.84,27.08,14.32,10.41,16.36,14.25,1.75,1.41,2.2,0.0,1.2,12.5,28.98,31.86,13.78,0.21,17.63,1.89,29.54,0.89,1.91,17.03,0.65,14.67,12.81,29.81,13.93,12.62,10.55,15.32,30.57,13.61,1.41,16.22,1.27,1.17,31.53,13.26,12.69,30.26,14.22,30.26,14.01,13.9,31.7,1.6,1.14,16.85,0.0,1.1,19.04,12.58,0.0,13.0,1.75,30.8,0.52,16.03,12.51,3.25,0.24,14.65,0.66,27.1,29.52,28.64,14.16,15.09,16.45,27.24,32.7,27.85,15.09,27.85,13.38,15.4,14.65,29.92,1.15,0.83,15.65,27.98,1.48,14.37,29.39,1.32,13.88,13.46,16.86,16.43,29.65,12.63,25.84,14.29,16.94,26.91,13.65,12.6,0.0,2.24,28.12,14.45,1.06,0.36,30.45,13.94,32.49,11.98,0.32,0.01,12.22,14.55,32.92,0.37,0.17,12.48,0.71,0.76,14.82,1.69,17.3,13.02,2.5,17.47,1.14,11.37,30.73,28.7,25.96,11.86,15.56,12.85,12.75,16.59,12.74,31.53,29.55,30.56,15.55,28.25,10.87,2.02,17.74,30.38,14.91,14.89,29.84,13.06,12.98,0.83,28.26,31.15,14.22,12.25,29.58,31.13,27.15,29.83,28.78,13.57,0.53,2.39,1.6,30.21,13.95,15.48,10.88,27.33,14.02,14.44,14.81,32.93,0.41,34.41,0.54,11.16,30.52,0.0,14.44,2.27,0.14,14.39,0.89,12.14,12.47,16.48,11.49,0.91,32.78,11.04,14.28,13.35,12.21,14.41,30.92,13.77,2.2,0.0,1.48,31.9,31.07,15.07,32.02,31.68,0.2,33.8,31.29,0.95,0.33,28.56,31.51,0.37,1.29,13.34,2.2,14.21,15.28,10.99,1.5,13.93,27.63,31.34,16.64,18.47,15.16,14.01,28.94,16.7,16.32,14.16,0.53,0.0,14.29,1.11,29.49,1.26,12.68,30.4,29.55,0.61,28.58,13.19,9.57,0.73,11.21,31.42,0.48,16.16,32.95,13.89,15.62,30.66,13.32,0.0,0.19,15.32,13.08,1.25,32.89,1.9,1.11,31.8,15.14,10.69,16.35,31.44,16.47,16.98,0.0,10.78,15.71,0.0,30.88,0.36,26.2,21.1,15.28,28.63,15.65,0.52,14.52,0.0,29.39,15.68,1.85,17.68,14.0,13.32,13.85,16.31,0.29,11.52,31.82,12.4,13.75,14.71,30.32,2.43,30.82,1.28,1.99,26.32,14.0,18.08,28.14,31.52,26.37,16.44,11.38,27.61,1.6,0.41,0.49,15.38,14.86,2.03,16.6,1.03,0.61,27.93,31.57,12.32,14.08,13.51,16.48,16.47,0.43,15.5,14.14,0.41,27.41,1.31,15.4,11.06,1.71,1.12,1.8,16.3,35.24,30.64,1.76,0.0,26.06,29.87,29.8,33.11,1.54,32.34,0.87,0.14,33.09,16.18,13.21,1.25,17.72,30.51,0.0,29.76,0.26,26.82,2.2,14.47,30.63,14.14,27.76,28.92,15.64,31.38,14.72,15.06,30.67,12.97,0.4,14.64,28.13,15.03,16.62,11.24,14.11,0.0,0.39,16.31,13.69,32.37,14.83,14.66,16.12,11.84,12.12,26.15,31.17,0.72,0.0,17.11,0.16,31.02,31.19,15.86,32.63,28.7,13.01,12.01,18.15,16.34,28.17,31.35,33.43,32.14,0.0,15.45,14.44,13.07,2.1,32.26,14.98,17.03,8.85,0.0,14.35,0.77,29.03,11.41,31.94,0.0,1.14,32.07,0.0,28.88,34.64,11.83,2.85,32.69,30.59,11.43,16.52,13.5,13.99,12.2,12.07,0.21,15.45,29.95,12.13,13.82,28.69,0.0,14.17,32.16,0.0,14.83,27.88,13.46,12.97,1.18,19.0,12.77,24.93,30.35,0.55,0.93,0.27,1.07,28.84,11.83,24.38,11.3,17.17,13.62,0.71,2.15,0.35,31.59,30.51,12.0,10.44,1.06,15.82,0.56,0.73,16.33,33.02,27.57,31.94,13.3,1.4,0.77,13.15,16.59,0.72,12.95,3.4,28.74,24.95,14.26,12.97,13.18,2.37,29.89,10.75,0.0,29.17,12.18,29.98,12.62,12.47,14.94,30.7,17.08,0.85,2.01,27.22,0.37,11.09,29.3,12.04,13.14,30.97,16.35,14.07,11.93,0.12,12.23,15.41,12.15,1.68,30.83,12.9,15.03,0.0,15.06,0.0,1.71,14.81,27.96,12.07,28.64,0.92,15.89,1.06,14.87,1.0,30.01,0.59,30.33,14.91,10.83,10.08,14.38,12.9,12.83,0.94,14.79,13.25,32.35,10.38,2.12,0.57,28.38,0.11,30.7,29.77,0.84,13.96,2.13,3.8,13.69,15.94,31.18,11.73,0.04,16.13,29.33,12.86,13.52,14.05,28.22,14.64,12.46,16.91,32.34,14.3,0.37,16.45,15.21,17.49,30.06,2.5,27.65,2.13,13.99,15.74,28.87,1.82,2.94,13.27,10.68,13.9,10.49,1.57,0.71,13.77,13.55,13.05,11.9,33.55,29.61,32.77,12.51,10.55,15.9,11.98,27.13,12.83,13.47,10.56,0.37,12.76,30.29,30.9,17.43,15.45,11.76,9.96,31.88,11.5,28.46,14.75,31.95,29.19,16.13,1.47,30.98,2.08,1.41,32.99,1.24,28.85,34.29,15.81,15.0,1.82,15.09,15.51,12.59,31.86,15.33,13.88,14.63,14.22,1.05,13.06,2.4,13.24,16.18,30.49,0.59,2.72,15.09,16.5,0.0,0.0,1.3,30.03,14.11,0.0,29.64,28.28,0.9,10.5,13.68,29.34,33.09,30.97,14.62,30.62,29.37,28.46,31.36,13.63,28.91,31.29,12.69,1.8,0.19,14.92,1.39,0.0,12.85,0.8,14.72,11.78,0.57,11.3,0.42,16.63,15.26,31.39,0.18,33.57,11.14,18.11,2.49,14.64,15.07,13.62,16.34,30.17,0.77,0.67,0.09,0.69,30.9,31.38,16.02,0.91,14.92,0.0,0.81,0.53,17.27,30.09,30.66,33.81,19.54,14.28,14.49,2.19,14.59,15.62,15.78,13.49,27.86,10.44,0.2,15.9,13.58,0.0,13.68,0.81,16.03,31.56,17.29,14.29,1.43,14.31,31.91,0.0,1.77,15.71,12.23,12.44,13.8,30.84,29.76,13.99,29.94,0.21,30.94,15.72,12.05,31.06,14.1,29.13,14.26,31.39,11.36,33.36,14.01,0.47,0.72,0.54,15.84,10.91,1.28,27.97,27.4,27.36,0.0,32.9,32.51,16.61,13.15,0.59,28.6,12.48,31.1,31.05,27.3,0.95,28.94,11.25,0.54,13.15,27.53,15.06,30.76,15.22,0.75,13.51,16.8,15.38,13.94,14.06,14.38,0.57,1.43,0.0,2.51,13.75,0.26,1.96,29.79,13.13,28.56,16.95,30.36,2.09,0.05,17.39,0.36,28.58,31.19,28.99,18.97,10.62,12.44,0.42,0.42,15.66,0.34,31.15,27.13,0.8,30.34,29.91,9.54,29.47,31.94,12.12,1.7,15.79,14.7,1.08,2.82,0.29,15.48,13.23,0.7,15.33,0.0,2.37,0.38,13.64,11.81,11.96,12.31,29.35,30.21,1.88,1.11,15.72,0.0,14.84,32.61,14.93,0.9,31.83,15.06,12.68,32.51,11.72,19.28,14.27,17.78,0.13,1.06,31.34,11.24,12.91,15.3,30.33,13.83,28.56,16.85,14.85,16.3,0.41,1.61,16.16,13.86,2.42,0.55,1.94,34.58,27.42,1.82,1.11,1.66,10.78,30.35,16.64,15.31,17.62,13.59,0.06,14.18,29.77,24.67,15.87,14.81,14.72,16.86,0.26,14.62,26.99,31.33,12.72,0.0,28.35,8.48,3.05,0.34,31.59,13.61,14.51,17.22,1.14,15.98,1.62,32.78,31.04,0.92,14.63,28.95,28.25,12.2,12.77,2.02,11.86,13.61,9.82,0.0,31.99,12.89,30.39,11.93,1.72,29.17,1.64,13.65,17.35,17.79,12.75,12.62,13.15,13.9,11.8,2.09,9.65,16.47,1.71,16.33,0.0,14.83,29.24,31.3,30.64,0.0,0.37,29.75,11.75,0.96,27.69,13.51,30.0,15.13,1.31,10.9,30.03,32.89,1.84,1.09,12.7,0.18,31.39,10.17,29.71,13.71,1.04,1.85,2.35,13.83,14.45,30.8,0.36,30.15,18.34,14.91,0.0,0.96,27.87,27.97,12.3,0.0,15.5,18.01,0.61,32.69,15.54,0.39,2.27,15.94,11.7,15.68,14.58,16.41,13.63,32.31,17.28,0.96,0.68,13.13,14.45,0.51,0.19,10.01,14.44,13.98,30.58,13.57,14.48,0.99,4.1,17.36,12.61,31.23,0.0,28.18,25.53,0.32,30.58,14.42,15.49,18.61,13.76,1.06,12.96,0.79,13.82,14.97,31.47,30.25,13.91,0.28,27.09,0.89,28.42,0.0,0.04,31.02,31.99,33.73,28.55,0.0,14.57,8.18,13.06,7.86,14.06,1.04,10.91,2.2,14.94,31.53,31.81,1.48,0.57,33.75,15.85,12.06,0.29,28.68,17.28,16.46,12.1,0.0,1.01,0.78,3.19,1.59,2.61,12.52,3.06,0.2,31.28,3.06,15.15,1.89,1.94,17.32,15.81,0.42,33.45,13.02,35.01,33.69,15.79,15.21,11.62,14.19,18.26,28.23,15.52,1.41,0.03,11.7,12.87,31.89,15.56,14.3,2.12,0.62,16.61,0.05,28.36,32.47,11.47,15.65,14.49,1.43,14.01,1.09,0.35,12.7,1.12,12.14,14.86,10.17,15.39,0.0,11.23,14.83,28.0,1.66,15.76,14.35,16.29,0.25,1.8,27.72,30.45,31.29,10.44,14.69,29.51,15.53,29.61,0.64,31.03,18.5,0.0,2.02,13.34,15.2,0.32,16.71,27.98,11.19,14.3,15.96,30.15,31.63,10.82,14.55,13.97,14.95,1.43,29.21,10.74,14.51,9.95,14.61,0.41,1.21,27.83,0.0,16.66,31.78,27.93,1.12,28.93,0.86,32.51,11.8,0.62,14.71,12.61,16.03,19.44,29.0,9.91,28.36,10.65,30.14,0.37,10.46,0.48,12.37,0.8,14.68,16.55,13.96,13.54,30.64,14.29,0.0,30.11,29.61,34.45,30.76,12.31,28.88,11.32,10.46,32.67,16.56,14.1,14.02,13.56,26.54,0.07,0.23,1.82,12.61,13.58,3.06,31.38,19.89,15.48,13.71,14.0,11.5,16.34,28.58,16.21,15.02,27.62,30.13,1.76,28.69,16.2,10.16,0.69,1.83,11.05,14.22,28.88,12.47,12.95,33.2,0.04,13.12,3.23,16.06,15.26,0.02,0.07,29.85,15.8,15.67,15.96,13.21,0.0,12.37,31.64,29.53,27.16,15.74,0.5,0.18,27.35,15.78,13.07,16.84,12.28,14.35,14.83,11.79,10.09,13.62,32.56,30.11,14.8,0.75,0.28,15.39,13.83,12.67,13.99,34.16,1.08,34.03,0.0,16.19,0.3,0.27,30.65,11.47,30.86,15.0,31.64,1.29,0.73,10.61,30.94,29.15,33.29,28.98,0.94,2.02,0.8,15.54,0.57,16.65,1.69,29.26,2.76,11.67,30.57,29.23,35.17,13.59,11.26,13.02,13.93,32.87,2.13,14.26,0.86,14.28,0.78,30.89,32.34,0.73,11.73,33.24,14.34,0.13,33.09,8.97,17.01,18.71,28.81,12.34,0.0,29.7,11.75,31.95,2.18,13.77,19.79,12.02,15.55,14.79,0.03,1.51,17.91,15.28,14.96,28.35,14.31,2.68,31.11,14.66,13.18,11.64,29.76,12.67,17.91,26.8,2.08,12.47,30.79,0.0,12.23,0.48,15.33,0.63,2.62,33.0,1.13,13.2,1.15,12.53,0.07,18.14,0.33,19.45,31.88,29.91,1.67,1.66,11.62,13.9,32.43,2.29,29.86,11.99,33.63,1.24,0.73,0.41,11.71,2.51,0.84,13.15,31.6,30.82,31.52,1.55,10.06,0.1,0.0,1.14,2.63,33.04,28.79,13.32,30.5,16.63,0.71,1.26,24.87,15.44,26.31,28.59,16.3,13.36,0.65,33.0,0.44,33.48,17.42,15.1,1.54,14.66,29.23,32.12,0.87,0.15,1.44,13.53,1.26,13.78,12.54,0.59,29.94,15.53,33.05,0.45,30.65,16.71,1.02,2.1,0.65,27.98,0.0,12.93,30.23,1.27,15.4,31.71,13.54,2.34,14.29,16.01,14.27,13.27,31.03,12.79,1.69,25.76,13.14,15.48,32.36,1.37,0.37,15.07,0.82,13.55,30.44,14.74,11.27,0.2,31.07,14.14,0.12,28.78,28.82,1.16,16.32,17.26,12.8,0.19,14.94,20.89,1.48,17.54,0.05,12.88,14.21,12.12,10.89,30.52,12.88,13.81,12.54,1.23,9.63,0.79,31.57,15.6,13.51,30.18,0.94,11.0,1.33,29.41,32.4,13.11,33.7,0.55,12.14,1.88,11.84,0.76,2.36,31.43,14.13,12.71,11.88,14.59,0.09,13.91,16.06,12.16,16.4,13.95,1.07,1.17,30.87,10.84,13.77,16.4,12.96,1.0,27.26,13.54,15.28,1.86,0.28,0.13,13.68,13.61,28.36,0.49,14.63,3.44,13.01,0.96,27.41,28.03,14.69,13.95,1.19,29.72,27.02,27.42,0.29,31.02,11.62,31.24,0.37,32.35,29.49,29.8,0.09,2.42,25.97,12.24,28.93,29.3,17.41,30.25,30.61,31.12,12.06,0.0,15.29,0.53,1.69,0.27,14.68,32.86,32.14,0.87,12.82,16.4,13.69,0.84,12.97,27.57,30.11,13.93,15.31,1.15,15.63,1.13,17.36,15.72,0.0,0.24,15.22,13.63,0.38,30.72,10.81,0.0,1.03,28.01,0.07,0.19,29.26,31.38,18.72,27.28,29.06,35.03,16.14,15.54,1.07,13.43,2.56,1.32,12.01,12.86,30.5,0.73,30.15,13.67,13.62,13.37,13.12,15.03,30.02,29.87,18.49,11.74,30.13,35.02,1.5,0.3,28.98,29.8,14.75,14.43,1.41,0.0,1.97,15.06,28.54,12.41,0.18,30.29,0.81,27.84,28.95,1.29,28.93,0.07,11.75,31.69,2.21,1.94,15.01,0.24,15.08,15.23,31.11,13.76,14.65,29.67,1.52,2.27,0.97,16.02,0.98,0.0,1.7,14.43,16.7,0.0,29.24,12.44,1.26,15.48,28.82,30.79,27.41,25.98,31.88,11.36,14.32,0.44,9.61,16.1,31.3,0.68,7.97,16.68,29.47,31.06,11.56,13.81,29.74,13.31,24.19,9.98,27.88,14.73,31.56,10.76,1.55,18.01,27.86,1.14,16.85,30.72,14.41,2.82,12.02,12.5,14.43,0.67,0.88,2.01,15.18,0.34,0.0,12.8,12.11,0.7,29.45,2.51,14.72,11.93,27.61,16.79,28.93,29.92,15.44,31.4,15.24,30.72,29.77,12.78,27.22,12.29,14.7,12.9,2.72,29.64,13.26,28.73,0.06,0.48,12.81,13.42,0.18,29.33,27.49,27.71,14.41,16.08,30.95,1.43,12.21,12.18,29.79,28.28,30.11,0.36,13.86,13.21,0.4,0.49,33.09,0.14,17.71,13.27,16.48,1.56,12.64,1.16,28.5,0.43,13.73,12.94,0.48,31.15,2.54,0.7,0.8,30.25,12.76,28.87,29.65,0.06,29.11,15.93,32.82,16.17,29.97,1.57,30.15,2.22,11.99,32.66,0.57,12.26,27.68,29.32,12.16,2.23,1.2,29.63,1.54,13.67,12.99,1.2,14.54,13.46,2.23,28.31,12.9,14.57,14.49,31.49,1.06,12.87,29.88,13.68,0.52,15.66,32.25,13.17,15.19,1.79,17.62,0.38,32.03,0.12,30.7,0.58,16.04,0.35,2.79,29.66,1.35,16.52,14.43,35.62,1.03,1.01,28.38,15.07,12.41,14.24,28.67,17.69,28.39,31.78,13.15,0.98,2.22,12.03,0.17,13.91,13.96,1.06,15.08,0.0,32.8,1.23,30.43,12.49,0.94,1.0,2.62,17.18,12.11,14.06,2.74,1.1,28.89,11.52,30.34,0.0,11.92,28.45,30.2,13.14,14.74,0.53,0.99,0.77,12.78,15.94,14.32,0.69,30.62,29.4,30.95,31.58,14.94,29.9,10.69,0.5,1.08,31.8,12.29,15.6,17.36,30.57,11.75,30.17,30.76,12.88,14.21,17.27,12.15,31.06,2.11,14.5,13.49,28.56,0.79,1.67,13.16,13.94,32.09,14.81,2.42,10.61,2.13,3.09,14.01,29.32,0.74,12.06,0.13,12.32,29.24,12.94,0.14,31.8,15.53,2.62,29.34,0.28,33.35,30.55,15.27,12.73,2.86,12.89,29.36,13.33,28.21,12.51,15.13,2.49,32.8,34.06,0.84,9.41,19.31,28.42,0.76,33.53,31.48,1.67,29.37,13.1,0.61,14.68,2.07,0.0,2.45,29.01,0.47,27.46,13.79,0.91,15.42,3.18,29.62,16.46,28.59,0.91,15.68,17.24,31.27,28.8,14.58,9.64,29.3,0.64,30.22,11.56,1.56,15.35,0.06,0.81,30.17,15.47,12.58,26.06,0.82,31.01,15.44,13.74,29.01,13.17,1.33,13.75,30.52,1.06,29.45,30.65,1.14,11.7,16.59,12.87,0.71,32.56,0.01,30.24,0.0,2.36,15.29,28.54,0.5,12.21,31.58,16.32,29.01,0.2,11.97,10.92,3.16,2.14,29.32,2.37,28.26,2.6,0.0,1.36,10.56,11.64,14.58,12.96,16.2,1.09,29.41,17.19,0.34,2.19,1.05,27.57,14.54,1.37,14.46,10.9,31.49,0.0,0.58,28.44,10.83,13.91,33.64,9.51,1.43,11.43,13.12,12.31,27.04,14.0,11.52,18.26,29.15,3.33,1.22,30.61,2.82,14.4,1.22,1.04,29.2,15.45,30.72,0.88,15.28,14.97,30.42,0.0,0.0,0.07,27.7,33.54,16.37,15.41,17.03,17.67,27.87,26.64,0.02,0.64,33.23,14.7,0.29,30.17,30.25,11.54,1.18,16.33,18.89,28.68,1.22,1.03,1.51,12.99,1.24,2.93,0.25,12.58,0.0,12.45,12.33,14.86,15.12,29.72,13.51,15.67,1.22,31.52,30.38,13.52,0.94,12.42,13.38,13.59,1.65,11.06,13.62,2.04,12.67,1.22,0.77,12.92,14.38,12.03,13.57,11.48,14.77,14.07,13.86,0.04,28.45,34.97,15.15,12.72,13.6,0.1,29.09,0.9,30.24,0.39,29.57,0.62,34.03,31.4,29.2,13.73,17.29,12.3,15.5,30.98,13.8,31.08,30.31,25.79,29.74,28.77,11.05,12.69,1.43,0.79,28.93,1.91,14.02,32.49,15.56,0.47,17.74,12.07,10.76,13.79,0.0,0.29,28.78,25.99,16.66,0.0,1.61,14.9,11.97,30.76,13.39,30.69,31.07,0.61,28.17,14.14,13.53,15.76,14.47,16.74,0.0,1.05,14.78,31.74,11.04,1.57,1.66,1.75,17.9,12.07,10.97,25.69,1.03,14.7,0.0,14.48,17.22,1.29,33.38,30.25,15.16,0.59,28.23,28.34,13.91,31.71,14.94,27.07,12.69,13.55,15.59,14.45,1.57,13.49,27.9,1.67,0.96,14.72,0.48,0.29,10.85,30.15,14.52,32.24,11.89,1.2,32.29,33.75,0.0,16.19,0.0,14.94,33.55,14.58,0.12,15.58,26.43,0.0,2.11,27.41,27.51,0.5,30.4,31.96,12.63,28.62,14.52,30.36,0.55,14.58,29.64,0.57,30.24,13.91,0.18,1.43,15.57,1.89,12.59,31.59,11.98,28.82,30.63,12.94,29.82,0.98,29.93,14.38,15.21,30.51,10.84,14.56,2.25,29.13,33.33,29.18,1.4,14.91,12.72,29.54,24.62,13.42,13.86,0.35,3.45,11.15,30.35,12.3,33.67,2.34,30.17,0.66,10.54,0.59,31.01,1.2,2.4,15.6,15.93,30.41,0.0,2.29,0.0,28.54,0.0,29.28,0.0,0.0,29.02,30.7,14.46,13.87,0.07,11.81,13.88,11.72,28.28,33.01,2.38,32.02,12.28,10.18,12.79,13.62,16.96,14.99,13.29,32.23,27.66,12.86,30.61,31.51,14.02,2.93,1.24,2.19,29.7,1.71,16.58,32.15,31.22,15.64,0.4,13.46,27.77,0.82,32.08,1.55,16.72,29.44,0.0,14.41,28.97,0.98,2.1,31.0,14.22,0.44,0.0,15.64,1.34,32.21,31.02,0.0,28.05,0.0,0.51,13.73,29.58,0.85,1.68,1.52,11.46,30.02,12.86,0.73,0.88,13.85,31.83,13.53,14.44,13.06,29.78,13.7,15.19,1.28,32.47,13.08,15.21,16.42,13.78,1.66,0.94,0.82,28.12,0.04,12.02,15.91,16.9,1.15,29.09,0.15,31.61,30.0,30.64,17.26,12.93,27.87,0.7,13.5,33.06,2.3,15.31,33.64,29.43,28.06,1.59,1.67,13.54,0.79,14.05,15.35,13.15,28.68,28.25,9.44,0.61,11.43,29.82,27.11,0.0,15.91,12.01,11.57,29.48,15.79,0.6,15.46,10.43,0.69,16.63,12.58,15.59,31.39,32.54,28.48,13.3,14.25,0.27,31.76,0.7,13.85,12.57,29.65,31.86,1.16,0.62,2.9,9.55,28.42,13.85,1.18,12.59,0.39,30.16,24.67,14.12,30.28,13.55,30.17,12.32,31.38,13.01,13.76,1.06,29.06,16.96,0.0,31.31,32.62,12.58,28.45,32.16,15.81,31.03,15.23,29.12,0.69,14.47,10.7,13.58,32.69,0.34,32.21,11.42,13.95,15.12,10.43,34.46,32.16,15.22,1.31,30.85,18.53,30.34,11.94,14.09,2.88,14.73,12.23,14.15,16.57,0.65,14.01,1.13,29.61,14.43,0.21,27.44,15.42,2.21,1.1,13.91,15.48,14.09,1.93,30.7,0.82,28.31,28.69,1.75,11.88,11.02,0.59,31.55,0.69,14.74,13.89,14.61,0.26,12.79,0.56,14.07,15.07,0.5,13.39,15.98,0.87,12.06,1.58,16.87,1.36,31.41,1.55,13.43,28.6,29.54,2.47,1.29,29.69,0.43,14.35,16.51,1.15,13.04,1.9,1.4,10.47,1.11,15.54,32.96,31.83,1.69,15.52,14.68,0.29,30.25,17.54,12.28,0.0,30.82,29.43,2.4,1.59,15.81,0.35,15.04,0.01,33.6,0.58,1.04,15.49,13.56,0.0,1.97,30.31,31.63,2.9,11.45,10.25,1.2,31.25,14.58,1.1,0.0,3.17,16.96,31.79,31.93,11.99,0.23,1.98,29.17,30.83,13.15,13.38,29.93,0.22,28.41,0.78,31.85,15.26,27.85,1.18,0.66,0.77,14.01,27.98,16.49,2.5,0.78,2.11,0.33,12.34,13.28,2.28,0.97,14.34,0.38,15.17,11.29,19.11,27.74,0.14,0.0,30.13,29.97,30.96,1.28,13.54,10.49,0.93,0.95,30.59,15.66,1.81,15.81,14.79,1.43,14.28,15.8,8.56,0.82,13.26,14.5,14.51,10.78,0.55,11.7,1.09,9.29,13.1,27.45,0.87,1.3,33.7,16.42,18.15,13.87,32.54,14.8,2.92,16.6,12.78,15.17,13.84,28.09,30.65,1.06,29.45,12.99,31.7,13.62,0.89,13.25,30.08,16.9,12.65,28.71,17.48,0.14,29.4,2.34,28.95,0.58,9.51,16.63,14.33,0.0,0.57,14.49,27.38,13.51,31.05,1.7,1.19,0.0,0.54,13.11,26.98,1.56,1.41,11.61,15.81,29.35,16.18,0.44,12.99,12.75,12.83,13.32,0.0,0.95,0.6,29.02,14.76,1.48,28.18,11.85,13.16,0.0,17.6,16.61,1.2,0.07,32.37,0.21,1.94,31.19,31.04,9.9,31.5,2.63,1.45,1.09,0.95,31.83,0.94,0.16,10.55,15.96,11.58,29.67,14.92,29.83,12.62,0.49,23.78,0.5,10.67,1.86,14.39,28.16,12.92,30.61,1.59,0.15,31.39,30.16,15.84,0.73,31.99,31.54,8.6,1.24,17.43,28.51,0.97,0.19,0.59,19.08,31.4,1.2,0.83,13.84,1.7,29.33,31.67,13.34,16.38,0.45,0.21,13.91,33.77,11.3,32.41,0.87,0.0,15.14,14.64,1.47,12.95,11.96,29.77,30.43,14.76,11.38,32.87,13.16,0.0,9.91,12.0,13.94,1.15,2.04,2.03,31.82,35.37,31.8,13.32,0.8,27.97,30.13,1.26,25.43,0.67,13.04,0.8,31.36,14.07,0.34,0.61,11.87,14.83,1.25,28.87,31.55,16.31,30.29,14.48,12.51,2.82,29.53,33.33,0.62,31.61,29.13,15.89,10.42,28.48,15.21,10.84,32.38,30.87,13.81,29.38,30.59,1.21,30.89,10.5,29.82,16.63,27.03,12.78,12.93,14.49,27.34,31.17,34.25,31.61,29.4,12.84,12.93,15.96,0.34,29.2,13.35,15.34,14.54,28.0,2.18,29.6,28.32,1.93,30.03,14.28,30.67,10.66,0.41,29.3,30.84,0.66,29.5,27.2,13.59,0.22,12.27,30.07,0.07,1.7,0.01,12.86,14.87,12.04,12.89,14.98,0.62,29.67,27.14,3.17,11.32,0.38,32.35,2.35,1.95,0.16,15.54,14.54,1.16,12.48,10.67,28.23,2.48,29.85,14.67,27.62,15.67,13.55,0.29,33.34,13.23,30.73,14.51,14.94,15.99,29.21,2.2,0.44,1.77,13.86,29.8,28.85,12.88,13.47,11.82,26.21,29.21,0.3,30.83,0.97,10.97,0.69,1.2,0.0,11.85,31.8,32.67,29.78,12.05,29.95,12.15,35.35,30.38,29.37,15.17,1.18,13.11,13.68,10.08,0.35,1.18,28.11,15.93,11.8,15.56,32.4,10.32,13.78,0.0,16.64,28.17,0.0,0.48,14.53,17.24,0.75,0.0,0.99,12.04,27.35,0.08,2.18,1.08,30.87,2.12,13.45,27.17,30.0,0.03,30.02,11.9,3.62,15.01,31.99,0.0,14.5,0.99,1.36,15.89,0.31,31.55,2.93,1.31,1.53,30.2,12.53,11.72,31.87,13.15,32.33,13.13,14.82,17.25,13.08,14.68,15.22,14.12,30.19,1.29,1.28,0.92,3.83,0.0,27.74,0.42,14.06,11.48,32.74,15.29,10.0,10.93,1.71,1.76,12.87,15.2,12.67,11.01,29.63,0.76,0.0,16.29,16.55,12.32,15.51,29.69,1.55,15.51,2.0,0.46,14.22,17.18,28.4,31.62,10.81,13.86,12.02,14.74,14.11,10.75,28.79,12.98,31.29,0.97,2.31,0.02,30.29,14.78,32.46,14.56,2.74,15.61,0.01,1.79,16.17,33.1,14.63,1.03,12.01,13.45,31.4,2.06,30.43,27.06,0.04,14.3,31.92,15.33,1.12,30.54,29.46,10.54,27.66,0.0,11.78,0.94,0.77,2.03,13.68,17.73,27.99,0.54,28.57,1.67,11.04,1.39,32.85,0.5,28.2,14.07,29.59,14.95,30.06,29.97,0.06,27.02,0.15,33.79,12.61,29.47,1.95,33.92,16.74,0.94,1.26,10.03,1.97,31.14,10.21,13.23,0.06,0.01,0.81,10.85,28.8,14.27,15.4,25.96,16.34,0.66,12.69]}],\"hovertemplate\":\"%{xaxis.title.text}=%{x}\\u003cbr\\u003e%{yaxis.title.text}=%{y}\\u003cextra\\u003e\\u003c\\u002fextra\\u003e\",\"legendgroup\":\"\",\"marker\":{\"color\":\"#636efa\",\"symbol\":\"circle\"},\"name\":\"\",\"showlegend\":false,\"type\":\"splom\"}],                        {\"template\":{\"data\":{\"histogram2dcontour\":[{\"type\":\"histogram2dcontour\",\"colorbar\":{\"outlinewidth\":0,\"ticks\":\"\"},\"colorscale\":[[0.0,\"#0d0887\"],[0.1111111111111111,\"#46039f\"],[0.2222222222222222,\"#7201a8\"],[0.3333333333333333,\"#9c179e\"],[0.4444444444444444,\"#bd3786\"],[0.5555555555555556,\"#d8576b\"],[0.6666666666666666,\"#ed7953\"],[0.7777777777777778,\"#fb9f3a\"],[0.8888888888888888,\"#fdca26\"],[1.0,\"#f0f921\"]]}],\"choropleth\":[{\"type\":\"choropleth\",\"colorbar\":{\"outlinewidth\":0,\"ticks\":\"\"}}],\"histogram2d\":[{\"type\":\"histogram2d\",\"colorbar\":{\"outlinewidth\":0,\"ticks\":\"\"},\"colorscale\":[[0.0,\"#0d0887\"],[0.1111111111111111,\"#46039f\"],[0.2222222222222222,\"#7201a8\"],[0.3333333333333333,\"#9c179e\"],[0.4444444444444444,\"#bd3786\"],[0.5555555555555556,\"#d8576b\"],[0.6666666666666666,\"#ed7953\"],[0.7777777777777778,\"#fb9f3a\"],[0.8888888888888888,\"#fdca26\"],[1.0,\"#f0f921\"]]}],\"heatmap\":[{\"type\":\"heatmap\",\"colorbar\":{\"outlinewidth\":0,\"ticks\":\"\"},\"colorscale\":[[0.0,\"#0d0887\"],[0.1111111111111111,\"#46039f\"],[0.2222222222222222,\"#7201a8\"],[0.3333333333333333,\"#9c179e\"],[0.4444444444444444,\"#bd3786\"],[0.5555555555555556,\"#d8576b\"],[0.6666666666666666,\"#ed7953\"],[0.7777777777777778,\"#fb9f3a\"],[0.8888888888888888,\"#fdca26\"],[1.0,\"#f0f921\"]]}],\"heatmapgl\":[{\"type\":\"heatmapgl\",\"colorbar\":{\"outlinewidth\":0,\"ticks\":\"\"},\"colorscale\":[[0.0,\"#0d0887\"],[0.1111111111111111,\"#46039f\"],[0.2222222222222222,\"#7201a8\"],[0.3333333333333333,\"#9c179e\"],[0.4444444444444444,\"#bd3786\"],[0.5555555555555556,\"#d8576b\"],[0.6666666666666666,\"#ed7953\"],[0.7777777777777778,\"#fb9f3a\"],[0.8888888888888888,\"#fdca26\"],[1.0,\"#f0f921\"]]}],\"contourcarpet\":[{\"type\":\"contourcarpet\",\"colorbar\":{\"outlinewidth\":0,\"ticks\":\"\"}}],\"contour\":[{\"type\":\"contour\",\"colorbar\":{\"outlinewidth\":0,\"ticks\":\"\"},\"colorscale\":[[0.0,\"#0d0887\"],[0.1111111111111111,\"#46039f\"],[0.2222222222222222,\"#7201a8\"],[0.3333333333333333,\"#9c179e\"],[0.4444444444444444,\"#bd3786\"],[0.5555555555555556,\"#d8576b\"],[0.6666666666666666,\"#ed7953\"],[0.7777777777777778,\"#fb9f3a\"],[0.8888888888888888,\"#fdca26\"],[1.0,\"#f0f921\"]]}],\"surface\":[{\"type\":\"surface\",\"colorbar\":{\"outlinewidth\":0,\"ticks\":\"\"},\"colorscale\":[[0.0,\"#0d0887\"],[0.1111111111111111,\"#46039f\"],[0.2222222222222222,\"#7201a8\"],[0.3333333333333333,\"#9c179e\"],[0.4444444444444444,\"#bd3786\"],[0.5555555555555556,\"#d8576b\"],[0.6666666666666666,\"#ed7953\"],[0.7777777777777778,\"#fb9f3a\"],[0.8888888888888888,\"#fdca26\"],[1.0,\"#f0f921\"]]}],\"mesh3d\":[{\"type\":\"mesh3d\",\"colorbar\":{\"outlinewidth\":0,\"ticks\":\"\"}}],\"scatter\":[{\"fillpattern\":{\"fillmode\":\"overlay\",\"size\":10,\"solidity\":0.2},\"type\":\"scatter\"}],\"parcoords\":[{\"type\":\"parcoords\",\"line\":{\"colorbar\":{\"outlinewidth\":0,\"ticks\":\"\"}}}],\"scatterpolargl\":[{\"type\":\"scatterpolargl\",\"marker\":{\"colorbar\":{\"outlinewidth\":0,\"ticks\":\"\"}}}],\"bar\":[{\"error_x\":{\"color\":\"#2a3f5f\"},\"error_y\":{\"color\":\"#2a3f5f\"},\"marker\":{\"line\":{\"color\":\"#E5ECF6\",\"width\":0.5},\"pattern\":{\"fillmode\":\"overlay\",\"size\":10,\"solidity\":0.2}},\"type\":\"bar\"}],\"scattergeo\":[{\"type\":\"scattergeo\",\"marker\":{\"colorbar\":{\"outlinewidth\":0,\"ticks\":\"\"}}}],\"scatterpolar\":[{\"type\":\"scatterpolar\",\"marker\":{\"colorbar\":{\"outlinewidth\":0,\"ticks\":\"\"}}}],\"histogram\":[{\"marker\":{\"pattern\":{\"fillmode\":\"overlay\",\"size\":10,\"solidity\":0.2}},\"type\":\"histogram\"}],\"scattergl\":[{\"type\":\"scattergl\",\"marker\":{\"colorbar\":{\"outlinewidth\":0,\"ticks\":\"\"}}}],\"scatter3d\":[{\"type\":\"scatter3d\",\"line\":{\"colorbar\":{\"outlinewidth\":0,\"ticks\":\"\"}},\"marker\":{\"colorbar\":{\"outlinewidth\":0,\"ticks\":\"\"}}}],\"scattermapbox\":[{\"type\":\"scattermapbox\",\"marker\":{\"colorbar\":{\"outlinewidth\":0,\"ticks\":\"\"}}}],\"scatterternary\":[{\"type\":\"scatterternary\",\"marker\":{\"colorbar\":{\"outlinewidth\":0,\"ticks\":\"\"}}}],\"scattercarpet\":[{\"type\":\"scattercarpet\",\"marker\":{\"colorbar\":{\"outlinewidth\":0,\"ticks\":\"\"}}}],\"carpet\":[{\"aaxis\":{\"endlinecolor\":\"#2a3f5f\",\"gridcolor\":\"white\",\"linecolor\":\"white\",\"minorgridcolor\":\"white\",\"startlinecolor\":\"#2a3f5f\"},\"baxis\":{\"endlinecolor\":\"#2a3f5f\",\"gridcolor\":\"white\",\"linecolor\":\"white\",\"minorgridcolor\":\"white\",\"startlinecolor\":\"#2a3f5f\"},\"type\":\"carpet\"}],\"table\":[{\"cells\":{\"fill\":{\"color\":\"#EBF0F8\"},\"line\":{\"color\":\"white\"}},\"header\":{\"fill\":{\"color\":\"#C8D4E3\"},\"line\":{\"color\":\"white\"}},\"type\":\"table\"}],\"barpolar\":[{\"marker\":{\"line\":{\"color\":\"#E5ECF6\",\"width\":0.5},\"pattern\":{\"fillmode\":\"overlay\",\"size\":10,\"solidity\":0.2}},\"type\":\"barpolar\"}],\"pie\":[{\"automargin\":true,\"type\":\"pie\"}]},\"layout\":{\"autotypenumbers\":\"strict\",\"colorway\":[\"#636efa\",\"#EF553B\",\"#00cc96\",\"#ab63fa\",\"#FFA15A\",\"#19d3f3\",\"#FF6692\",\"#B6E880\",\"#FF97FF\",\"#FECB52\"],\"font\":{\"color\":\"#2a3f5f\"},\"hovermode\":\"closest\",\"hoverlabel\":{\"align\":\"left\"},\"paper_bgcolor\":\"white\",\"plot_bgcolor\":\"#E5ECF6\",\"polar\":{\"bgcolor\":\"#E5ECF6\",\"angularaxis\":{\"gridcolor\":\"white\",\"linecolor\":\"white\",\"ticks\":\"\"},\"radialaxis\":{\"gridcolor\":\"white\",\"linecolor\":\"white\",\"ticks\":\"\"}},\"ternary\":{\"bgcolor\":\"#E5ECF6\",\"aaxis\":{\"gridcolor\":\"white\",\"linecolor\":\"white\",\"ticks\":\"\"},\"baxis\":{\"gridcolor\":\"white\",\"linecolor\":\"white\",\"ticks\":\"\"},\"caxis\":{\"gridcolor\":\"white\",\"linecolor\":\"white\",\"ticks\":\"\"}},\"coloraxis\":{\"colorbar\":{\"outlinewidth\":0,\"ticks\":\"\"}},\"colorscale\":{\"sequential\":[[0.0,\"#0d0887\"],[0.1111111111111111,\"#46039f\"],[0.2222222222222222,\"#7201a8\"],[0.3333333333333333,\"#9c179e\"],[0.4444444444444444,\"#bd3786\"],[0.5555555555555556,\"#d8576b\"],[0.6666666666666666,\"#ed7953\"],[0.7777777777777778,\"#fb9f3a\"],[0.8888888888888888,\"#fdca26\"],[1.0,\"#f0f921\"]],\"sequentialminus\":[[0.0,\"#0d0887\"],[0.1111111111111111,\"#46039f\"],[0.2222222222222222,\"#7201a8\"],[0.3333333333333333,\"#9c179e\"],[0.4444444444444444,\"#bd3786\"],[0.5555555555555556,\"#d8576b\"],[0.6666666666666666,\"#ed7953\"],[0.7777777777777778,\"#fb9f3a\"],[0.8888888888888888,\"#fdca26\"],[1.0,\"#f0f921\"]],\"diverging\":[[0,\"#8e0152\"],[0.1,\"#c51b7d\"],[0.2,\"#de77ae\"],[0.3,\"#f1b6da\"],[0.4,\"#fde0ef\"],[0.5,\"#f7f7f7\"],[0.6,\"#e6f5d0\"],[0.7,\"#b8e186\"],[0.8,\"#7fbc41\"],[0.9,\"#4d9221\"],[1,\"#276419\"]]},\"xaxis\":{\"gridcolor\":\"white\",\"linecolor\":\"white\",\"ticks\":\"\",\"title\":{\"standoff\":15},\"zerolinecolor\":\"white\",\"automargin\":true,\"zerolinewidth\":2},\"yaxis\":{\"gridcolor\":\"white\",\"linecolor\":\"white\",\"ticks\":\"\",\"title\":{\"standoff\":15},\"zerolinecolor\":\"white\",\"automargin\":true,\"zerolinewidth\":2},\"scene\":{\"xaxis\":{\"backgroundcolor\":\"#E5ECF6\",\"gridcolor\":\"white\",\"linecolor\":\"white\",\"showbackground\":true,\"ticks\":\"\",\"zerolinecolor\":\"white\",\"gridwidth\":2},\"yaxis\":{\"backgroundcolor\":\"#E5ECF6\",\"gridcolor\":\"white\",\"linecolor\":\"white\",\"showbackground\":true,\"ticks\":\"\",\"zerolinecolor\":\"white\",\"gridwidth\":2},\"zaxis\":{\"backgroundcolor\":\"#E5ECF6\",\"gridcolor\":\"white\",\"linecolor\":\"white\",\"showbackground\":true,\"ticks\":\"\",\"zerolinecolor\":\"white\",\"gridwidth\":2}},\"shapedefaults\":{\"line\":{\"color\":\"#2a3f5f\"}},\"annotationdefaults\":{\"arrowcolor\":\"#2a3f5f\",\"arrowhead\":0,\"arrowwidth\":1},\"geo\":{\"bgcolor\":\"white\",\"landcolor\":\"#E5ECF6\",\"subunitcolor\":\"white\",\"showland\":true,\"showlakes\":true,\"lakecolor\":\"white\"},\"title\":{\"x\":0.05},\"mapbox\":{\"style\":\"light\"}}},\"legend\":{\"tracegroupgap\":0},\"margin\":{\"t\":60},\"dragmode\":\"select\",\"height\":1200},                        {\"responsive\": true}                    ).then(function(){\n",
              "                            \n",
              "var gd = document.getElementById('8ce9dc21-6909-48f7-bb55-d20495cfef11');\n",
              "var x = new MutationObserver(function (mutations, observer) {{\n",
              "        var display = window.getComputedStyle(gd).display;\n",
              "        if (!display || display === 'none') {{\n",
              "            console.log([gd, 'removed!']);\n",
              "            Plotly.purge(gd);\n",
              "            observer.disconnect();\n",
              "        }}\n",
              "}});\n",
              "\n",
              "// Listen for the removal of the full notebook cells\n",
              "var notebookContainer = gd.closest('#notebook-container');\n",
              "if (notebookContainer) {{\n",
              "    x.observe(notebookContainer, {childList: true});\n",
              "}}\n",
              "\n",
              "// Listen for the clearing of the current output cell\n",
              "var outputEl = gd.closest('.output');\n",
              "if (outputEl) {{\n",
              "    x.observe(outputEl, {childList: true});\n",
              "}}\n",
              "\n",
              "                        })                };                            </script>        </div>\n",
              "</body>\n",
              "</html>"
            ]
          },
          "metadata": {}
        }
      ]
    },
    {
      "cell_type": "markdown",
      "source": [
        "<details>\n",
        "<summary>Show Solution</summary>\n",
        "\n",
        "```python\n",
        "# Splom\n",
        "import plotly.express as px\n",
        "\n",
        "fig = px.scatter_matrix(ndf_list, height=1200)\n",
        "fig.show()\n",
        "\n",
        "```\n",
        "</details>"
      ],
      "metadata": {
        "id": "MykxERdlj_i4"
      },
      "id": "MykxERdlj_i4"
    },
    {
      "cell_type": "markdown",
      "source": [
        "Now that you've seen the dataset, you might understand why some variables are more heavily correlated then some of the other ones, since we can observe some linear trends between a few of these features.\n",
        "\n",
        "---"
      ],
      "metadata": {
        "id": "8R3wGBAL_swJ"
      },
      "id": "8R3wGBAL_swJ"
    },
    {
      "cell_type": "markdown",
      "source": [
        "#### Part 10: Random forest (ensemble decision tree)\n",
        "\n",
        "[*\\[Related section on Uplimit\\]*](https://corise.com/course/intermediate-python-for-data-science/v2/module/first-algo#corise_clb6d2rjh001a3b6phdxlxc4f)\n",
        "\n",
        "We made use of the regression version of the decision tree this week in CoRise. In this case, we are going to make use of an advanced decision tree, also called a random forest tree. This type of tree is effectively a collection of the best decision trees combined. A great video about it can be found [here](https://youtu.be/w-eWTxbRQcU?t=18). For now, you don't need to go to deep into the details if you just want to be able to use it. This is up to you.\n",
        "\n",
        "First you need to import the [Random Forest Regressor](https://scikit-learn.org/stable/modules/generated/sklearn.ensemble.RandomForestRegressor.html). Please import this down below and assign this to the model variable."
      ],
      "metadata": {
        "id": "UnPrmXnrBrKs"
      },
      "id": "UnPrmXnrBrKs"
    },
    {
      "cell_type": "code",
      "source": [
        "# Get the algorithm\n",
        "from sklearn.ensemble import RandomForestRegressor\n",
        "\n",
        "# Create a regression algorithm\n",
        "model = RandomForestRegressor()"
      ],
      "metadata": {
        "id": "V-t2Lr0_RMfK"
      },
      "id": "V-t2Lr0_RMfK",
      "execution_count": 34,
      "outputs": []
    },
    {
      "cell_type": "markdown",
      "source": [
        "<details>\n",
        "<summary>Show Solution</summary>\n",
        "\n",
        "```python\n",
        "# Get the algo\n",
        "from sklearn.ensemble import RandomForestRegressor # Import algorithm\n",
        "\n",
        "# Create a regression algorithm\n",
        "model = RandomForestRegressor()  # Our algorithm\n",
        "\n",
        "```\n",
        "</details>"
      ],
      "metadata": {
        "id": "e2CXA7L-kPFM"
      },
      "id": "e2CXA7L-kPFM"
    },
    {
      "cell_type": "markdown",
      "source": [
        "#### Part 11: Model training, pt. 1\n",
        "\n",
        "[*\\[Related section on Uplimit\\]*](https://corise.com/course/intermediate-python-for-data-science/v2/module/first-algo#corise_clb6d31ii001c3b6puakbd5ky)\n",
        "\n",
        "Let's train our algorithm using the `X_train` dataset, where we only use the features that are most highly correlated with the target variable.\n",
        "\n",
        "A tip: You might want to use [`np.squeeze()`](https://numpy.org/doc/stable/reference/generated/numpy.squeeze.html) instead for the target variable, when the implementation recommends that you use `ravel()`."
      ],
      "metadata": {
        "id": "lrG5LQejDsDp"
      },
      "id": "lrG5LQejDsDp"
    },
    {
      "cell_type": "code",
      "source": [
        "# Fit the model - Pick two feature that you think are best\n",
        "model.fit(  # Train it (\"Learn the material\")\n",
        "    X_train[[\"price_in_dollar\", \"amenities\"]] , # YOUR CODE HERE\n",
        "    y_train # YOUR CODE HERE\n",
        ")"
      ],
      "metadata": {
        "id": "iYB4TGe8Rb_k",
        "colab": {
          "base_uri": "https://localhost:8080/",
          "height": 75
        },
        "outputId": "f6128d0e-109b-486a-9b3b-f44b392ed9ec"
      },
      "id": "iYB4TGe8Rb_k",
      "execution_count": 37,
      "outputs": [
        {
          "output_type": "execute_result",
          "data": {
            "text/plain": [
              "RandomForestRegressor()"
            ],
            "text/html": [
              "<style>#sk-container-id-1 {color: black;background-color: white;}#sk-container-id-1 pre{padding: 0;}#sk-container-id-1 div.sk-toggleable {background-color: white;}#sk-container-id-1 label.sk-toggleable__label {cursor: pointer;display: block;width: 100%;margin-bottom: 0;padding: 0.3em;box-sizing: border-box;text-align: center;}#sk-container-id-1 label.sk-toggleable__label-arrow:before {content: \"▸\";float: left;margin-right: 0.25em;color: #696969;}#sk-container-id-1 label.sk-toggleable__label-arrow:hover:before {color: black;}#sk-container-id-1 div.sk-estimator:hover label.sk-toggleable__label-arrow:before {color: black;}#sk-container-id-1 div.sk-toggleable__content {max-height: 0;max-width: 0;overflow: hidden;text-align: left;background-color: #f0f8ff;}#sk-container-id-1 div.sk-toggleable__content pre {margin: 0.2em;color: black;border-radius: 0.25em;background-color: #f0f8ff;}#sk-container-id-1 input.sk-toggleable__control:checked~div.sk-toggleable__content {max-height: 200px;max-width: 100%;overflow: auto;}#sk-container-id-1 input.sk-toggleable__control:checked~label.sk-toggleable__label-arrow:before {content: \"▾\";}#sk-container-id-1 div.sk-estimator input.sk-toggleable__control:checked~label.sk-toggleable__label {background-color: #d4ebff;}#sk-container-id-1 div.sk-label input.sk-toggleable__control:checked~label.sk-toggleable__label {background-color: #d4ebff;}#sk-container-id-1 input.sk-hidden--visually {border: 0;clip: rect(1px 1px 1px 1px);clip: rect(1px, 1px, 1px, 1px);height: 1px;margin: -1px;overflow: hidden;padding: 0;position: absolute;width: 1px;}#sk-container-id-1 div.sk-estimator {font-family: monospace;background-color: #f0f8ff;border: 1px dotted black;border-radius: 0.25em;box-sizing: border-box;margin-bottom: 0.5em;}#sk-container-id-1 div.sk-estimator:hover {background-color: #d4ebff;}#sk-container-id-1 div.sk-parallel-item::after {content: \"\";width: 100%;border-bottom: 1px solid gray;flex-grow: 1;}#sk-container-id-1 div.sk-label:hover label.sk-toggleable__label {background-color: #d4ebff;}#sk-container-id-1 div.sk-serial::before {content: \"\";position: absolute;border-left: 1px solid gray;box-sizing: border-box;top: 0;bottom: 0;left: 50%;z-index: 0;}#sk-container-id-1 div.sk-serial {display: flex;flex-direction: column;align-items: center;background-color: white;padding-right: 0.2em;padding-left: 0.2em;position: relative;}#sk-container-id-1 div.sk-item {position: relative;z-index: 1;}#sk-container-id-1 div.sk-parallel {display: flex;align-items: stretch;justify-content: center;background-color: white;position: relative;}#sk-container-id-1 div.sk-item::before, #sk-container-id-1 div.sk-parallel-item::before {content: \"\";position: absolute;border-left: 1px solid gray;box-sizing: border-box;top: 0;bottom: 0;left: 50%;z-index: -1;}#sk-container-id-1 div.sk-parallel-item {display: flex;flex-direction: column;z-index: 1;position: relative;background-color: white;}#sk-container-id-1 div.sk-parallel-item:first-child::after {align-self: flex-end;width: 50%;}#sk-container-id-1 div.sk-parallel-item:last-child::after {align-self: flex-start;width: 50%;}#sk-container-id-1 div.sk-parallel-item:only-child::after {width: 0;}#sk-container-id-1 div.sk-dashed-wrapped {border: 1px dashed gray;margin: 0 0.4em 0.5em 0.4em;box-sizing: border-box;padding-bottom: 0.4em;background-color: white;}#sk-container-id-1 div.sk-label label {font-family: monospace;font-weight: bold;display: inline-block;line-height: 1.2em;}#sk-container-id-1 div.sk-label-container {text-align: center;}#sk-container-id-1 div.sk-container {/* jupyter's `normalize.less` sets `[hidden] { display: none; }` but bootstrap.min.css set `[hidden] { display: none !important; }` so we also need the `!important` here to be able to override the default hidden behavior on the sphinx rendered scikit-learn.org. See: https://github.com/scikit-learn/scikit-learn/issues/21755 */display: inline-block !important;position: relative;}#sk-container-id-1 div.sk-text-repr-fallback {display: none;}</style><div id=\"sk-container-id-1\" class=\"sk-top-container\"><div class=\"sk-text-repr-fallback\"><pre>RandomForestRegressor()</pre><b>In a Jupyter environment, please rerun this cell to show the HTML representation or trust the notebook. <br />On GitHub, the HTML representation is unable to render, please try loading this page with nbviewer.org.</b></div><div class=\"sk-container\" hidden><div class=\"sk-item\"><div class=\"sk-estimator sk-toggleable\"><input class=\"sk-toggleable__control sk-hidden--visually\" id=\"sk-estimator-id-1\" type=\"checkbox\" checked><label for=\"sk-estimator-id-1\" class=\"sk-toggleable__label sk-toggleable__label-arrow\">RandomForestRegressor</label><div class=\"sk-toggleable__content\"><pre>RandomForestRegressor()</pre></div></div></div></div></div>"
            ]
          },
          "metadata": {},
          "execution_count": 37
        }
      ]
    },
    {
      "cell_type": "markdown",
      "source": [
        "<details>\n",
        "<summary>Show Solution</summary>\n",
        "\n",
        "```python\n",
        "model.fit(  # Train it (\"Learn the material\")\n",
        "    X_train[[\"price_in_dollar\", \"amenities\"]],\n",
        "    np.squeeze(y_train),\n",
        ")\n",
        "\n",
        "```\n",
        "</details>"
      ],
      "metadata": {
        "id": "nv7qEsOGljJX"
      },
      "id": "nv7qEsOGljJX"
    },
    {
      "cell_type": "markdown",
      "source": [
        "#### Part 12: The right metric\n",
        "\n",
        "[*\\[Related section on Uplimit\\]*](https://corise.com/course/intermediate-python-for-data-science/v2/module/first-algo#corise_clb6ddarz00013b6ptkip7xz9)\n",
        "\n",
        "Let's re-use the [$R^2$ score metric](https://scikit-learn.org/stable/modules/generated/sklearn.metrics.r2_score.html) for now because it seems quite intuitive. There are [many other metrics](https://www.qualdo.ai/blog/complete-list-of-performance-metrics-for-monitoring-regression-models/) that you might preferably use otherwise. However, that is not the goal of this project 😁."
      ],
      "metadata": {
        "id": "ZMEipRclEzKn"
      },
      "id": "ZMEipRclEzKn"
    },
    {
      "cell_type": "code",
      "source": [
        "# Get the R2 metric\n",
        "from sklearn.metrics import r2_score"
      ],
      "metadata": {
        "id": "CfcQWRjgRkz3"
      },
      "id": "CfcQWRjgRkz3",
      "execution_count": 38,
      "outputs": []
    },
    {
      "cell_type": "markdown",
      "source": [
        "<details>\n",
        "<summary>Show Solution</summary>\n",
        "\n",
        "```python\n",
        "from sklearn.metrics import r2_score\n",
        "\n",
        "```\n",
        "</details>"
      ],
      "metadata": {
        "id": "5h59e3k0lz_U"
      },
      "id": "5h59e3k0lz_U"
    },
    {
      "cell_type": "markdown",
      "source": [
        "#### Part 13: Predict and SCORE!!!\n",
        "\n",
        "[*\\[Related section on Uplimit\\]*](https://corise.com/course/intermediate-python-for-data-science/v2/module/first-algo#corise_clb6ddarz00013b6ptkip7xz9)\n",
        "\n",
        "Since we trained our model, let's use it to make predictions with examples of the validation set."
      ],
      "metadata": {
        "id": "xlOPj2lbFXBY"
      },
      "id": "xlOPj2lbFXBY"
    },
    {
      "cell_type": "code",
      "source": [
        "# Predict\n",
        "y_predict = model.predict(X_val[[\"price_in_dollar\", \"amenities\"]])"
      ],
      "metadata": {
        "id": "2xaGh1nCRwoW"
      },
      "id": "2xaGh1nCRwoW",
      "execution_count": 39,
      "outputs": []
    },
    {
      "cell_type": "markdown",
      "source": [
        "<details>\n",
        "<summary>Show Solution</summary>\n",
        "\n",
        "```python\n",
        "y_predict = model.predict(X_val[[\"price_in_dollar\", \"amenities\"]])\n",
        "\n",
        "```\n",
        "</details>"
      ],
      "metadata": {
        "id": "yCPZzVP1mOLF"
      },
      "id": "yCPZzVP1mOLF"
    },
    {
      "cell_type": "markdown",
      "source": [
        "Now let's use these predictions to calculate our $R^2$ score and round it off by four digits!"
      ],
      "metadata": {
        "id": "x1Yvis2EGEMy"
      },
      "id": "x1Yvis2EGEMy"
    },
    {
      "cell_type": "code",
      "source": [
        "r2_score(y_predict, y_val).round(4)"
      ],
      "metadata": {
        "id": "qDygayfzR2V1",
        "colab": {
          "base_uri": "https://localhost:8080/"
        },
        "outputId": "6ddeba68-e717-4be1-bf5f-d2f8ca9e12aa"
      },
      "id": "qDygayfzR2V1",
      "execution_count": 40,
      "outputs": [
        {
          "output_type": "execute_result",
          "data": {
            "text/plain": [
              "0.7859"
            ]
          },
          "metadata": {},
          "execution_count": 40
        }
      ]
    },
    {
      "cell_type": "markdown",
      "source": [
        "<details>\n",
        "<summary>Show Solution</summary>\n",
        "\n",
        "```python\n",
        "r2_score(y_predict, y_val).round(4)\n",
        "\n",
        "```\n",
        "</details>"
      ],
      "metadata": {
        "id": "IuXXsbDQmevk"
      },
      "id": "IuXXsbDQmevk"
    },
    {
      "cell_type": "markdown",
      "source": [
        "Awesome, the scoring is quite good! Let's try some other features as well!"
      ],
      "metadata": {
        "id": "hkZ74mnSGBmn"
      },
      "id": "hkZ74mnSGBmn"
    },
    {
      "cell_type": "markdown",
      "source": [
        "---\n",
        "\n",
        "#### (Optional) Part 14: Model training, pt. 2\n",
        "\n",
        "[*\\[Related section on Uplimit\\]*](https://corise.com/course/intermediate-python-for-data-science/v2/module/first-algo#corise_clb6efuo7000m3b6pq8glle9v)\n",
        "\n",
        "Please use some other features that you think might be interesting for training. What happens if you use an extra feature? What happens if you use a lowly correlated feature? What happens if you use all features?"
      ],
      "metadata": {
        "id": "O8fhHcnfGaHL"
      },
      "id": "O8fhHcnfGaHL"
    },
    {
      "cell_type": "code",
      "source": [
        "# Repeat the previous four cells (Parts 11 until 13)\n",
        "# Choose some other features\n",
        "# Fit, Predict, Score\n",
        "\n",
        "# features = [\"price_in_dollar\", \"amenities\", \"room_type_Shared room\"]\n",
        "# features = [\"price_in_dollar\", \"amenities\", \"accommodates\", \"review_scores_rating\", \"instant_bookable\"]\n",
        "# features = [\"accommodates\", \"review_scores_rating\", \"instant_bookable\"]\n",
        "features = X_train.columns\n",
        "\n",
        "model.fit(  # Train it (\"Learn the material\")\n",
        "    X_train[features] , # YOUR CODE HERE\n",
        "    y_train # YOUR CODE HERE\n",
        ")\n",
        "\n",
        "y_predict = model.predict(X_val[features])\n",
        "\n",
        "r2_score(y_predict, y_val).round(4)"
      ],
      "metadata": {
        "id": "BZmEIxN6R_sQ",
        "colab": {
          "base_uri": "https://localhost:8080/"
        },
        "outputId": "f8b69a87-9a24-427f-e8a2-0a99c47984fa"
      },
      "id": "BZmEIxN6R_sQ",
      "execution_count": 46,
      "outputs": [
        {
          "output_type": "execute_result",
          "data": {
            "text/plain": [
              "0.8437"
            ]
          },
          "metadata": {},
          "execution_count": 46
        }
      ]
    },
    {
      "cell_type": "markdown",
      "source": [
        "<details>\n",
        "<summary>Show Solution</summary>\n",
        "\n",
        "```python\n",
        "\n",
        "# Fit the model - Pick two feature that you think are best\n",
        "model.fit(  # Train it (\"Learn the material\")\n",
        "    X_train[[\"price_in_dollar\", \"accommodates\", \"room_type_Shared room\"]],\n",
        "    np.squeeze(y_train),\n",
        ")\n",
        "\n",
        "# Predict\n",
        "y_predict = model.predict(X_val[[\"price_in_dollar\", \"accommodates\", \"room_type_Shared room\"]])  # Do a \"final exam\"\n",
        "\n",
        "# Score\n",
        "# Compare algorithms' \"final exam\" vs. expected.\n",
        "r2_score(y_predict, y_val).round(4)\n",
        "\n",
        "```\n",
        "</details>"
      ],
      "metadata": {
        "id": "csLV6-6snCFk"
      },
      "id": "csLV6-6snCFk"
    },
    {
      "cell_type": "markdown",
      "source": [
        "---\n",
        "\n",
        "#### Part 15: Model training, pt. 3\n",
        "\n",
        "[*\\[Related section on CoRise\\]*](https://corise.com/course/intermediate-python-for-data-science/v2/module/first-algo#corise_clb69avws000b3b6p3n75ex8r)\n",
        "\n",
        "Select the three features \"amenities\", \"accommodates\", and \"instant_bookable\" for training and creating predictions for our model."
      ],
      "metadata": {
        "id": "YEHa1fxmG-by"
      },
      "id": "YEHa1fxmG-by"
    },
    {
      "cell_type": "code",
      "source": [
        "# Repeat the previous four cells (Parts 11 until 13)\n",
        "# Choose the three features\n",
        "# Fit, Predict, Score\n",
        "\n",
        "features = [\"amenities\", \"accommodates\", \"instant_bookable\"]\n",
        "\n",
        "model.fit(X_train[features], y_train)\n",
        "y_predict = model.predict(X_val[features])\n",
        "r2_score(y_predict, y_val).round(4)"
      ],
      "metadata": {
        "id": "MeRgPAxjSN1j",
        "colab": {
          "base_uri": "https://localhost:8080/"
        },
        "outputId": "565ce559-8f54-43e3-b8ae-984da9d46f00"
      },
      "id": "MeRgPAxjSN1j",
      "execution_count": 48,
      "outputs": [
        {
          "output_type": "execute_result",
          "data": {
            "text/plain": [
              "0.5946"
            ]
          },
          "metadata": {},
          "execution_count": 48
        }
      ]
    },
    {
      "cell_type": "markdown",
      "source": [
        "<details>\n",
        "<summary>Show Solution</summary>\n",
        "\n",
        "```python\n",
        "# Fit, Predict, Score\n",
        "model.fit(  # Train it (\"Learn the material\")\n",
        "    X_train[[\"amenities\", \"accommodates\", \"instant_bookable\"]],\n",
        "    np.squeeze(y_train),\n",
        ")\n",
        "\n",
        "# Predict\n",
        "y_predict = model.predict(X_test[[\"amenities\", \"accommodates\", \"instant_bookable\"]])  # Do a \"final exam\"\n",
        "\n",
        "# Score\n",
        "# Compare algorithms' \"final exam\" vs. expected.\n",
        "r2_score(y_predict, y_test).round(4)\n",
        "\n",
        "\n",
        "```\n",
        "</details>"
      ],
      "metadata": {
        "id": "HuqQD_tankNd"
      },
      "id": "HuqQD_tankNd"
    },
    {
      "cell_type": "markdown",
      "source": [
        "#### Part 16: Example prediction\n",
        "\n",
        "[*\\[Related section on CoRise\\]*](https://corise.com/course/intermediate-python-for-data-science/v2/module/first-algo#corise_clb6f288g001d3b6pgf67w0uk)\n",
        "\n",
        "We've trained a model using three features. Now let's create an example based on these three features and inspect the kind of average tip the model would expect!"
      ],
      "metadata": {
        "id": "vIBePV2WHVCF"
      },
      "id": "vIBePV2WHVCF"
    },
    {
      "cell_type": "code",
      "source": [
        "# Predict a listing price based on \"50\" amenities, \"4\" accommodates, instant_bookable=True (1)\n",
        "example = [[50, 4, 1]] # YOUR CODE HERE\n",
        "\n",
        "# Round off by 2\n",
        "model.predict(example).round(2)"
      ],
      "metadata": {
        "id": "uVVZmPpnSZ0C",
        "colab": {
          "base_uri": "https://localhost:8080/"
        },
        "outputId": "3d5d7f57-e068-4f97-a92a-391ea05e18dc"
      },
      "id": "uVVZmPpnSZ0C",
      "execution_count": 49,
      "outputs": [
        {
          "output_type": "stream",
          "name": "stderr",
          "text": [
            "/usr/local/lib/python3.10/dist-packages/sklearn/base.py:409: UserWarning:\n",
            "\n",
            "X does not have valid feature names, but RandomForestRegressor was fitted with feature names\n",
            "\n"
          ]
        },
        {
          "output_type": "execute_result",
          "data": {
            "text/plain": [
              "array([30.13])"
            ]
          },
          "metadata": {},
          "execution_count": 49
        }
      ]
    },
    {
      "cell_type": "markdown",
      "source": [
        "<details>\n",
        "<summary>Show Solution</summary>\n",
        "\n",
        "```python\n",
        "example = [[20, 4, 1]]\n",
        "\n",
        "model.predict(example).round(2)\n",
        "\n",
        "```\n",
        "</details>"
      ],
      "metadata": {
        "id": "Sgzx-5mooDJf"
      },
      "id": "Sgzx-5mooDJf"
    },
    {
      "cell_type": "markdown",
      "source": [
        "Awesome! Today you've made a machine learning project by using NumPy, Pandas, Plotly, and Scikit-learn to create predictions given the Airbnb dataset! This is a simplified version of a professional workflow, but that is often how companies start — first by doing the bare minimum, and then expanding the complexity of the model. That way you can have something up-and-running quickly that steadily improves with a very quick feedback loop!\n",
        "\n",
        "Now as an extra we'll explore how to deploy this model as a Streamlit app!"
      ],
      "metadata": {
        "id": "SWpIjbkiKvcj"
      },
      "id": "SWpIjbkiKvcj"
    },
    {
      "cell_type": "markdown",
      "source": [
        "### (Optional) Make an app for your portfolio!\n",
        "\n",
        "<center>\n",
        "  <img src=https://griddb-pro.azureedge.net/en/wp-content/uploads/2021/08/streamlit-1160x650.png width=\"500\" align=\"center\" />\n",
        "</center>\n",
        "<br/>\n",
        "\n",
        "**Participants such as yourselves often want to use the weekly CoRise projects for their portfolios. To facilitate that, we've created this section. It might seem like a lot, but it's actually just following instructions and copy-pasting. Reach out on Slack if you get stuck!**\n",
        "\n",
        "You will make an app that uses the model you just created, encapsulates that in a neat Streamlit interface, where you can provide input through the use of sliders!\n",
        "\n",
        "<!-- <center>\n",
        "  <img src=https://i.ibb.co/N9JKbd8/Screen-Shot-2022-11-10-at-4- width=\"500\" align=\"center\" />\n",
        "</center>\n",
        "<br/> -->\n",
        "\n",
        "To visualize this, we will again use a library called [Streamlit](https://streamlit.io/). For now you are not expected to know how Streamlit works, but you are expected to be able to copy-paste and follow instructions if you want to share this project as part of your portfolio!\n",
        "\n",
        "We are going to use [Streamlit Share](https://share.streamlit.io/) to host your projects. It's a website that allows us to host our interactive projects for free online! Again, we don't expect you to understand how to use and/or modify the code we will show below. We do expect you to read the instructions and copy-paste our code to the Streamlit Share platform. Feel free to change it any way you like. Some great starting points are [here](https://python.plainenglish.io/how-to-build-web-app-using-streamlit-pandas-numpy-5e134f0cf552), [here](https://docs.streamlit.io/library/get-started/create-an-app), [here](https://streamlit.io/components), and [here](https://streamlit.io/gallery)!"
      ],
      "metadata": {
        "id": "PvhgbGXiLVTc"
      },
      "id": "PvhgbGXiLVTc"
    },
    {
      "cell_type": "code",
      "source": [
        "import pickle\n",
        "\n",
        "pickle.dump(model, open(\"model.pkl\", \"wb\"))"
      ],
      "metadata": {
        "id": "4AVyiZlPvLcZ"
      },
      "id": "4AVyiZlPvLcZ",
      "execution_count": 50,
      "outputs": []
    },
    {
      "cell_type": "code",
      "source": [
        "from google.colab import files\n",
        "\n",
        "# Download the file locally\n",
        "files.download('model.pkl')"
      ],
      "metadata": {
        "id": "Z1-BMQx4vhkM",
        "colab": {
          "base_uri": "https://localhost:8080/",
          "height": 17
        },
        "outputId": "717e15f8-a849-4cc6-c84c-3056cdae7c89"
      },
      "id": "Z1-BMQx4vhkM",
      "execution_count": 51,
      "outputs": [
        {
          "output_type": "display_data",
          "data": {
            "text/plain": [
              "<IPython.core.display.Javascript object>"
            ],
            "application/javascript": [
              "\n",
              "    async function download(id, filename, size) {\n",
              "      if (!google.colab.kernel.accessAllowed) {\n",
              "        return;\n",
              "      }\n",
              "      const div = document.createElement('div');\n",
              "      const label = document.createElement('label');\n",
              "      label.textContent = `Downloading \"${filename}\": `;\n",
              "      div.appendChild(label);\n",
              "      const progress = document.createElement('progress');\n",
              "      progress.max = size;\n",
              "      div.appendChild(progress);\n",
              "      document.body.appendChild(div);\n",
              "\n",
              "      const buffers = [];\n",
              "      let downloaded = 0;\n",
              "\n",
              "      const channel = await google.colab.kernel.comms.open(id);\n",
              "      // Send a message to notify the kernel that we're ready.\n",
              "      channel.send({})\n",
              "\n",
              "      for await (const message of channel.messages) {\n",
              "        // Send a message to notify the kernel that we're ready.\n",
              "        channel.send({})\n",
              "        if (message.buffers) {\n",
              "          for (const buffer of message.buffers) {\n",
              "            buffers.push(buffer);\n",
              "            downloaded += buffer.byteLength;\n",
              "            progress.value = downloaded;\n",
              "          }\n",
              "        }\n",
              "      }\n",
              "      const blob = new Blob(buffers, {type: 'application/binary'});\n",
              "      const a = document.createElement('a');\n",
              "      a.href = window.URL.createObjectURL(blob);\n",
              "      a.download = filename;\n",
              "      div.appendChild(a);\n",
              "      a.click();\n",
              "      div.remove();\n",
              "    }\n",
              "  "
            ]
          },
          "metadata": {}
        },
        {
          "output_type": "display_data",
          "data": {
            "text/plain": [
              "<IPython.core.display.Javascript object>"
            ],
            "application/javascript": [
              "download(\"download_1a4df8fc-796b-447c-869f-a1cb05d606a4\", \"model.pkl\", 7102244)"
            ]
          },
          "metadata": {}
        }
      ]
    },
    {
      "cell_type": "code",
      "source": [
        "%%writefile streamlit_app.py\n",
        "import streamlit as st\n",
        "import sklearn\n",
        "import pickle\n",
        "\n",
        "model = pickle.load(open(\"model.pkl\", \"rb\"))\n",
        "\n",
        "st.title(\"Week 2: The Airbnb dataset of Amsterdam\")\n",
        "st.markdown(\n",
        "    \"The dataset contains modifications with regards to the original for illustrative & learning purposes\"\n",
        ")\n",
        "\n",
        "amenities = st.slider('How many amenities does the listing have?', 0, 50, 20)\n",
        "accommodates = st.slider('How many people does the listing accommodate?', 1, 16, 2)\n",
        "instant_bookable = st.radio(\n",
        "    \"Is the listing instantly bookable?\",\n",
        "    (\"True\", \"False\"))\n",
        "instant_bookable = 1 if instant_bookable == \"True\" else 0\n",
        "\n",
        "user_input = [[amenities, accommodates, instant_bookable]]\n",
        "\n",
        "if st.button('Predict?'):\n",
        "    st.write(\"The model predicts that the average tip for this listing is:\", model.predict(user_input).round(2))"
      ],
      "metadata": {
        "id": "iu9zLIbXpwmy",
        "colab": {
          "base_uri": "https://localhost:8080/"
        },
        "outputId": "f09d17da-0f8e-4705-c96d-29e569dc40b4"
      },
      "id": "iu9zLIbXpwmy",
      "execution_count": 52,
      "outputs": [
        {
          "output_type": "stream",
          "name": "stdout",
          "text": [
            "Writing streamlit_app.py\n"
          ]
        }
      ]
    },
    {
      "cell_type": "markdown",
      "source": [
        "The **%%writefile [FILE_NAME].[FILE_EXTENSION]** command let's us save the code written in the cells in your Google Colab instance. Having it saved like that enables us to download it as a file, as seen below:"
      ],
      "metadata": {
        "id": "_AYCGSIhLvnL"
      },
      "id": "_AYCGSIhLvnL"
    },
    {
      "cell_type": "code",
      "source": [
        "from google.colab import files\n",
        "\n",
        "# Download the file locally\n",
        "files.download('streamlit_app.py')"
      ],
      "metadata": {
        "id": "23mmiMQctwLM",
        "colab": {
          "base_uri": "https://localhost:8080/",
          "height": 17
        },
        "outputId": "faa58fe0-7fc3-49b2-b252-79294798eab7"
      },
      "id": "23mmiMQctwLM",
      "execution_count": 53,
      "outputs": [
        {
          "output_type": "display_data",
          "data": {
            "text/plain": [
              "<IPython.core.display.Javascript object>"
            ],
            "application/javascript": [
              "\n",
              "    async function download(id, filename, size) {\n",
              "      if (!google.colab.kernel.accessAllowed) {\n",
              "        return;\n",
              "      }\n",
              "      const div = document.createElement('div');\n",
              "      const label = document.createElement('label');\n",
              "      label.textContent = `Downloading \"${filename}\": `;\n",
              "      div.appendChild(label);\n",
              "      const progress = document.createElement('progress');\n",
              "      progress.max = size;\n",
              "      div.appendChild(progress);\n",
              "      document.body.appendChild(div);\n",
              "\n",
              "      const buffers = [];\n",
              "      let downloaded = 0;\n",
              "\n",
              "      const channel = await google.colab.kernel.comms.open(id);\n",
              "      // Send a message to notify the kernel that we're ready.\n",
              "      channel.send({})\n",
              "\n",
              "      for await (const message of channel.messages) {\n",
              "        // Send a message to notify the kernel that we're ready.\n",
              "        channel.send({})\n",
              "        if (message.buffers) {\n",
              "          for (const buffer of message.buffers) {\n",
              "            buffers.push(buffer);\n",
              "            downloaded += buffer.byteLength;\n",
              "            progress.value = downloaded;\n",
              "          }\n",
              "        }\n",
              "      }\n",
              "      const blob = new Blob(buffers, {type: 'application/binary'});\n",
              "      const a = document.createElement('a');\n",
              "      a.href = window.URL.createObjectURL(blob);\n",
              "      a.download = filename;\n",
              "      div.appendChild(a);\n",
              "      a.click();\n",
              "      div.remove();\n",
              "    }\n",
              "  "
            ]
          },
          "metadata": {}
        },
        {
          "output_type": "display_data",
          "data": {
            "text/plain": [
              "<IPython.core.display.Javascript object>"
            ],
            "application/javascript": [
              "download(\"download_53b01ab8-e870-41d8-bf6a-869b573b38a9\", \"streamlit_app.py\", 788)"
            ]
          },
          "metadata": {}
        }
      ]
    },
    {
      "cell_type": "code",
      "source": [
        "%%writefile requirements.txt\n",
        "streamlit\n",
        "pandas\n",
        "scikit-learn"
      ],
      "metadata": {
        "id": "9dXqVGYRuEIL",
        "colab": {
          "base_uri": "https://localhost:8080/"
        },
        "outputId": "d1aee1d7-7630-4642-90a1-5ba93d199653"
      },
      "id": "9dXqVGYRuEIL",
      "execution_count": 54,
      "outputs": [
        {
          "output_type": "stream",
          "name": "stdout",
          "text": [
            "Writing requirements.txt\n"
          ]
        }
      ]
    },
    {
      "cell_type": "code",
      "source": [
        "from google.colab import files\n",
        "\n",
        "# Download the file locally\n",
        "files.download('requirements.txt')"
      ],
      "metadata": {
        "id": "3ViZ7akAuM3t",
        "colab": {
          "base_uri": "https://localhost:8080/",
          "height": 17
        },
        "outputId": "1a084642-0c63-4e3a-b9cb-8fe9cb856121"
      },
      "id": "3ViZ7akAuM3t",
      "execution_count": 55,
      "outputs": [
        {
          "output_type": "display_data",
          "data": {
            "text/plain": [
              "<IPython.core.display.Javascript object>"
            ],
            "application/javascript": [
              "\n",
              "    async function download(id, filename, size) {\n",
              "      if (!google.colab.kernel.accessAllowed) {\n",
              "        return;\n",
              "      }\n",
              "      const div = document.createElement('div');\n",
              "      const label = document.createElement('label');\n",
              "      label.textContent = `Downloading \"${filename}\": `;\n",
              "      div.appendChild(label);\n",
              "      const progress = document.createElement('progress');\n",
              "      progress.max = size;\n",
              "      div.appendChild(progress);\n",
              "      document.body.appendChild(div);\n",
              "\n",
              "      const buffers = [];\n",
              "      let downloaded = 0;\n",
              "\n",
              "      const channel = await google.colab.kernel.comms.open(id);\n",
              "      // Send a message to notify the kernel that we're ready.\n",
              "      channel.send({})\n",
              "\n",
              "      for await (const message of channel.messages) {\n",
              "        // Send a message to notify the kernel that we're ready.\n",
              "        channel.send({})\n",
              "        if (message.buffers) {\n",
              "          for (const buffer of message.buffers) {\n",
              "            buffers.push(buffer);\n",
              "            downloaded += buffer.byteLength;\n",
              "            progress.value = downloaded;\n",
              "          }\n",
              "        }\n",
              "      }\n",
              "      const blob = new Blob(buffers, {type: 'application/binary'});\n",
              "      const a = document.createElement('a');\n",
              "      a.href = window.URL.createObjectURL(blob);\n",
              "      a.download = filename;\n",
              "      div.appendChild(a);\n",
              "      a.click();\n",
              "      div.remove();\n",
              "    }\n",
              "  "
            ]
          },
          "metadata": {}
        },
        {
          "output_type": "display_data",
          "data": {
            "text/plain": [
              "<IPython.core.display.Javascript object>"
            ],
            "application/javascript": [
              "download(\"download_c5bdf17f-9596-4248-96b3-397fede198c5\", \"requirements.txt\", 30)"
            ]
          },
          "metadata": {}
        }
      ]
    },
    {
      "cell_type": "markdown",
      "source": [
        "Please verify that you've downloaded three files:\n",
        "- `model.pkl`\n",
        "- `streamlit_app.py`\n",
        "- `requirements.txt`\n",
        "\n",
        "Now let's head over to GitHub and [create an account](https://github.com/signup).\n",
        "\n",
        "Then, since you are logged in [go to GitHub.com](https://github.com) and click on the **+** icon at the top-right corner and select **New repository**.\n",
        "\n",
        "<center>\n",
        "  <img src=https://i.ibb.co/4gkPBCp/Screen-Shot-2022-11-28-at-1-51-02-PM.png width=\"300\" align=\"center\" />\n",
        "</center>\n",
        "<br/>\n",
        "\n",
        "Here you provide:\n",
        "- **Repository name**: Up to you\n",
        "- **License**: Up to you. We recommend **apache-2.0**.\n",
        "\n",
        "- **Public or private?** Public, otherwise you can't host it on [Streamlit Share](https://share.streamlit.io)!\n",
        "\n",
        "<center>\n",
        "  <img src=https://i.ibb.co/0B533dw/Screen-Shot-2022-11-28-at-1-55-14-PM.png width=\"450\" align=\"center\" />\n",
        "</center>\n",
        "<br/>\n",
        "\n",
        "Then upload the three files to this URL below. ***Please modify it before copy-pasting it***:\n",
        "\n",
        "```https://github.com/[YOUR_ACCOUNT_NAME]/[YOUR_REPOSITORY_NAME]/upload/main```\n",
        "\n",
        "<center>\n",
        "  <img src=https://i.ibb.co/jTsrgJw/Screen-Shot-2022-11-28-at-1-58-31-PM.png width=\"500\" align=\"center\" />\n",
        "</center>\n",
        "<br/>\n",
        "\n",
        "Commit directly to the `main` branch, then click **Commit changes**.\n",
        "\n",
        "Next, you have to create an account on [Streamlit Share](https://share.streamlit.io/signup).\n",
        "\n",
        "<center>\n",
        "  <img src=https://i.ibb.co/znFngJc/Screen-Shot-2022-11-28-at-1-59-47-PM.png width=\"500\" align=\"center\" />\n",
        "</center>\n",
        "<br/>\n",
        "\n",
        "It's recommended to click **Continue with GitHub**.\n",
        "\n",
        "Then, select **New app** **>** **Deploy a new app...** **>** **From existing repo**.\n",
        "\n",
        "<center>\n",
        "  <img src=https://i.ibb.co/VQPQzt3/Screen-Shot-2022-11-28-at-2-05-04-PM.png width=\"500\" align=\"center\" />\n",
        "</center>\n",
        "\n",
        "Followed by providing your:\n",
        "\n",
        "```[GITHUB_ACCOUNT_NAME]/[GITHUB_REPOSITORY]```\n",
        "\n",
        "<center>\n",
        "  <img src=https://i.ibb.co/PDSQccD/Screen-Shot-2022-11-28-at-2-10-47-PM.png width=\"500\" align=\"center\" />\n",
        "</center>\n",
        "\n",
        "You will have to wait around 1-5 minutes, then an automatic hyperlink is generated for your new website. An example is this app:\n",
        "\n",
        "```https://[GITHUB_ACCOUNT_NAME]-[GITHUB_REPOSITORY]-[RANDOM_6_LETTER_STRING].streamlit.app/```\n",
        "\n",
        "***Please modify the link before copy-pasting it.***"
      ],
      "metadata": {
        "id": "5STbAwboLzCY"
      },
      "id": "5STbAwboLzCY"
    },
    {
      "cell_type": "markdown",
      "source": [
        "---\n",
        "\n",
        "# 🎉 CONGRATULATIONS!!!\n",
        "\n",
        "You've made it to the end of the Week 2 assignment! You should be proud.\n",
        "\n",
        "If you have any lingering questions, post them on Slack! As you know, we're always here to help.\n",
        "\n",
        "And if you want any additional challenge questions, check out the bonus extensions below.\n",
        "\n",
        "---\n",
        "\n",
        "## (Optional) Extensions\n",
        "\n",
        "<center>\n",
        "  <img src=https://upload.wikimedia.org/wikipedia/commons/c/c6/Celebration_fireworks.jpg width=\"500\" align=\"center\" />\n",
        "</center>\n",
        "<br/>\n",
        "\n",
        "🎉🎉 Amazing 🎉🎉 You completed this week's project! Have you thought about extending this project and try some extensions like:\n",
        "\n",
        "- Using different [regression algorithms](https://towardsdatascience.com/choosing-a-scikit-learn-linear-regression-algorithm-dd96b48105f5) from the Scikit-learn toolkit!\n",
        "- Using [different metrics](https://www.qualdo.ai/blog/complete-list-of-performance-metrics-for-monitoring-regression-models/) for the model?\n",
        "- Train the model on different features and modify the Streamlit app to reflect that?\n",
        "- ...\n",
        "\n",
        "The possibilities are endless!\n",
        "\n",
        "# Next up?\n",
        "Next week we will ramp up our knowledge of Scikit-learn and introduce some other new algorithms! While this week was focused on supervised machine learning problems, regression in particular, next week is more focused on classification and a a few unsupervised algorithms!"
      ],
      "metadata": {
        "id": "hnwmZSP1L_7M"
      },
      "id": "hnwmZSP1L_7M"
    }
  ],
  "metadata": {
    "kernelspec": {
      "display_name": "Python 3 (ipykernel)",
      "language": "python",
      "name": "python3"
    },
    "language_info": {
      "codemirror_mode": {
        "name": "ipython",
        "version": 3
      },
      "file_extension": ".py",
      "mimetype": "text/x-python",
      "name": "python",
      "nbconvert_exporter": "python",
      "pygments_lexer": "ipython3",
      "version": "3.10.4"
    },
    "colab": {
      "provenance": [],
      "include_colab_link": true
    }
  },
  "nbformat": 4,
  "nbformat_minor": 5
}